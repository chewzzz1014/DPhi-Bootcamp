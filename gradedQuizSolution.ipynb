{
  "nbformat": 4,
  "nbformat_minor": 0,
  "metadata": {
    "colab": {
      "name": "gradedQuizSolution.ipynb",
      "provenance": [],
      "authorship_tag": "ABX9TyPUkc92ybLKxIcKkwPsnN0N",
      "include_colab_link": true
    },
    "kernelspec": {
      "name": "python3",
      "display_name": "Python 3"
    },
    "language_info": {
      "name": "python"
    }
  },
  "cells": [
    {
      "cell_type": "markdown",
      "metadata": {
        "id": "view-in-github",
        "colab_type": "text"
      },
      "source": [
        "<a href=\"https://colab.research.google.com/github/chewzzz1014/DPhi-Bootcamp/blob/master/gradedQuizSolution.ipynb\" target=\"_parent\"><img src=\"https://colab.research.google.com/assets/colab-badge.svg\" alt=\"Open In Colab\"/></a>"
      ]
    },
    {
      "cell_type": "markdown",
      "source": [
        "My Solution for Graded Quiz, IITB Data Science Bootcamp provided by DPHi"
      ],
      "metadata": {
        "id": "IjOp1rv7GJWJ"
      }
    },
    {
      "cell_type": "code",
      "execution_count": 2,
      "metadata": {
        "id": "k873hTEvBUoy"
      },
      "outputs": [],
      "source": [
        "import pandas as pd \n",
        "import numpy as np\n",
        "import matplotlib.pyplot as plt"
      ]
    },
    {
      "cell_type": "code",
      "source": [
        "df = pd.read_csv(\"https://raw.githubusercontent.com/dphi-official/Assignment_Solutions/master/Standard%20Metropolitan%20Areas%20Data%20-%20train_data%20-%20data.csv\")"
      ],
      "metadata": {
        "id": "ZupuNiy6Bi3a"
      },
      "execution_count": 3,
      "outputs": []
    },
    {
      "cell_type": "code",
      "source": [
        "df.head()"
      ],
      "metadata": {
        "colab": {
          "base_uri": "https://localhost:8080/",
          "height": 270
        },
        "id": "QfuaQ1ueC19o",
        "outputId": "1adadca4-7c29-439b-9b7e-12b70f9ff78a"
      },
      "execution_count": 13,
      "outputs": [
        {
          "output_type": "execute_result",
          "data": {
            "text/plain": [
              "   land_area  percent_city  percent_senior  physicians  hospital_beds  \\\n",
              "0       1384          78.1            12.3       25627          69678   \n",
              "1       3719          43.9             9.4       13326          43292   \n",
              "2       3553          37.4            10.7        9724          33731   \n",
              "3       3916          29.9             8.8        6402          24167   \n",
              "4       2480          31.5            10.5        8502          16751   \n",
              "\n",
              "   graduates  work_force  income  region  crime_rate  \n",
              "0       50.1      4083.9   72100       1       75.55  \n",
              "1       53.9      3305.9   54542       2       56.03  \n",
              "2       50.6      2066.3   33216       1       41.32  \n",
              "3       52.2      1966.7   32906       2       67.38  \n",
              "4       66.1      1514.5   26573       4       80.19  "
            ],
            "text/html": [
              "\n",
              "  <div id=\"df-d4e524d0-3bce-4b4a-af41-9083ce3ab619\">\n",
              "    <div class=\"colab-df-container\">\n",
              "      <div>\n",
              "<style scoped>\n",
              "    .dataframe tbody tr th:only-of-type {\n",
              "        vertical-align: middle;\n",
              "    }\n",
              "\n",
              "    .dataframe tbody tr th {\n",
              "        vertical-align: top;\n",
              "    }\n",
              "\n",
              "    .dataframe thead th {\n",
              "        text-align: right;\n",
              "    }\n",
              "</style>\n",
              "<table border=\"1\" class=\"dataframe\">\n",
              "  <thead>\n",
              "    <tr style=\"text-align: right;\">\n",
              "      <th></th>\n",
              "      <th>land_area</th>\n",
              "      <th>percent_city</th>\n",
              "      <th>percent_senior</th>\n",
              "      <th>physicians</th>\n",
              "      <th>hospital_beds</th>\n",
              "      <th>graduates</th>\n",
              "      <th>work_force</th>\n",
              "      <th>income</th>\n",
              "      <th>region</th>\n",
              "      <th>crime_rate</th>\n",
              "    </tr>\n",
              "  </thead>\n",
              "  <tbody>\n",
              "    <tr>\n",
              "      <th>0</th>\n",
              "      <td>1384</td>\n",
              "      <td>78.1</td>\n",
              "      <td>12.3</td>\n",
              "      <td>25627</td>\n",
              "      <td>69678</td>\n",
              "      <td>50.1</td>\n",
              "      <td>4083.9</td>\n",
              "      <td>72100</td>\n",
              "      <td>1</td>\n",
              "      <td>75.55</td>\n",
              "    </tr>\n",
              "    <tr>\n",
              "      <th>1</th>\n",
              "      <td>3719</td>\n",
              "      <td>43.9</td>\n",
              "      <td>9.4</td>\n",
              "      <td>13326</td>\n",
              "      <td>43292</td>\n",
              "      <td>53.9</td>\n",
              "      <td>3305.9</td>\n",
              "      <td>54542</td>\n",
              "      <td>2</td>\n",
              "      <td>56.03</td>\n",
              "    </tr>\n",
              "    <tr>\n",
              "      <th>2</th>\n",
              "      <td>3553</td>\n",
              "      <td>37.4</td>\n",
              "      <td>10.7</td>\n",
              "      <td>9724</td>\n",
              "      <td>33731</td>\n",
              "      <td>50.6</td>\n",
              "      <td>2066.3</td>\n",
              "      <td>33216</td>\n",
              "      <td>1</td>\n",
              "      <td>41.32</td>\n",
              "    </tr>\n",
              "    <tr>\n",
              "      <th>3</th>\n",
              "      <td>3916</td>\n",
              "      <td>29.9</td>\n",
              "      <td>8.8</td>\n",
              "      <td>6402</td>\n",
              "      <td>24167</td>\n",
              "      <td>52.2</td>\n",
              "      <td>1966.7</td>\n",
              "      <td>32906</td>\n",
              "      <td>2</td>\n",
              "      <td>67.38</td>\n",
              "    </tr>\n",
              "    <tr>\n",
              "      <th>4</th>\n",
              "      <td>2480</td>\n",
              "      <td>31.5</td>\n",
              "      <td>10.5</td>\n",
              "      <td>8502</td>\n",
              "      <td>16751</td>\n",
              "      <td>66.1</td>\n",
              "      <td>1514.5</td>\n",
              "      <td>26573</td>\n",
              "      <td>4</td>\n",
              "      <td>80.19</td>\n",
              "    </tr>\n",
              "  </tbody>\n",
              "</table>\n",
              "</div>\n",
              "      <button class=\"colab-df-convert\" onclick=\"convertToInteractive('df-d4e524d0-3bce-4b4a-af41-9083ce3ab619')\"\n",
              "              title=\"Convert this dataframe to an interactive table.\"\n",
              "              style=\"display:none;\">\n",
              "        \n",
              "  <svg xmlns=\"http://www.w3.org/2000/svg\" height=\"24px\"viewBox=\"0 0 24 24\"\n",
              "       width=\"24px\">\n",
              "    <path d=\"M0 0h24v24H0V0z\" fill=\"none\"/>\n",
              "    <path d=\"M18.56 5.44l.94 2.06.94-2.06 2.06-.94-2.06-.94-.94-2.06-.94 2.06-2.06.94zm-11 1L8.5 8.5l.94-2.06 2.06-.94-2.06-.94L8.5 2.5l-.94 2.06-2.06.94zm10 10l.94 2.06.94-2.06 2.06-.94-2.06-.94-.94-2.06-.94 2.06-2.06.94z\"/><path d=\"M17.41 7.96l-1.37-1.37c-.4-.4-.92-.59-1.43-.59-.52 0-1.04.2-1.43.59L10.3 9.45l-7.72 7.72c-.78.78-.78 2.05 0 2.83L4 21.41c.39.39.9.59 1.41.59.51 0 1.02-.2 1.41-.59l7.78-7.78 2.81-2.81c.8-.78.8-2.07 0-2.86zM5.41 20L4 18.59l7.72-7.72 1.47 1.35L5.41 20z\"/>\n",
              "  </svg>\n",
              "      </button>\n",
              "      \n",
              "  <style>\n",
              "    .colab-df-container {\n",
              "      display:flex;\n",
              "      flex-wrap:wrap;\n",
              "      gap: 12px;\n",
              "    }\n",
              "\n",
              "    .colab-df-convert {\n",
              "      background-color: #E8F0FE;\n",
              "      border: none;\n",
              "      border-radius: 50%;\n",
              "      cursor: pointer;\n",
              "      display: none;\n",
              "      fill: #1967D2;\n",
              "      height: 32px;\n",
              "      padding: 0 0 0 0;\n",
              "      width: 32px;\n",
              "    }\n",
              "\n",
              "    .colab-df-convert:hover {\n",
              "      background-color: #E2EBFA;\n",
              "      box-shadow: 0px 1px 2px rgba(60, 64, 67, 0.3), 0px 1px 3px 1px rgba(60, 64, 67, 0.15);\n",
              "      fill: #174EA6;\n",
              "    }\n",
              "\n",
              "    [theme=dark] .colab-df-convert {\n",
              "      background-color: #3B4455;\n",
              "      fill: #D2E3FC;\n",
              "    }\n",
              "\n",
              "    [theme=dark] .colab-df-convert:hover {\n",
              "      background-color: #434B5C;\n",
              "      box-shadow: 0px 1px 3px 1px rgba(0, 0, 0, 0.15);\n",
              "      filter: drop-shadow(0px 1px 2px rgba(0, 0, 0, 0.3));\n",
              "      fill: #FFFFFF;\n",
              "    }\n",
              "  </style>\n",
              "\n",
              "      <script>\n",
              "        const buttonEl =\n",
              "          document.querySelector('#df-d4e524d0-3bce-4b4a-af41-9083ce3ab619 button.colab-df-convert');\n",
              "        buttonEl.style.display =\n",
              "          google.colab.kernel.accessAllowed ? 'block' : 'none';\n",
              "\n",
              "        async function convertToInteractive(key) {\n",
              "          const element = document.querySelector('#df-d4e524d0-3bce-4b4a-af41-9083ce3ab619');\n",
              "          const dataTable =\n",
              "            await google.colab.kernel.invokeFunction('convertToInteractive',\n",
              "                                                     [key], {});\n",
              "          if (!dataTable) return;\n",
              "\n",
              "          const docLinkHtml = 'Like what you see? Visit the ' +\n",
              "            '<a target=\"_blank\" href=https://colab.research.google.com/notebooks/data_table.ipynb>data table notebook</a>'\n",
              "            + ' to learn more about interactive tables.';\n",
              "          element.innerHTML = '';\n",
              "          dataTable['output_type'] = 'display_data';\n",
              "          await google.colab.output.renderOutput(dataTable, element);\n",
              "          const docLink = document.createElement('div');\n",
              "          docLink.innerHTML = docLinkHtml;\n",
              "          element.appendChild(docLink);\n",
              "        }\n",
              "      </script>\n",
              "    </div>\n",
              "  </div>\n",
              "  "
            ]
          },
          "metadata": {},
          "execution_count": 13
        }
      ]
    },
    {
      "cell_type": "code",
      "source": [
        "plt.hist(df.income)"
      ],
      "metadata": {
        "colab": {
          "base_uri": "https://localhost:8080/",
          "height": 334
        },
        "id": "hI1cEhkVBjCD",
        "outputId": "98c67a5a-164a-4b54-bd8f-3a660085ed1e"
      },
      "execution_count": 4,
      "outputs": [
        {
          "output_type": "execute_result",
          "data": {
            "text/plain": [
              "(array([80.,  9.,  4.,  2.,  2.,  0.,  0.,  1.,  0.,  1.]),\n",
              " array([  769. ,  7902.1, 15035.2, 22168.3, 29301.4, 36434.5, 43567.6,\n",
              "        50700.7, 57833.8, 64966.9, 72100. ]),\n",
              " <a list of 10 Patch objects>)"
            ]
          },
          "metadata": {},
          "execution_count": 4
        },
        {
          "output_type": "display_data",
          "data": {
            "text/plain": [
              "<Figure size 432x288 with 1 Axes>"
            ],
            "image/png": "[encoded data removed]"
          },
          "metadata": {
            "needs_background": "light"
          }
        }
      ]
    },
    {
      "cell_type": "code",
      "source": [
        "plt.scatter(df.physicians, df.hospital_beds)"
      ],
      "metadata": {
        "colab": {
          "base_uri": "https://localhost:8080/",
          "height": 282
        },
        "id": "Df0kUuwjBjJU",
        "outputId": "c5281ad1-4749-4918-d525-be9efb7f59bc"
      },
      "execution_count": 5,
      "outputs": [
        {
          "output_type": "execute_result",
          "data": {
            "text/plain": [
              "<matplotlib.collections.PathCollection at 0x7f74166d9d90>"
            ]
          },
          "metadata": {},
          "execution_count": 5
        },
        {
          "output_type": "display_data",
          "data": {
            "text/plain": [
              "<Figure size 432x288 with 1 Axes>"
            ],
            "image/png": "[encoded data removed]"
          },
          "metadata": {
            "needs_background": "light"
          }
        }
      ]
    },
    {
      "cell_type": "code",
      "source": [
        "df[ df[\"region\"] == 4].land_area[:5]"
      ],
      "metadata": {
        "colab": {
          "base_uri": "https://localhost:8080/"
        },
        "id": "ufhlchV4BjOe",
        "outputId": "39ac28d2-0245-458a-fb9a-191f95242eec"
      },
      "execution_count": 11,
      "outputs": [
        {
          "output_type": "execute_result",
          "data": {
            "text/plain": [
              "4      2480\n",
              "13      782\n",
              "14     4226\n",
              "18    27293\n",
              "20     9155\n",
              "Name: land_area, dtype: int64"
            ]
          },
          "metadata": {},
          "execution_count": 11
        }
      ]
    },
    {
      "cell_type": "code",
      "source": [
        "df.corr()"
      ],
      "metadata": {
        "colab": {
          "base_uri": "https://localhost:8080/",
          "height": 427
        },
        "id": "mn2LlmY1BjR7",
        "outputId": "148e40c8-b839-4f41-9b09-f9fd962d3eea"
      },
      "execution_count": 12,
      "outputs": [
        {
          "output_type": "execute_result",
          "data": {
            "text/plain": [
              "                land_area  percent_city  percent_senior  physicians  \\\n",
              "land_area        1.000000     -0.077320        0.092226    0.085054   \n",
              "percent_city    -0.077320      1.000000       -0.250995    0.067391   \n",
              "percent_senior   0.092226     -0.250995        1.000000    0.056454   \n",
              "physicians       0.085054      0.067391        0.056454    1.000000   \n",
              "hospital_beds    0.081034      0.052898        0.083775    0.974241   \n",
              "graduates        0.088728      0.076720       -0.155695    0.049500   \n",
              "work_force       0.135792      0.016011        0.035240    0.965597   \n",
              "income           0.111404      0.019235        0.046073    0.976209   \n",
              "region           0.292392      0.235880       -0.242811   -0.140961   \n",
              "crime_rate       0.293907      0.159596       -0.177992    0.187763   \n",
              "\n",
              "                hospital_beds  graduates  work_force    income    region  \\\n",
              "land_area            0.081034   0.088728    0.135792  0.111404  0.292392   \n",
              "percent_city         0.052898   0.076720    0.016011  0.019235  0.235880   \n",
              "percent_senior       0.083775  -0.155695    0.035240  0.046073 -0.242811   \n",
              "physicians           0.974241   0.049500    0.965597  0.976209 -0.140961   \n",
              "hospital_beds        1.000000  -0.003892    0.967913  0.974416 -0.220305   \n",
              "graduates           -0.003892   1.000000    0.044054  0.045578  0.246226   \n",
              "work_force           0.967913   0.044054    1.000000  0.996735 -0.144022   \n",
              "income               0.974416   0.045578    0.996735  1.000000 -0.152016   \n",
              "region              -0.220305   0.246226   -0.144022 -0.152016  1.000000   \n",
              "crime_rate           0.109799   0.290880    0.175945  0.175797  0.636192   \n",
              "\n",
              "                crime_rate  \n",
              "land_area         0.293907  \n",
              "percent_city      0.159596  \n",
              "percent_senior   -0.177992  \n",
              "physicians        0.187763  \n",
              "hospital_beds     0.109799  \n",
              "graduates         0.290880  \n",
              "work_force        0.175945  \n",
              "income            0.175797  \n",
              "region            0.636192  \n",
              "crime_rate        1.000000  "
            ],
            "text/html": [
              "\n",
              "  <div id=\"df-e7e8dbdc-a276-4a9f-89c4-2be8528a74a6\">\n",
              "    <div class=\"colab-df-container\">\n",
              "      <div>\n",
              "<style scoped>\n",
              "    .dataframe tbody tr th:only-of-type {\n",
              "        vertical-align: middle;\n",
              "    }\n",
              "\n",
              "    .dataframe tbody tr th {\n",
              "        vertical-align: top;\n",
              "    }\n",
              "\n",
              "    .dataframe thead th {\n",
              "        text-align: right;\n",
              "    }\n",
              "</style>\n",
              "<table border=\"1\" class=\"dataframe\">\n",
              "  <thead>\n",
              "    <tr style=\"text-align: right;\">\n",
              "      <th></th>\n",
              "      <th>land_area</th>\n",
              "      <th>percent_city</th>\n",
              "      <th>percent_senior</th>\n",
              "      <th>physicians</th>\n",
              "      <th>hospital_beds</th>\n",
              "      <th>graduates</th>\n",
              "      <th>work_force</th>\n",
              "      <th>income</th>\n",
              "      <th>region</th>\n",
              "      <th>crime_rate</th>\n",
              "    </tr>\n",
              "  </thead>\n",
              "  <tbody>\n",
              "    <tr>\n",
              "      <th>land_area</th>\n",
              "      <td>1.000000</td>\n",
              "      <td>-0.077320</td>\n",
              "      <td>0.092226</td>\n",
              "      <td>0.085054</td>\n",
              "      <td>0.081034</td>\n",
              "      <td>0.088728</td>\n",
              "      <td>0.135792</td>\n",
              "      <td>0.111404</td>\n",
              "      <td>0.292392</td>\n",
              "      <td>0.293907</td>\n",
              "    </tr>\n",
              "    <tr>\n",
              "      <th>percent_city</th>\n",
              "      <td>-0.077320</td>\n",
              "      <td>1.000000</td>\n",
              "      <td>-0.250995</td>\n",
              "      <td>0.067391</td>\n",
              "      <td>0.052898</td>\n",
              "      <td>0.076720</td>\n",
              "      <td>0.016011</td>\n",
              "      <td>0.019235</td>\n",
              "      <td>0.235880</td>\n",
              "      <td>0.159596</td>\n",
              "    </tr>\n",
              "    <tr>\n",
              "      <th>percent_senior</th>\n",
              "      <td>0.092226</td>\n",
              "      <td>-0.250995</td>\n",
              "      <td>1.000000</td>\n",
              "      <td>0.056454</td>\n",
              "      <td>0.083775</td>\n",
              "      <td>-0.155695</td>\n",
              "      <td>0.035240</td>\n",
              "      <td>0.046073</td>\n",
              "      <td>-0.242811</td>\n",
              "      <td>-0.177992</td>\n",
              "    </tr>\n",
              "    <tr>\n",
              "      <th>physicians</th>\n",
              "      <td>0.085054</td>\n",
              "      <td>0.067391</td>\n",
              "      <td>0.056454</td>\n",
              "      <td>1.000000</td>\n",
              "      <td>0.974241</td>\n",
              "      <td>0.049500</td>\n",
              "      <td>0.965597</td>\n",
              "      <td>0.976209</td>\n",
              "      <td>-0.140961</td>\n",
              "      <td>0.187763</td>\n",
              "    </tr>\n",
              "    <tr>\n",
              "      <th>hospital_beds</th>\n",
              "      <td>0.081034</td>\n",
              "      <td>0.052898</td>\n",
              "      <td>0.083775</td>\n",
              "      <td>0.974241</td>\n",
              "      <td>1.000000</td>\n",
              "      <td>-0.003892</td>\n",
              "      <td>0.967913</td>\n",
              "      <td>0.974416</td>\n",
              "      <td>-0.220305</td>\n",
              "      <td>0.109799</td>\n",
              "    </tr>\n",
              "    <tr>\n",
              "      <th>graduates</th>\n",
              "      <td>0.088728</td>\n",
              "      <td>0.076720</td>\n",
              "      <td>-0.155695</td>\n",
              "      <td>0.049500</td>\n",
              "      <td>-0.003892</td>\n",
              "      <td>1.000000</td>\n",
              "      <td>0.044054</td>\n",
              "      <td>0.045578</td>\n",
              "      <td>0.246226</td>\n",
              "      <td>0.290880</td>\n",
              "    </tr>\n",
              "    <tr>\n",
              "      <th>work_force</th>\n",
              "      <td>0.135792</td>\n",
              "      <td>0.016011</td>\n",
              "      <td>0.035240</td>\n",
              "      <td>0.965597</td>\n",
              "      <td>0.967913</td>\n",
              "      <td>0.044054</td>\n",
              "      <td>1.000000</td>\n",
              "      <td>0.996735</td>\n",
              "      <td>-0.144022</td>\n",
              "      <td>0.175945</td>\n",
              "    </tr>\n",
              "    <tr>\n",
              "      <th>income</th>\n",
              "      <td>0.111404</td>\n",
              "      <td>0.019235</td>\n",
              "      <td>0.046073</td>\n",
              "      <td>0.976209</td>\n",
              "      <td>0.974416</td>\n",
              "      <td>0.045578</td>\n",
              "      <td>0.996735</td>\n",
              "      <td>1.000000</td>\n",
              "      <td>-0.152016</td>\n",
              "      <td>0.175797</td>\n",
              "    </tr>\n",
              "    <tr>\n",
              "      <th>region</th>\n",
              "      <td>0.292392</td>\n",
              "      <td>0.235880</td>\n",
              "      <td>-0.242811</td>\n",
              "      <td>-0.140961</td>\n",
              "      <td>-0.220305</td>\n",
              "      <td>0.246226</td>\n",
              "      <td>-0.144022</td>\n",
              "      <td>-0.152016</td>\n",
              "      <td>1.000000</td>\n",
              "      <td>0.636192</td>\n",
              "    </tr>\n",
              "    <tr>\n",
              "      <th>crime_rate</th>\n",
              "      <td>0.293907</td>\n",
              "      <td>0.159596</td>\n",
              "      <td>-0.177992</td>\n",
              "      <td>0.187763</td>\n",
              "      <td>0.109799</td>\n",
              "      <td>0.290880</td>\n",
              "      <td>0.175945</td>\n",
              "      <td>0.175797</td>\n",
              "      <td>0.636192</td>\n",
              "      <td>1.000000</td>\n",
              "    </tr>\n",
              "  </tbody>\n",
              "</table>\n",
              "</div>\n",
              "      <button class=\"colab-df-convert\" onclick=\"convertToInteractive('df-e7e8dbdc-a276-4a9f-89c4-2be8528a74a6')\"\n",
              "              title=\"Convert this dataframe to an interactive table.\"\n",
              "              style=\"display:none;\">\n",
              "        \n",
              "  <svg xmlns=\"http://www.w3.org/2000/svg\" height=\"24px\"viewBox=\"0 0 24 24\"\n",
              "       width=\"24px\">\n",
              "    <path d=\"M0 0h24v24H0V0z\" fill=\"none\"/>\n",
              "    <path d=\"M18.56 5.44l.94 2.06.94-2.06 2.06-.94-2.06-.94-.94-2.06-.94 2.06-2.06.94zm-11 1L8.5 8.5l.94-2.06 2.06-.94-2.06-.94L8.5 2.5l-.94 2.06-2.06.94zm10 10l.94 2.06.94-2.06 2.06-.94-2.06-.94-.94-2.06-.94 2.06-2.06.94z\"/><path d=\"M17.41 7.96l-1.37-1.37c-.4-.4-.92-.59-1.43-.59-.52 0-1.04.2-1.43.59L10.3 9.45l-7.72 7.72c-.78.78-.78 2.05 0 2.83L4 21.41c.39.39.9.59 1.41.59.51 0 1.02-.2 1.41-.59l7.78-7.78 2.81-2.81c.8-.78.8-2.07 0-2.86zM5.41 20L4 18.59l7.72-7.72 1.47 1.35L5.41 20z\"/>\n",
              "  </svg>\n",
              "      </button>\n",
              "      \n",
              "  <style>\n",
              "    .colab-df-container {\n",
              "      display:flex;\n",
              "      flex-wrap:wrap;\n",
              "      gap: 12px;\n",
              "    }\n",
              "\n",
              "    .colab-df-convert {\n",
              "      background-color: #E8F0FE;\n",
              "      border: none;\n",
              "      border-radius: 50%;\n",
              "      cursor: pointer;\n",
              "      display: none;\n",
              "      fill: #1967D2;\n",
              "      height: 32px;\n",
              "      padding: 0 0 0 0;\n",
              "      width: 32px;\n",
              "    }\n",
              "\n",
              "    .colab-df-convert:hover {\n",
              "      background-color: #E2EBFA;\n",
              "      box-shadow: 0px 1px 2px rgba(60, 64, 67, 0.3), 0px 1px 3px 1px rgba(60, 64, 67, 0.15);\n",
              "      fill: #174EA6;\n",
              "    }\n",
              "\n",
              "    [theme=dark] .colab-df-convert {\n",
              "      background-color: #3B4455;\n",
              "      fill: #D2E3FC;\n",
              "    }\n",
              "\n",
              "    [theme=dark] .colab-df-convert:hover {\n",
              "      background-color: #434B5C;\n",
              "      box-shadow: 0px 1px 3px 1px rgba(0, 0, 0, 0.15);\n",
              "      filter: drop-shadow(0px 1px 2px rgba(0, 0, 0, 0.3));\n",
              "      fill: #FFFFFF;\n",
              "    }\n",
              "  </style>\n",
              "\n",
              "      <script>\n",
              "        const buttonEl =\n",
              "          document.querySelector('#df-e7e8dbdc-a276-4a9f-89c4-2be8528a74a6 button.colab-df-convert');\n",
              "        buttonEl.style.display =\n",
              "          google.colab.kernel.accessAllowed ? 'block' : 'none';\n",
              "\n",
              "        async function convertToInteractive(key) {\n",
              "          const element = document.querySelector('#df-e7e8dbdc-a276-4a9f-89c4-2be8528a74a6');\n",
              "          const dataTable =\n",
              "            await google.colab.kernel.invokeFunction('convertToInteractive',\n",
              "                                                     [key], {});\n",
              "          if (!dataTable) return;\n",
              "\n",
              "          const docLinkHtml = 'Like what you see? Visit the ' +\n",
              "            '<a target=\"_blank\" href=https://colab.research.google.com/notebooks/data_table.ipynb>data table notebook</a>'\n",
              "            + ' to learn more about interactive tables.';\n",
              "          element.innerHTML = '';\n",
              "          dataTable['output_type'] = 'display_data';\n",
              "          await google.colab.output.renderOutput(dataTable, element);\n",
              "          const docLink = document.createElement('div');\n",
              "          docLink.innerHTML = docLinkHtml;\n",
              "          element.appendChild(docLink);\n",
              "        }\n",
              "      </script>\n",
              "    </div>\n",
              "  </div>\n",
              "  "
            ]
          },
          "metadata": {},
          "execution_count": 12
        }
      ]
    },
    {
      "cell_type": "code",
      "source": [
        "df[ (df[\"region\"]==1) & (df['crime_rate']>=54.16)].shape[0]"
      ],
      "metadata": {
        "colab": {
          "base_uri": "https://localhost:8080/"
        },
        "id": "zSTOrAkDBjWs",
        "outputId": "780b5817-3a2c-4aaf-f1c6-82a8e8614140"
      },
      "execution_count": 16,
      "outputs": [
        {
          "output_type": "execute_result",
          "data": {
            "text/plain": [
              "4"
            ]
          },
          "metadata": {},
          "execution_count": 16
        }
      ]
    },
    {
      "cell_type": "code",
      "source": [
        "df[ (df['region']==3) & (df[\"land_area\"]>=5000)].shape[0]"
      ],
      "metadata": {
        "colab": {
          "base_uri": "https://localhost:8080/"
        },
        "id": "FFb869yBBja2",
        "outputId": "1b19bfd0-13ca-4545-e823-d595af8767c3"
      },
      "execution_count": 21,
      "outputs": [
        {
          "output_type": "execute_result",
          "data": {
            "text/plain": [
              "3"
            ]
          },
          "metadata": {},
          "execution_count": 21
        }
      ]
    },
    {
      "cell_type": "code",
      "source": [
        "df[ (df[\"region\"]==4) & (df[\"crime_rate\"]==85.62)]"
      ],
      "metadata": {
        "colab": {
          "base_uri": "https://localhost:8080/",
          "height": 145
        },
        "id": "geJeVuT4Dt7d",
        "outputId": "762abac7-744f-4b92-b897-8532c80c6c56"
      },
      "execution_count": 22,
      "outputs": [
        {
          "output_type": "execute_result",
          "data": {
            "text/plain": [
              "    land_area  percent_city  percent_senior  physicians  hospital_beds  \\\n",
              "20       9155          53.8            11.1        2280           6450   \n",
              "\n",
              "    graduates  work_force  income  region  crime_rate  \n",
              "20       60.1       575.2    7766       4       85.62  "
            ],
            "text/html": [
              "\n",
              "  <div id=\"df-9b73340a-04fd-44ad-a197-7c9a32873082\">\n",
              "    <div class=\"colab-df-container\">\n",
              "      <div>\n",
              "<style scoped>\n",
              "    .dataframe tbody tr th:only-of-type {\n",
              "        vertical-align: middle;\n",
              "    }\n",
              "\n",
              "    .dataframe tbody tr th {\n",
              "        vertical-align: top;\n",
              "    }\n",
              "\n",
              "    .dataframe thead th {\n",
              "        text-align: right;\n",
              "    }\n",
              "</style>\n",
              "<table border=\"1\" class=\"dataframe\">\n",
              "  <thead>\n",
              "    <tr style=\"text-align: right;\">\n",
              "      <th></th>\n",
              "      <th>land_area</th>\n",
              "      <th>percent_city</th>\n",
              "      <th>percent_senior</th>\n",
              "      <th>physicians</th>\n",
              "      <th>hospital_beds</th>\n",
              "      <th>graduates</th>\n",
              "      <th>work_force</th>\n",
              "      <th>income</th>\n",
              "      <th>region</th>\n",
              "      <th>crime_rate</th>\n",
              "    </tr>\n",
              "  </thead>\n",
              "  <tbody>\n",
              "    <tr>\n",
              "      <th>20</th>\n",
              "      <td>9155</td>\n",
              "      <td>53.8</td>\n",
              "      <td>11.1</td>\n",
              "      <td>2280</td>\n",
              "      <td>6450</td>\n",
              "      <td>60.1</td>\n",
              "      <td>575.2</td>\n",
              "      <td>7766</td>\n",
              "      <td>4</td>\n",
              "      <td>85.62</td>\n",
              "    </tr>\n",
              "  </tbody>\n",
              "</table>\n",
              "</div>\n",
              "      <button class=\"colab-df-convert\" onclick=\"convertToInteractive('df-9b73340a-04fd-44ad-a197-7c9a32873082')\"\n",
              "              title=\"Convert this dataframe to an interactive table.\"\n",
              "              style=\"display:none;\">\n",
              "        \n",
              "  <svg xmlns=\"http://www.w3.org/2000/svg\" height=\"24px\"viewBox=\"0 0 24 24\"\n",
              "       width=\"24px\">\n",
              "    <path d=\"M0 0h24v24H0V0z\" fill=\"none\"/>\n",
              "    <path d=\"M18.56 5.44l.94 2.06.94-2.06 2.06-.94-2.06-.94-.94-2.06-.94 2.06-2.06.94zm-11 1L8.5 8.5l.94-2.06 2.06-.94-2.06-.94L8.5 2.5l-.94 2.06-2.06.94zm10 10l.94 2.06.94-2.06 2.06-.94-2.06-.94-.94-2.06-.94 2.06-2.06.94z\"/><path d=\"M17.41 7.96l-1.37-1.37c-.4-.4-.92-.59-1.43-.59-.52 0-1.04.2-1.43.59L10.3 9.45l-7.72 7.72c-.78.78-.78 2.05 0 2.83L4 21.41c.39.39.9.59 1.41.59.51 0 1.02-.2 1.41-.59l7.78-7.78 2.81-2.81c.8-.78.8-2.07 0-2.86zM5.41 20L4 18.59l7.72-7.72 1.47 1.35L5.41 20z\"/>\n",
              "  </svg>\n",
              "      </button>\n",
              "      \n",
              "  <style>\n",
              "    .colab-df-container {\n",
              "      display:flex;\n",
              "      flex-wrap:wrap;\n",
              "      gap: 12px;\n",
              "    }\n",
              "\n",
              "    .colab-df-convert {\n",
              "      background-color: #E8F0FE;\n",
              "      border: none;\n",
              "      border-radius: 50%;\n",
              "      cursor: pointer;\n",
              "      display: none;\n",
              "      fill: #1967D2;\n",
              "      height: 32px;\n",
              "      padding: 0 0 0 0;\n",
              "      width: 32px;\n",
              "    }\n",
              "\n",
              "    .colab-df-convert:hover {\n",
              "      background-color: #E2EBFA;\n",
              "      box-shadow: 0px 1px 2px rgba(60, 64, 67, 0.3), 0px 1px 3px 1px rgba(60, 64, 67, 0.15);\n",
              "      fill: #174EA6;\n",
              "    }\n",
              "\n",
              "    [theme=dark] .colab-df-convert {\n",
              "      background-color: #3B4455;\n",
              "      fill: #D2E3FC;\n",
              "    }\n",
              "\n",
              "    [theme=dark] .colab-df-convert:hover {\n",
              "      background-color: #434B5C;\n",
              "      box-shadow: 0px 1px 3px 1px rgba(0, 0, 0, 0.15);\n",
              "      filter: drop-shadow(0px 1px 2px rgba(0, 0, 0, 0.3));\n",
              "      fill: #FFFFFF;\n",
              "    }\n",
              "  </style>\n",
              "\n",
              "      <script>\n",
              "        const buttonEl =\n",
              "          document.querySelector('#df-9b73340a-04fd-44ad-a197-7c9a32873082 button.colab-df-convert');\n",
              "        buttonEl.style.display =\n",
              "          google.colab.kernel.accessAllowed ? 'block' : 'none';\n",
              "\n",
              "        async function convertToInteractive(key) {\n",
              "          const element = document.querySelector('#df-9b73340a-04fd-44ad-a197-7c9a32873082');\n",
              "          const dataTable =\n",
              "            await google.colab.kernel.invokeFunction('convertToInteractive',\n",
              "                                                     [key], {});\n",
              "          if (!dataTable) return;\n",
              "\n",
              "          const docLinkHtml = 'Like what you see? Visit the ' +\n",
              "            '<a target=\"_blank\" href=https://colab.research.google.com/notebooks/data_table.ipynb>data table notebook</a>'\n",
              "            + ' to learn more about interactive tables.';\n",
              "          element.innerHTML = '';\n",
              "          dataTable['output_type'] = 'display_data';\n",
              "          await google.colab.output.renderOutput(dataTable, element);\n",
              "          const docLink = document.createElement('div');\n",
              "          docLink.innerHTML = docLinkHtml;\n",
              "          element.appendChild(docLink);\n",
              "        }\n",
              "      </script>\n",
              "    </div>\n",
              "  </div>\n",
              "  "
            ]
          },
          "metadata": {},
          "execution_count": 22
        }
      ]
    },
    {
      "cell_type": "code",
      "source": [
        "df[ (df[\"region\"]==4) & (df[\"crime_rate\"]==55.64)]"
      ],
      "metadata": {
        "colab": {
          "base_uri": "https://localhost:8080/",
          "height": 113
        },
        "id": "16u03lASDuFA",
        "outputId": "b638fc1d-ac75-4664-a6d7-7aa14bbb082e"
      },
      "execution_count": 23,
      "outputs": [
        {
          "output_type": "execute_result",
          "data": {
            "text/plain": [
              "Empty DataFrame\n",
              "Columns: [land_area, percent_city, percent_senior, physicians, hospital_beds, graduates, work_force, income, region, crime_rate]\n",
              "Index: []"
            ],
            "text/html": [
              "\n",
              "  <div id=\"df-9f8f99e3-e6a1-4ff6-81b1-b7d0c85a53b6\">\n",
              "    <div class=\"colab-df-container\">\n",
              "      <div>\n",
              "<style scoped>\n",
              "    .dataframe tbody tr th:only-of-type {\n",
              "        vertical-align: middle;\n",
              "    }\n",
              "\n",
              "    .dataframe tbody tr th {\n",
              "        vertical-align: top;\n",
              "    }\n",
              "\n",
              "    .dataframe thead th {\n",
              "        text-align: right;\n",
              "    }\n",
              "</style>\n",
              "<table border=\"1\" class=\"dataframe\">\n",
              "  <thead>\n",
              "    <tr style=\"text-align: right;\">\n",
              "      <th></th>\n",
              "      <th>land_area</th>\n",
              "      <th>percent_city</th>\n",
              "      <th>percent_senior</th>\n",
              "      <th>physicians</th>\n",
              "      <th>hospital_beds</th>\n",
              "      <th>graduates</th>\n",
              "      <th>work_force</th>\n",
              "      <th>income</th>\n",
              "      <th>region</th>\n",
              "      <th>crime_rate</th>\n",
              "    </tr>\n",
              "  </thead>\n",
              "  <tbody>\n",
              "  </tbody>\n",
              "</table>\n",
              "</div>\n",
              "      <button class=\"colab-df-convert\" onclick=\"convertToInteractive('df-9f8f99e3-e6a1-4ff6-81b1-b7d0c85a53b6')\"\n",
              "              title=\"Convert this dataframe to an interactive table.\"\n",
              "              style=\"display:none;\">\n",
              "        \n",
              "  <svg xmlns=\"http://www.w3.org/2000/svg\" height=\"24px\"viewBox=\"0 0 24 24\"\n",
              "       width=\"24px\">\n",
              "    <path d=\"M0 0h24v24H0V0z\" fill=\"none\"/>\n",
              "    <path d=\"M18.56 5.44l.94 2.06.94-2.06 2.06-.94-2.06-.94-.94-2.06-.94 2.06-2.06.94zm-11 1L8.5 8.5l.94-2.06 2.06-.94-2.06-.94L8.5 2.5l-.94 2.06-2.06.94zm10 10l.94 2.06.94-2.06 2.06-.94-2.06-.94-.94-2.06-.94 2.06-2.06.94z\"/><path d=\"M17.41 7.96l-1.37-1.37c-.4-.4-.92-.59-1.43-.59-.52 0-1.04.2-1.43.59L10.3 9.45l-7.72 7.72c-.78.78-.78 2.05 0 2.83L4 21.41c.39.39.9.59 1.41.59.51 0 1.02-.2 1.41-.59l7.78-7.78 2.81-2.81c.8-.78.8-2.07 0-2.86zM5.41 20L4 18.59l7.72-7.72 1.47 1.35L5.41 20z\"/>\n",
              "  </svg>\n",
              "      </button>\n",
              "      \n",
              "  <style>\n",
              "    .colab-df-container {\n",
              "      display:flex;\n",
              "      flex-wrap:wrap;\n",
              "      gap: 12px;\n",
              "    }\n",
              "\n",
              "    .colab-df-convert {\n",
              "      background-color: #E8F0FE;\n",
              "      border: none;\n",
              "      border-radius: 50%;\n",
              "      cursor: pointer;\n",
              "      display: none;\n",
              "      fill: #1967D2;\n",
              "      height: 32px;\n",
              "      padding: 0 0 0 0;\n",
              "      width: 32px;\n",
              "    }\n",
              "\n",
              "    .colab-df-convert:hover {\n",
              "      background-color: #E2EBFA;\n",
              "      box-shadow: 0px 1px 2px rgba(60, 64, 67, 0.3), 0px 1px 3px 1px rgba(60, 64, 67, 0.15);\n",
              "      fill: #174EA6;\n",
              "    }\n",
              "\n",
              "    [theme=dark] .colab-df-convert {\n",
              "      background-color: #3B4455;\n",
              "      fill: #D2E3FC;\n",
              "    }\n",
              "\n",
              "    [theme=dark] .colab-df-convert:hover {\n",
              "      background-color: #434B5C;\n",
              "      box-shadow: 0px 1px 3px 1px rgba(0, 0, 0, 0.15);\n",
              "      filter: drop-shadow(0px 1px 2px rgba(0, 0, 0, 0.3));\n",
              "      fill: #FFFFFF;\n",
              "    }\n",
              "  </style>\n",
              "\n",
              "      <script>\n",
              "        const buttonEl =\n",
              "          document.querySelector('#df-9f8f99e3-e6a1-4ff6-81b1-b7d0c85a53b6 button.colab-df-convert');\n",
              "        buttonEl.style.display =\n",
              "          google.colab.kernel.accessAllowed ? 'block' : 'none';\n",
              "\n",
              "        async function convertToInteractive(key) {\n",
              "          const element = document.querySelector('#df-9f8f99e3-e6a1-4ff6-81b1-b7d0c85a53b6');\n",
              "          const dataTable =\n",
              "            await google.colab.kernel.invokeFunction('convertToInteractive',\n",
              "                                                     [key], {});\n",
              "          if (!dataTable) return;\n",
              "\n",
              "          const docLinkHtml = 'Like what you see? Visit the ' +\n",
              "            '<a target=\"_blank\" href=https://colab.research.google.com/notebooks/data_table.ipynb>data table notebook</a>'\n",
              "            + ' to learn more about interactive tables.';\n",
              "          element.innerHTML = '';\n",
              "          dataTable['output_type'] = 'display_data';\n",
              "          await google.colab.output.renderOutput(dataTable, element);\n",
              "          const docLink = document.createElement('div');\n",
              "          docLink.innerHTML = docLinkHtml;\n",
              "          element.appendChild(docLink);\n",
              "        }\n",
              "      </script>\n",
              "    </div>\n",
              "  </div>\n",
              "  "
            ]
          },
          "metadata": {},
          "execution_count": 23
        }
      ]
    },
    {
      "cell_type": "code",
      "source": [
        "plt.plot(df.land_area, df.crime_rate)"
      ],
      "metadata": {
        "colab": {
          "base_uri": "https://localhost:8080/",
          "height": 282
        },
        "id": "x2jCzuMvDuMk",
        "outputId": "329f7adf-dadb-4b82-9c6b-05ec2519cb73"
      },
      "execution_count": 24,
      "outputs": [
        {
          "output_type": "execute_result",
          "data": {
            "text/plain": [
              "[<matplotlib.lines.Line2D at 0x7f7414814510>]"
            ]
          },
          "metadata": {},
          "execution_count": 24
        },
        {
          "output_type": "display_data",
          "data": {
            "text/plain": [
              "<Figure size 432x288 with 1 Axes>"
            ],
            "image/png": "[encoded data removed]"
          },
          "metadata": {
            "needs_background": "light"
          }
        }
      ]
    },
    {
      "cell_type": "code",
      "source": [
        "import seaborn as sns\n",
        "sns.countplot(df.region)"
      ],
      "metadata": {
        "colab": {
          "base_uri": "https://localhost:8080/",
          "height": 351
        },
        "id": "siYQdv9DDuTS",
        "outputId": "8c41b159-6a53-46c2-821e-b6c9a2b51662"
      },
      "execution_count": 27,
      "outputs": [
        {
          "output_type": "stream",
          "name": "stderr",
          "text": [
            "/usr/local/lib/python3.7/dist-packages/seaborn/_decorators.py:43: FutureWarning: Pass the following variable as a keyword arg: x. From version 0.12, the only valid positional argument will be `data`, and passing other arguments without an explicit keyword will result in an error or misinterpretation.\n",
            "  FutureWarning\n"
          ]
        },
        {
          "output_type": "execute_result",
          "data": {
            "text/plain": [
              "<matplotlib.axes._subplots.AxesSubplot at 0x7f7405dc7490>"
            ]
          },
          "metadata": {},
          "execution_count": 27
        },
        {
          "output_type": "display_data",
          "data": {
            "text/plain": [
              "<Figure size 432x288 with 1 Axes>"
            ],
            "image/png": "[encoded data removed]"
          },
          "metadata": {
            "needs_background": "light"
          }
        }
      ]
    },
    {
      "cell_type": "code",
      "source": [
        "df.dtypes"
      ],
      "metadata": {
        "id": "lKoRg67uE1yj",
        "outputId": "050ff929-71e7-466f-99bc-39b2901a17c0",
        "colab": {
          "base_uri": "https://localhost:8080/"
        }
      },
      "execution_count": 28,
      "outputs": [
        {
          "output_type": "execute_result",
          "data": {
            "text/plain": [
              "land_area           int64\n",
              "percent_city      float64\n",
              "percent_senior    float64\n",
              "physicians          int64\n",
              "hospital_beds       int64\n",
              "graduates         float64\n",
              "work_force        float64\n",
              "income              int64\n",
              "region              int64\n",
              "crime_rate        float64\n",
              "dtype: object"
            ]
          },
          "metadata": {},
          "execution_count": 28
        }
      ]
    },
    {
      "cell_type": "code",
      "source": [
        "df.describe()"
      ],
      "metadata": {
        "id": "2dz9jsuWE8SR",
        "outputId": "7a5e9242-5e59-48c3-d142-ff4df9441844",
        "colab": {
          "base_uri": "https://localhost:8080/",
          "height": 364
        }
      },
      "execution_count": 29,
      "outputs": [
        {
          "output_type": "execute_result",
          "data": {
            "text/plain": [
              "          land_area  percent_city  percent_senior    physicians  \\\n",
              "count     99.000000     99.000000       99.000000     99.000000   \n",
              "mean    2615.727273     42.518182        9.781818   1828.333333   \n",
              "std     3045.826210     17.348277        2.524547   3192.199763   \n",
              "min       47.000000     13.400000        3.900000    140.000000   \n",
              "25%     1408.000000     30.100000        8.350000    459.000000   \n",
              "50%     1951.000000     39.500000        9.700000    774.000000   \n",
              "75%     2890.500000     52.600000       10.750000   1911.500000   \n",
              "max    27293.000000    100.000000       21.800000  25627.000000   \n",
              "\n",
              "       hospital_beds  graduates   work_force        income     region  \\\n",
              "count      99.000000  99.000000    99.000000     99.000000  99.000000   \n",
              "mean     6345.868687  54.463636   449.366667   6762.505051   2.494949   \n",
              "std      9136.202716   7.773286   610.990885  10393.349660   1.013921   \n",
              "min       481.000000  30.300000    66.900000    769.000000   1.000000   \n",
              "25%      2390.000000  50.250000   150.300000   2003.000000   2.000000   \n",
              "50%      3472.000000  54.000000   257.200000   3510.000000   3.000000   \n",
              "75%      6386.500000  58.300000   436.500000   6283.500000   3.000000   \n",
              "max     69678.000000  72.800000  4083.900000  72100.000000   4.000000   \n",
              "\n",
              "       crime_rate  \n",
              "count   99.000000  \n",
              "mean    55.643030  \n",
              "std     13.470943  \n",
              "min     23.320000  \n",
              "25%     46.115000  \n",
              "50%     56.060000  \n",
              "75%     63.860000  \n",
              "max     85.620000  "
            ],
            "text/html": [
              "\n",
              "  <div id=\"df-64cdbc0f-66a1-4ab6-ad71-33588b0e804a\">\n",
              "    <div class=\"colab-df-container\">\n",
              "      <div>\n",
              "<style scoped>\n",
              "    .dataframe tbody tr th:only-of-type {\n",
              "        vertical-align: middle;\n",
              "    }\n",
              "\n",
              "    .dataframe tbody tr th {\n",
              "        vertical-align: top;\n",
              "    }\n",
              "\n",
              "    .dataframe thead th {\n",
              "        text-align: right;\n",
              "    }\n",
              "</style>\n",
              "<table border=\"1\" class=\"dataframe\">\n",
              "  <thead>\n",
              "    <tr style=\"text-align: right;\">\n",
              "      <th></th>\n",
              "      <th>land_area</th>\n",
              "      <th>percent_city</th>\n",
              "      <th>percent_senior</th>\n",
              "      <th>physicians</th>\n",
              "      <th>hospital_beds</th>\n",
              "      <th>graduates</th>\n",
              "      <th>work_force</th>\n",
              "      <th>income</th>\n",
              "      <th>region</th>\n",
              "      <th>crime_rate</th>\n",
              "    </tr>\n",
              "  </thead>\n",
              "  <tbody>\n",
              "    <tr>\n",
              "      <th>count</th>\n",
              "      <td>99.000000</td>\n",
              "      <td>99.000000</td>\n",
              "      <td>99.000000</td>\n",
              "      <td>99.000000</td>\n",
              "      <td>99.000000</td>\n",
              "      <td>99.000000</td>\n",
              "      <td>99.000000</td>\n",
              "      <td>99.000000</td>\n",
              "      <td>99.000000</td>\n",
              "      <td>99.000000</td>\n",
              "    </tr>\n",
              "    <tr>\n",
              "      <th>mean</th>\n",
              "      <td>2615.727273</td>\n",
              "      <td>42.518182</td>\n",
              "      <td>9.781818</td>\n",
              "      <td>1828.333333</td>\n",
              "      <td>6345.868687</td>\n",
              "      <td>54.463636</td>\n",
              "      <td>449.366667</td>\n",
              "      <td>6762.505051</td>\n",
              "      <td>2.494949</td>\n",
              "      <td>55.643030</td>\n",
              "    </tr>\n",
              "    <tr>\n",
              "      <th>std</th>\n",
              "      <td>3045.826210</td>\n",
              "      <td>17.348277</td>\n",
              "      <td>2.524547</td>\n",
              "      <td>3192.199763</td>\n",
              "      <td>9136.202716</td>\n",
              "      <td>7.773286</td>\n",
              "      <td>610.990885</td>\n",
              "      <td>10393.349660</td>\n",
              "      <td>1.013921</td>\n",
              "      <td>13.470943</td>\n",
              "    </tr>\n",
              "    <tr>\n",
              "      <th>min</th>\n",
              "      <td>47.000000</td>\n",
              "      <td>13.400000</td>\n",
              "      <td>3.900000</td>\n",
              "      <td>140.000000</td>\n",
              "      <td>481.000000</td>\n",
              "      <td>30.300000</td>\n",
              "      <td>66.900000</td>\n",
              "      <td>769.000000</td>\n",
              "      <td>1.000000</td>\n",
              "      <td>23.320000</td>\n",
              "    </tr>\n",
              "    <tr>\n",
              "      <th>25%</th>\n",
              "      <td>1408.000000</td>\n",
              "      <td>30.100000</td>\n",
              "      <td>8.350000</td>\n",
              "      <td>459.000000</td>\n",
              "      <td>2390.000000</td>\n",
              "      <td>50.250000</td>\n",
              "      <td>150.300000</td>\n",
              "      <td>2003.000000</td>\n",
              "      <td>2.000000</td>\n",
              "      <td>46.115000</td>\n",
              "    </tr>\n",
              "    <tr>\n",
              "      <th>50%</th>\n",
              "      <td>1951.000000</td>\n",
              "      <td>39.500000</td>\n",
              "      <td>9.700000</td>\n",
              "      <td>774.000000</td>\n",
              "      <td>3472.000000</td>\n",
              "      <td>54.000000</td>\n",
              "      <td>257.200000</td>\n",
              "      <td>3510.000000</td>\n",
              "      <td>3.000000</td>\n",
              "      <td>56.060000</td>\n",
              "    </tr>\n",
              "    <tr>\n",
              "      <th>75%</th>\n",
              "      <td>2890.500000</td>\n",
              "      <td>52.600000</td>\n",
              "      <td>10.750000</td>\n",
              "      <td>1911.500000</td>\n",
              "      <td>6386.500000</td>\n",
              "      <td>58.300000</td>\n",
              "      <td>436.500000</td>\n",
              "      <td>6283.500000</td>\n",
              "      <td>3.000000</td>\n",
              "      <td>63.860000</td>\n",
              "    </tr>\n",
              "    <tr>\n",
              "      <th>max</th>\n",
              "      <td>27293.000000</td>\n",
              "      <td>100.000000</td>\n",
              "      <td>21.800000</td>\n",
              "      <td>25627.000000</td>\n",
              "      <td>69678.000000</td>\n",
              "      <td>72.800000</td>\n",
              "      <td>4083.900000</td>\n",
              "      <td>72100.000000</td>\n",
              "      <td>4.000000</td>\n",
              "      <td>85.620000</td>\n",
              "    </tr>\n",
              "  </tbody>\n",
              "</table>\n",
              "</div>\n",
              "      <button class=\"colab-df-convert\" onclick=\"convertToInteractive('df-64cdbc0f-66a1-4ab6-ad71-33588b0e804a')\"\n",
              "              title=\"Convert this dataframe to an interactive table.\"\n",
              "              style=\"display:none;\">\n",
              "        \n",
              "  <svg xmlns=\"http://www.w3.org/2000/svg\" height=\"24px\"viewBox=\"0 0 24 24\"\n",
              "       width=\"24px\">\n",
              "    <path d=\"M0 0h24v24H0V0z\" fill=\"none\"/>\n",
              "    <path d=\"M18.56 5.44l.94 2.06.94-2.06 2.06-.94-2.06-.94-.94-2.06-.94 2.06-2.06.94zm-11 1L8.5 8.5l.94-2.06 2.06-.94-2.06-.94L8.5 2.5l-.94 2.06-2.06.94zm10 10l.94 2.06.94-2.06 2.06-.94-2.06-.94-.94-2.06-.94 2.06-2.06.94z\"/><path d=\"M17.41 7.96l-1.37-1.37c-.4-.4-.92-.59-1.43-.59-.52 0-1.04.2-1.43.59L10.3 9.45l-7.72 7.72c-.78.78-.78 2.05 0 2.83L4 21.41c.39.39.9.59 1.41.59.51 0 1.02-.2 1.41-.59l7.78-7.78 2.81-2.81c.8-.78.8-2.07 0-2.86zM5.41 20L4 18.59l7.72-7.72 1.47 1.35L5.41 20z\"/>\n",
              "  </svg>\n",
              "      </button>\n",
              "      \n",
              "  <style>\n",
              "    .colab-df-container {\n",
              "      display:flex;\n",
              "      flex-wrap:wrap;\n",
              "      gap: 12px;\n",
              "    }\n",
              "\n",
              "    .colab-df-convert {\n",
              "      background-color: #E8F0FE;\n",
              "      border: none;\n",
              "      border-radius: 50%;\n",
              "      cursor: pointer;\n",
              "      display: none;\n",
              "      fill: #1967D2;\n",
              "      height: 32px;\n",
              "      padding: 0 0 0 0;\n",
              "      width: 32px;\n",
              "    }\n",
              "\n",
              "    .colab-df-convert:hover {\n",
              "      background-color: #E2EBFA;\n",
              "      box-shadow: 0px 1px 2px rgba(60, 64, 67, 0.3), 0px 1px 3px 1px rgba(60, 64, 67, 0.15);\n",
              "      fill: #174EA6;\n",
              "    }\n",
              "\n",
              "    [theme=dark] .colab-df-convert {\n",
              "      background-color: #3B4455;\n",
              "      fill: #D2E3FC;\n",
              "    }\n",
              "\n",
              "    [theme=dark] .colab-df-convert:hover {\n",
              "      background-color: #434B5C;\n",
              "      box-shadow: 0px 1px 3px 1px rgba(0, 0, 0, 0.15);\n",
              "      filter: drop-shadow(0px 1px 2px rgba(0, 0, 0, 0.3));\n",
              "      fill: #FFFFFF;\n",
              "    }\n",
              "  </style>\n",
              "\n",
              "      <script>\n",
              "        const buttonEl =\n",
              "          document.querySelector('#df-64cdbc0f-66a1-4ab6-ad71-33588b0e804a button.colab-df-convert');\n",
              "        buttonEl.style.display =\n",
              "          google.colab.kernel.accessAllowed ? 'block' : 'none';\n",
              "\n",
              "        async function convertToInteractive(key) {\n",
              "          const element = document.querySelector('#df-64cdbc0f-66a1-4ab6-ad71-33588b0e804a');\n",
              "          const dataTable =\n",
              "            await google.colab.kernel.invokeFunction('convertToInteractive',\n",
              "                                                     [key], {});\n",
              "          if (!dataTable) return;\n",
              "\n",
              "          const docLinkHtml = 'Like what you see? Visit the ' +\n",
              "            '<a target=\"_blank\" href=https://colab.research.google.com/notebooks/data_table.ipynb>data table notebook</a>'\n",
              "            + ' to learn more about interactive tables.';\n",
              "          element.innerHTML = '';\n",
              "          dataTable['output_type'] = 'display_data';\n",
              "          await google.colab.output.renderOutput(dataTable, element);\n",
              "          const docLink = document.createElement('div');\n",
              "          docLink.innerHTML = docLinkHtml;\n",
              "          element.appendChild(docLink);\n",
              "        }\n",
              "      </script>\n",
              "    </div>\n",
              "  </div>\n",
              "  "
            ]
          },
          "metadata": {},
          "execution_count": 29
        }
      ]
    },
    {
      "cell_type": "code",
      "source": [
        "df.region.value_counts()"
      ],
      "metadata": {
        "id": "Pj0Rrg1BFO50",
        "outputId": "de1ec820-0a77-45c9-8398-e0339a987eec",
        "colab": {
          "base_uri": "https://localhost:8080/"
        }
      },
      "execution_count": 32,
      "outputs": [
        {
          "output_type": "execute_result",
          "data": {
            "text/plain": [
              "3    36\n",
              "2    25\n",
              "1    21\n",
              "4    17\n",
              "Name: region, dtype: int64"
            ]
          },
          "metadata": {},
          "execution_count": 32
        }
      ]
    }
  ]
}
{
  "nbformat": 4,
  "nbformat_minor": 0,
  "metadata": {
    "colab": {
      "name": "OpenCV.ipynb",
      "provenance": [],
      "mount_file_id": "1ff4taKd2cUgrecuFhbXOMDMVaE5fiTDu",
      "authorship_tag": "ABX9TyNsXUFL2VYBJlk5hti/roQA",
      "include_colab_link": true
    },
    "kernelspec": {
      "name": "python3",
      "display_name": "Python 3"
    },
    "language_info": {
      "name": "python"
    }
  },
  "cells": [
    {
      "cell_type": "markdown",
      "metadata": {
        "id": "view-in-github",
        "colab_type": "text"
      },
      "source": [
        "<a href=\"https://colab.research.google.com/github/chewzzz1014/DPhi-Bootcamp/blob/master/notes/deep-learning/examples/OpenCV.ipynb\" target=\"_parent\"><img src=\"https://colab.research.google.com/assets/colab-badge.svg\" alt=\"Open In Colab\"/></a>"
      ]
    },
    {
      "cell_type": "markdown",
      "source": [
        "# **Basic Operations with OpenCV**\n"
      ],
      "metadata": {
        "id": "ZXHID5IXkAlS"
      }
    },
    {
      "cell_type": "code",
      "execution_count": 2,
      "metadata": {
        "id": "FZQ2_YFyjKs1"
      },
      "outputs": [],
      "source": [
        "# store the image in my Google Drive and access via Google Colab\n",
        "import cv2\n",
        "\n",
        "path = \"/content/drive/MyDrive/g_disneynaturepenguins_01_17789_d494d9a3.webp\"\n"
      ]
    },
    {
      "cell_type": "code",
      "source": [
        "# cv2.imread(path, flag)\n",
        "# default flag is cv2.IMREAD_COLOR (0 for gray scale, 1 for colored, -1 for including alpha channel)\n",
        "'''\n",
        "other flags:\n",
        "    cv2.IMREAD_GRAYSCALE\n",
        "          Load an image in grayscale mode. \n",
        "          Alternatively, we can pass integer value 0 for this flag.\n",
        "    cv2.IMREAD_UNCHANGED\n",
        "           load an image as such including alpha channel. \n",
        "           Alternatively, we can pass integer value -1 for this flag.\n",
        "'''\n",
        "\n",
        "# load colored image\n",
        "img = cv2.imread(path, 1)"
      ],
      "metadata": {
        "id": "StPFOgVsmZ58"
      },
      "execution_count": 3,
      "outputs": []
    },
    {
      "cell_type": "code",
      "source": [
        "# (num_rows, num_cols, num_channels)\n",
        "img.shape"
      ],
      "metadata": {
        "colab": {
          "base_uri": "https://localhost:8080/"
        },
        "id": "_cKiphhNnT5y",
        "outputId": "be9147ed-119b-4ab0-b078-3081f787e8ed"
      },
      "execution_count": 4,
      "outputs": [
        {
          "output_type": "execute_result",
          "data": {
            "text/plain": [
              "(530, 1136, 3)"
            ]
          },
          "metadata": {},
          "execution_count": 4
        }
      ]
    },
    {
      "cell_type": "code",
      "source": [
        ""
      ],
      "metadata": {
        "id": "npl7Uf5NnVDD"
      },
      "execution_count": null,
      "outputs": []
    }
  ]
}
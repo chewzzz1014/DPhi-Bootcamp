{
  "nbformat": 4,
  "nbformat_minor": 0,
  "metadata": {
    "colab": {
      "name": "BinaryClassification.ipynb",
      "provenance": [],
      "authorship_tag": "ABX9TyP2tdVWwsoU4ANAQ80hW8AL",
      "include_colab_link": true
    },
    "kernelspec": {
      "name": "python3",
      "display_name": "Python 3"
    },
    "language_info": {
      "name": "python"
    }
  },
  "cells": [
    {
      "cell_type": "markdown",
      "metadata": {
        "id": "view-in-github",
        "colab_type": "text"
      },
      "source": [
        "<a href=\"https://colab.research.google.com/github/chewzzz1014/DPhi-Bootcamp/blob/master/notes/deep-learning/BinaryClassification.ipynb\" target=\"_parent\"><img src=\"https://colab.research.google.com/assets/colab-badge.svg\" alt=\"Open In Colab\"/></a>"
      ]
    },
    {
      "cell_type": "markdown",
      "source": [
        "# **Binary Classification**"
      ],
      "metadata": {
        "id": "I1Z-kM3TIbie"
      }
    },
    {
      "cell_type": "markdown",
      "source": [
        "**Import Data**"
      ],
      "metadata": {
        "id": "ZRel0D9eJn44"
      }
    },
    {
      "cell_type": "code",
      "execution_count": 1,
      "metadata": {
        "id": "KGwx-65zGikl"
      },
      "outputs": [],
      "source": [
        "import numpy as np\n",
        "import matplotlib.pyplot as plt\n",
        "import pandas as pd"
      ]
    },
    {
      "cell_type": "code",
      "source": [
        "df = pd.read_csv(\"https://raw.githubusercontent.com/dphi-official/Datasets/master/heart_disease.csv\")\n",
        "df.head()"
      ],
      "metadata": {
        "colab": {
          "base_uri": "https://localhost:8080/",
          "height": 206
        },
        "id": "yN5EifJTIlrL",
        "outputId": "840b4825-a037-47a2-c3f7-6fcd0cbde03b"
      },
      "execution_count": 2,
      "outputs": [
        {
          "output_type": "execute_result",
          "data": {
            "text/plain": [
              "   age  sex  cp  trestbps  chol  fbs  restecg  thalach  exang  oldpeak  slope  \\\n",
              "0   63    1   3       145   233    1        0      150      0      2.3      0   \n",
              "1   37    1   2       130   250    0        1      187      0      3.5      0   \n",
              "2   41    0   1       130   204    0        0      172      0      1.4      2   \n",
              "3   56    1   1       120   236    0        1      178      0      0.8      2   \n",
              "4   57    0   0       120   354    0        1      163      1      0.6      2   \n",
              "\n",
              "   ca  thal  target  \n",
              "0   0     1       1  \n",
              "1   0     2       1  \n",
              "2   0     2       1  \n",
              "3   0     2       1  \n",
              "4   0     2       1  "
            ],
            "text/html": [
              "\n",
              "  <div id=\"df-d9c84e0e-f798-46ad-8804-cd3ab2f2c6aa\">\n",
              "    <div class=\"colab-df-container\">\n",
              "      <div>\n",
              "<style scoped>\n",
              "    .dataframe tbody tr th:only-of-type {\n",
              "        vertical-align: middle;\n",
              "    }\n",
              "\n",
              "    .dataframe tbody tr th {\n",
              "        vertical-align: top;\n",
              "    }\n",
              "\n",
              "    .dataframe thead th {\n",
              "        text-align: right;\n",
              "    }\n",
              "</style>\n",
              "<table border=\"1\" class=\"dataframe\">\n",
              "  <thead>\n",
              "    <tr style=\"text-align: right;\">\n",
              "      <th></th>\n",
              "      <th>age</th>\n",
              "      <th>sex</th>\n",
              "      <th>cp</th>\n",
              "      <th>trestbps</th>\n",
              "      <th>chol</th>\n",
              "      <th>fbs</th>\n",
              "      <th>restecg</th>\n",
              "      <th>thalach</th>\n",
              "      <th>exang</th>\n",
              "      <th>oldpeak</th>\n",
              "      <th>slope</th>\n",
              "      <th>ca</th>\n",
              "      <th>thal</th>\n",
              "      <th>target</th>\n",
              "    </tr>\n",
              "  </thead>\n",
              "  <tbody>\n",
              "    <tr>\n",
              "      <th>0</th>\n",
              "      <td>63</td>\n",
              "      <td>1</td>\n",
              "      <td>3</td>\n",
              "      <td>145</td>\n",
              "      <td>233</td>\n",
              "      <td>1</td>\n",
              "      <td>0</td>\n",
              "      <td>150</td>\n",
              "      <td>0</td>\n",
              "      <td>2.3</td>\n",
              "      <td>0</td>\n",
              "      <td>0</td>\n",
              "      <td>1</td>\n",
              "      <td>1</td>\n",
              "    </tr>\n",
              "    <tr>\n",
              "      <th>1</th>\n",
              "      <td>37</td>\n",
              "      <td>1</td>\n",
              "      <td>2</td>\n",
              "      <td>130</td>\n",
              "      <td>250</td>\n",
              "      <td>0</td>\n",
              "      <td>1</td>\n",
              "      <td>187</td>\n",
              "      <td>0</td>\n",
              "      <td>3.5</td>\n",
              "      <td>0</td>\n",
              "      <td>0</td>\n",
              "      <td>2</td>\n",
              "      <td>1</td>\n",
              "    </tr>\n",
              "    <tr>\n",
              "      <th>2</th>\n",
              "      <td>41</td>\n",
              "      <td>0</td>\n",
              "      <td>1</td>\n",
              "      <td>130</td>\n",
              "      <td>204</td>\n",
              "      <td>0</td>\n",
              "      <td>0</td>\n",
              "      <td>172</td>\n",
              "      <td>0</td>\n",
              "      <td>1.4</td>\n",
              "      <td>2</td>\n",
              "      <td>0</td>\n",
              "      <td>2</td>\n",
              "      <td>1</td>\n",
              "    </tr>\n",
              "    <tr>\n",
              "      <th>3</th>\n",
              "      <td>56</td>\n",
              "      <td>1</td>\n",
              "      <td>1</td>\n",
              "      <td>120</td>\n",
              "      <td>236</td>\n",
              "      <td>0</td>\n",
              "      <td>1</td>\n",
              "      <td>178</td>\n",
              "      <td>0</td>\n",
              "      <td>0.8</td>\n",
              "      <td>2</td>\n",
              "      <td>0</td>\n",
              "      <td>2</td>\n",
              "      <td>1</td>\n",
              "    </tr>\n",
              "    <tr>\n",
              "      <th>4</th>\n",
              "      <td>57</td>\n",
              "      <td>0</td>\n",
              "      <td>0</td>\n",
              "      <td>120</td>\n",
              "      <td>354</td>\n",
              "      <td>0</td>\n",
              "      <td>1</td>\n",
              "      <td>163</td>\n",
              "      <td>1</td>\n",
              "      <td>0.6</td>\n",
              "      <td>2</td>\n",
              "      <td>0</td>\n",
              "      <td>2</td>\n",
              "      <td>1</td>\n",
              "    </tr>\n",
              "  </tbody>\n",
              "</table>\n",
              "</div>\n",
              "      <button class=\"colab-df-convert\" onclick=\"convertToInteractive('df-d9c84e0e-f798-46ad-8804-cd3ab2f2c6aa')\"\n",
              "              title=\"Convert this dataframe to an interactive table.\"\n",
              "              style=\"display:none;\">\n",
              "        \n",
              "  <svg xmlns=\"http://www.w3.org/2000/svg\" height=\"24px\"viewBox=\"0 0 24 24\"\n",
              "       width=\"24px\">\n",
              "    <path d=\"M0 0h24v24H0V0z\" fill=\"none\"/>\n",
              "    <path d=\"M18.56 5.44l.94 2.06.94-2.06 2.06-.94-2.06-.94-.94-2.06-.94 2.06-2.06.94zm-11 1L8.5 8.5l.94-2.06 2.06-.94-2.06-.94L8.5 2.5l-.94 2.06-2.06.94zm10 10l.94 2.06.94-2.06 2.06-.94-2.06-.94-.94-2.06-.94 2.06-2.06.94z\"/><path d=\"M17.41 7.96l-1.37-1.37c-.4-.4-.92-.59-1.43-.59-.52 0-1.04.2-1.43.59L10.3 9.45l-7.72 7.72c-.78.78-.78 2.05 0 2.83L4 21.41c.39.39.9.59 1.41.59.51 0 1.02-.2 1.41-.59l7.78-7.78 2.81-2.81c.8-.78.8-2.07 0-2.86zM5.41 20L4 18.59l7.72-7.72 1.47 1.35L5.41 20z\"/>\n",
              "  </svg>\n",
              "      </button>\n",
              "      \n",
              "  <style>\n",
              "    .colab-df-container {\n",
              "      display:flex;\n",
              "      flex-wrap:wrap;\n",
              "      gap: 12px;\n",
              "    }\n",
              "\n",
              "    .colab-df-convert {\n",
              "      background-color: #E8F0FE;\n",
              "      border: none;\n",
              "      border-radius: 50%;\n",
              "      cursor: pointer;\n",
              "      display: none;\n",
              "      fill: #1967D2;\n",
              "      height: 32px;\n",
              "      padding: 0 0 0 0;\n",
              "      width: 32px;\n",
              "    }\n",
              "\n",
              "    .colab-df-convert:hover {\n",
              "      background-color: #E2EBFA;\n",
              "      box-shadow: 0px 1px 2px rgba(60, 64, 67, 0.3), 0px 1px 3px 1px rgba(60, 64, 67, 0.15);\n",
              "      fill: #174EA6;\n",
              "    }\n",
              "\n",
              "    [theme=dark] .colab-df-convert {\n",
              "      background-color: #3B4455;\n",
              "      fill: #D2E3FC;\n",
              "    }\n",
              "\n",
              "    [theme=dark] .colab-df-convert:hover {\n",
              "      background-color: #434B5C;\n",
              "      box-shadow: 0px 1px 3px 1px rgba(0, 0, 0, 0.15);\n",
              "      filter: drop-shadow(0px 1px 2px rgba(0, 0, 0, 0.3));\n",
              "      fill: #FFFFFF;\n",
              "    }\n",
              "  </style>\n",
              "\n",
              "      <script>\n",
              "        const buttonEl =\n",
              "          document.querySelector('#df-d9c84e0e-f798-46ad-8804-cd3ab2f2c6aa button.colab-df-convert');\n",
              "        buttonEl.style.display =\n",
              "          google.colab.kernel.accessAllowed ? 'block' : 'none';\n",
              "\n",
              "        async function convertToInteractive(key) {\n",
              "          const element = document.querySelector('#df-d9c84e0e-f798-46ad-8804-cd3ab2f2c6aa');\n",
              "          const dataTable =\n",
              "            await google.colab.kernel.invokeFunction('convertToInteractive',\n",
              "                                                     [key], {});\n",
              "          if (!dataTable) return;\n",
              "\n",
              "          const docLinkHtml = 'Like what you see? Visit the ' +\n",
              "            '<a target=\"_blank\" href=https://colab.research.google.com/notebooks/data_table.ipynb>data table notebook</a>'\n",
              "            + ' to learn more about interactive tables.';\n",
              "          element.innerHTML = '';\n",
              "          dataTable['output_type'] = 'display_data';\n",
              "          await google.colab.output.renderOutput(dataTable, element);\n",
              "          const docLink = document.createElement('div');\n",
              "          docLink.innerHTML = docLinkHtml;\n",
              "          element.appendChild(docLink);\n",
              "        }\n",
              "      </script>\n",
              "    </div>\n",
              "  </div>\n",
              "  "
            ]
          },
          "metadata": {},
          "execution_count": 2
        }
      ]
    },
    {
      "cell_type": "markdown",
      "source": [
        "**Split Data**"
      ],
      "metadata": {
        "id": "8jfBtAxjJjuf"
      }
    },
    {
      "cell_type": "code",
      "source": [
        "# separate input variables and output variable\n",
        "X = df.drop(\"target\", axis=1)\n",
        "y = df[\"target\"]"
      ],
      "metadata": {
        "id": "_gHQ3tmoImD_"
      },
      "execution_count": 3,
      "outputs": []
    },
    {
      "cell_type": "code",
      "source": [
        "# split into train and test set\n",
        "from sklearn.model_selection import train_test_split\n",
        "\n",
        "X_train, X_test, y_train, y_test = train_test_split(X, y, test_size=0.2, random_state = 42)"
      ],
      "metadata": {
        "id": "QFg0hC07ImLQ"
      },
      "execution_count": 4,
      "outputs": []
    },
    {
      "cell_type": "code",
      "source": [
        "X_train.shape[1]  # number of features"
      ],
      "metadata": {
        "colab": {
          "base_uri": "https://localhost:8080/"
        },
        "id": "XXCljtb1KXVN",
        "outputId": "a35c6df4-1321-4398-ca5a-1a023f691000"
      },
      "execution_count": 7,
      "outputs": [
        {
          "output_type": "execute_result",
          "data": {
            "text/plain": [
              "13"
            ]
          },
          "metadata": {},
          "execution_count": 7
        }
      ]
    },
    {
      "cell_type": "markdown",
      "source": [
        "**Architecture of Model**\n",
        "- Input Layer : Number of features in X_train (13 in this case)\n",
        "- First Dense Layer : 32 neurons\n",
        "- Second Dense Layer : 16 neurons\n",
        "- Third Dense Layer : 8 neurons\n",
        "- Output Layer : 1 neuron \n",
        "\n",
        "- Output Layer will use `sigmoid function` to give a probability in range [0,1], which is useful in Binary Classification.\n",
        "- Other layers will use `ReLU (Rectified Linear Units)` as activation function. \n",
        "\n",
        "  \n",
        "    f(x) = max ( 0, x )\n",
        "\n"
      ],
      "metadata": {
        "id": "-AQs0575KNlS"
      }
    },
    {
      "cell_type": "markdown",
      "source": [
        "**Build Model**"
      ],
      "metadata": {
        "id": "wzvR77NiJsQ8"
      }
    },
    {
      "cell_type": "code",
      "source": [
        "import tensorflow as tf\n",
        "from tensorflow import keras\n",
        "from tensorflow.keras import Sequential\n",
        "from tensorflow.keras import layers\n",
        "from tensorflow.keras.layers import Dense"
      ],
      "metadata": {
        "id": "zmNEB6nTImSG"
      },
      "execution_count": 5,
      "outputs": []
    },
    {
      "cell_type": "code",
      "source": [
        "# create a Sequential Model\n",
        "model = Sequential()\n",
        "\n",
        "# add layers\n",
        "\n",
        "# input layer : num of neurons, activation function and input data\n",
        "model.add(Dense(32, activation=\"relu\", input_shape=(X_train.shape[1],)))\n",
        "\n",
        "# first hidden layer\n",
        "model.add(Dense(16, activation=\"relu\"))\n",
        "\n",
        "# second hidden layer\n",
        "model.add(Dense(8, activation=\"relu\"))\n",
        "\n",
        "# output layer\n",
        "model.add(Dense(1, activation=\"sigmoid\"))"
      ],
      "metadata": {
        "id": "KUBjH8C9ImX4"
      },
      "execution_count": 9,
      "outputs": []
    },
    {
      "cell_type": "markdown",
      "source": [
        "**Compile Model**\n",
        "- `Loss Function` : We used `binary_crossentropy` in this model. Suitable for binary classification that gives output in form of probablity.\n",
        "- `Optimizer` : rmsprop is used\n",
        "- `Learning Rate` : We use 0.001. The range of learning rate is `10^{-6} < x < 1.0`. \n",
        "- `Metrics` : To evaluate the model. We use accuracy here, to calculate how often the prediction is correct."
      ],
      "metadata": {
        "id": "2MjdeDv6NhZr"
      }
    },
    {
      "cell_type": "code",
      "source": [
        "# compile model\n",
        "from tensorflow.keras.optimizers import RMSprop\n",
        "\n",
        "# learning rate = 0.001\n",
        "optimizer = RMSprop(0.001)\n",
        "\n",
        "# compiling model\n",
        "model.compile(loss=\"binary_crossentropy\", optimizer=optimizer, metrics=[\"accuracy\"])"
      ],
      "metadata": {
        "id": "zKIhmJ4QImdB"
      },
      "execution_count": 10,
      "outputs": []
    },
    {
      "cell_type": "code",
      "source": [
        "model.summary()"
      ],
      "metadata": {
        "colab": {
          "base_uri": "https://localhost:8080/"
        },
        "id": "alP2PkOrImiL",
        "outputId": "31161108-53d3-47a7-df6d-0b513c8a6b18"
      },
      "execution_count": 11,
      "outputs": [
        {
          "output_type": "stream",
          "name": "stdout",
          "text": [
            "Model: \"sequential_1\"\n",
            "_________________________________________________________________\n",
            " Layer (type)                Output Shape              Param #   \n",
            "=================================================================\n",
            " dense (Dense)               (None, 32)                448       \n",
            "                                                                 \n",
            " dense_1 (Dense)             (None, 16)                528       \n",
            "                                                                 \n",
            " dense_2 (Dense)             (None, 8)                 136       \n",
            "                                                                 \n",
            " dense_3 (Dense)             (None, 1)                 9         \n",
            "                                                                 \n",
            "=================================================================\n",
            "Total params: 1,121\n",
            "Trainable params: 1,121\n",
            "Non-trainable params: 0\n",
            "_________________________________________________________________\n"
          ]
        }
      ]
    },
    {
      "cell_type": "code",
      "source": [
        "# plot the model\n",
        "from tensorflow.keras.utils import plot_model\n",
        "\n",
        "plot_model(model)"
      ],
      "metadata": {
        "colab": {
          "base_uri": "https://localhost:8080/",
          "height": 466
        },
        "id": "pep5kParImoU",
        "outputId": "3855f5a9-5901-4d71-8cc0-d0087e0a2a71"
      },
      "execution_count": 12,
      "outputs": [
        {
          "output_type": "execute_result",
          "data": {
            "text/plain": [
              "<IPython.core.display.Image object>"
            ],
            "image/png": "[encoded data removed]"
          },
          "metadata": {},
          "execution_count": 12
        }
      ]
    },
    {
      "cell_type": "markdown",
      "source": [
        "**Train Model**\n",
        "- The model is initially trained for 200 epochs with a batch size of 10. Both `epochs and batch size are hyperparameters` that can be modified to optimise the model.\n",
        "- `validation_split` : Fraction of the training data to be used as data validation. Will not be trained, and will be used to evaluate the loss and any model metrics at the end of each epoch.\n",
        "- `verbose` : For printing purposed that makes output more readable.\n",
        "\n",
        "- `History` (in this notebook):\n",
        "    - A variable that saves the trained model\n",
        "    - Tensorflow Keras maintains History object in the background when running a model\n",
        "    - Keeps all loss values and other metric values in memory for visualizations"
      ],
      "metadata": {
        "id": "5nzDk-kxPY7H"
      }
    },
    {
      "cell_type": "code",
      "source": [
        "history = model.fit(X_train, y_train, validation_split=0.2,\n",
        "                    epochs=200, batch_size=10, verbose=1)"
      ],
      "metadata": {
        "colab": {
          "base_uri": "https://localhost:8080/"
        },
        "id": "7unFQSE-ImwD",
        "outputId": "a3b10a6e-7a7e-4f3b-b786-5fde58854ae0"
      },
      "execution_count": 13,
      "outputs": [
        {
          "output_type": "stream",
          "name": "stdout",
          "text": [
            "Epoch 1/200\n",
            "20/20 [==============================] - 3s 25ms/step - loss: 2.3568 - accuracy: 0.6218 - val_loss: 1.2118 - val_accuracy: 0.6531\n",
            "Epoch 2/200\n",
            "20/20 [==============================] - 0s 6ms/step - loss: 1.3017 - accuracy: 0.6373 - val_loss: 1.0361 - val_accuracy: 0.7143\n",
            "Epoch 3/200\n",
            "20/20 [==============================] - 0s 6ms/step - loss: 1.2564 - accuracy: 0.6684 - val_loss: 0.9051 - val_accuracy: 0.6735\n",
            "Epoch 4/200\n",
            "20/20 [==============================] - 0s 6ms/step - loss: 1.1264 - accuracy: 0.6218 - val_loss: 1.2140 - val_accuracy: 0.6327\n",
            "Epoch 5/200\n",
            "20/20 [==============================] - 0s 7ms/step - loss: 1.2491 - accuracy: 0.6425 - val_loss: 0.9372 - val_accuracy: 0.7551\n",
            "Epoch 6/200\n",
            "20/20 [==============================] - 0s 10ms/step - loss: 0.9587 - accuracy: 0.6632 - val_loss: 0.8771 - val_accuracy: 0.7755\n",
            "Epoch 7/200\n",
            "20/20 [==============================] - 0s 7ms/step - loss: 0.9280 - accuracy: 0.6684 - val_loss: 0.9816 - val_accuracy: 0.6327\n",
            "Epoch 8/200\n",
            "20/20 [==============================] - 0s 6ms/step - loss: 1.0614 - accuracy: 0.6062 - val_loss: 1.8995 - val_accuracy: 0.4490\n",
            "Epoch 9/200\n",
            "20/20 [==============================] - 0s 6ms/step - loss: 1.0025 - accuracy: 0.6166 - val_loss: 0.6560 - val_accuracy: 0.7143\n",
            "Epoch 10/200\n",
            "20/20 [==============================] - 0s 6ms/step - loss: 0.9712 - accuracy: 0.6684 - val_loss: 0.9693 - val_accuracy: 0.6327\n",
            "Epoch 11/200\n",
            "20/20 [==============================] - 0s 6ms/step - loss: 0.8742 - accuracy: 0.6788 - val_loss: 0.9930 - val_accuracy: 0.5918\n",
            "Epoch 12/200\n",
            "20/20 [==============================] - 0s 6ms/step - loss: 0.9558 - accuracy: 0.6528 - val_loss: 0.5996 - val_accuracy: 0.6939\n",
            "Epoch 13/200\n",
            "20/20 [==============================] - 0s 6ms/step - loss: 0.7871 - accuracy: 0.6632 - val_loss: 0.6810 - val_accuracy: 0.6735\n",
            "Epoch 14/200\n",
            "20/20 [==============================] - 0s 7ms/step - loss: 0.9292 - accuracy: 0.5907 - val_loss: 0.6976 - val_accuracy: 0.7551\n",
            "Epoch 15/200\n",
            "20/20 [==============================] - 0s 6ms/step - loss: 0.9304 - accuracy: 0.6373 - val_loss: 0.8092 - val_accuracy: 0.7143\n",
            "Epoch 16/200\n",
            "20/20 [==============================] - 0s 6ms/step - loss: 0.8790 - accuracy: 0.6580 - val_loss: 0.6618 - val_accuracy: 0.6735\n",
            "Epoch 17/200\n",
            "20/20 [==============================] - 0s 6ms/step - loss: 0.7400 - accuracy: 0.6736 - val_loss: 0.6039 - val_accuracy: 0.7143\n",
            "Epoch 18/200\n",
            "20/20 [==============================] - 0s 6ms/step - loss: 0.9836 - accuracy: 0.5959 - val_loss: 1.1008 - val_accuracy: 0.4694\n",
            "Epoch 19/200\n",
            "20/20 [==============================] - 0s 6ms/step - loss: 0.6575 - accuracy: 0.6788 - val_loss: 0.8134 - val_accuracy: 0.7143\n",
            "Epoch 20/200\n",
            "20/20 [==============================] - 0s 6ms/step - loss: 0.8019 - accuracy: 0.6891 - val_loss: 1.0846 - val_accuracy: 0.6122\n",
            "Epoch 21/200\n",
            "20/20 [==============================] - 0s 7ms/step - loss: 0.7638 - accuracy: 0.6062 - val_loss: 0.7384 - val_accuracy: 0.7347\n",
            "Epoch 22/200\n",
            "20/20 [==============================] - 0s 6ms/step - loss: 0.8489 - accuracy: 0.6062 - val_loss: 0.5072 - val_accuracy: 0.7143\n",
            "Epoch 23/200\n",
            "20/20 [==============================] - 0s 6ms/step - loss: 0.8383 - accuracy: 0.5959 - val_loss: 0.6256 - val_accuracy: 0.6531\n",
            "Epoch 24/200\n",
            "20/20 [==============================] - 0s 6ms/step - loss: 0.8066 - accuracy: 0.6166 - val_loss: 0.5723 - val_accuracy: 0.6735\n",
            "Epoch 25/200\n",
            "20/20 [==============================] - 0s 6ms/step - loss: 0.6156 - accuracy: 0.7150 - val_loss: 0.5234 - val_accuracy: 0.7347\n",
            "Epoch 26/200\n",
            "20/20 [==============================] - 0s 6ms/step - loss: 0.8055 - accuracy: 0.6477 - val_loss: 0.4914 - val_accuracy: 0.7755\n",
            "Epoch 27/200\n",
            "20/20 [==============================] - 0s 6ms/step - loss: 0.8603 - accuracy: 0.6528 - val_loss: 0.4992 - val_accuracy: 0.7551\n",
            "Epoch 28/200\n",
            "20/20 [==============================] - 0s 6ms/step - loss: 0.6457 - accuracy: 0.6995 - val_loss: 1.7616 - val_accuracy: 0.4694\n",
            "Epoch 29/200\n",
            "20/20 [==============================] - 0s 6ms/step - loss: 0.7815 - accuracy: 0.6528 - val_loss: 0.4579 - val_accuracy: 0.7959\n",
            "Epoch 30/200\n",
            "20/20 [==============================] - 0s 6ms/step - loss: 0.6927 - accuracy: 0.6839 - val_loss: 0.6994 - val_accuracy: 0.6122\n",
            "Epoch 31/200\n",
            "20/20 [==============================] - 0s 7ms/step - loss: 0.8299 - accuracy: 0.6373 - val_loss: 0.7448 - val_accuracy: 0.7347\n",
            "Epoch 32/200\n",
            "20/20 [==============================] - 0s 6ms/step - loss: 0.6508 - accuracy: 0.6839 - val_loss: 0.9149 - val_accuracy: 0.6735\n",
            "Epoch 33/200\n",
            "20/20 [==============================] - 0s 6ms/step - loss: 0.7186 - accuracy: 0.6736 - val_loss: 0.6979 - val_accuracy: 0.7143\n",
            "Epoch 34/200\n",
            "20/20 [==============================] - 0s 6ms/step - loss: 0.7460 - accuracy: 0.6528 - val_loss: 0.4410 - val_accuracy: 0.7347\n",
            "Epoch 35/200\n",
            "20/20 [==============================] - 0s 6ms/step - loss: 0.6105 - accuracy: 0.6995 - val_loss: 1.3496 - val_accuracy: 0.6122\n",
            "Epoch 36/200\n",
            "20/20 [==============================] - 0s 7ms/step - loss: 0.7391 - accuracy: 0.6528 - val_loss: 0.6105 - val_accuracy: 0.7551\n",
            "Epoch 37/200\n",
            "20/20 [==============================] - 0s 6ms/step - loss: 0.6889 - accuracy: 0.6736 - val_loss: 0.6720 - val_accuracy: 0.7347\n",
            "Epoch 38/200\n",
            "20/20 [==============================] - 0s 7ms/step - loss: 0.7060 - accuracy: 0.6528 - val_loss: 0.7817 - val_accuracy: 0.5510\n",
            "Epoch 39/200\n",
            "20/20 [==============================] - 0s 6ms/step - loss: 0.6820 - accuracy: 0.6477 - val_loss: 0.4814 - val_accuracy: 0.7755\n",
            "Epoch 40/200\n",
            "20/20 [==============================] - 0s 6ms/step - loss: 0.6063 - accuracy: 0.6891 - val_loss: 0.8204 - val_accuracy: 0.6939\n",
            "Epoch 41/200\n",
            "20/20 [==============================] - 0s 6ms/step - loss: 0.5599 - accuracy: 0.7254 - val_loss: 0.4425 - val_accuracy: 0.7755\n",
            "Epoch 42/200\n",
            "20/20 [==============================] - 0s 6ms/step - loss: 0.7690 - accuracy: 0.6580 - val_loss: 1.1582 - val_accuracy: 0.4898\n",
            "Epoch 43/200\n",
            "20/20 [==============================] - 0s 6ms/step - loss: 0.6077 - accuracy: 0.7358 - val_loss: 0.5311 - val_accuracy: 0.7959\n",
            "Epoch 44/200\n",
            "20/20 [==============================] - 0s 6ms/step - loss: 0.6532 - accuracy: 0.6839 - val_loss: 0.9538 - val_accuracy: 0.5306\n",
            "Epoch 45/200\n",
            "20/20 [==============================] - 0s 6ms/step - loss: 0.5998 - accuracy: 0.7306 - val_loss: 0.4911 - val_accuracy: 0.7347\n",
            "Epoch 46/200\n",
            "20/20 [==============================] - 0s 6ms/step - loss: 0.6116 - accuracy: 0.6995 - val_loss: 0.4862 - val_accuracy: 0.8367\n",
            "Epoch 47/200\n",
            "20/20 [==============================] - 0s 7ms/step - loss: 0.6416 - accuracy: 0.6943 - val_loss: 0.5141 - val_accuracy: 0.7959\n",
            "Epoch 48/200\n",
            "20/20 [==============================] - 0s 5ms/step - loss: 0.6091 - accuracy: 0.6943 - val_loss: 0.5848 - val_accuracy: 0.7755\n",
            "Epoch 49/200\n",
            "20/20 [==============================] - 0s 6ms/step - loss: 0.5853 - accuracy: 0.7306 - val_loss: 0.4779 - val_accuracy: 0.7551\n",
            "Epoch 50/200\n",
            "20/20 [==============================] - 0s 6ms/step - loss: 0.6511 - accuracy: 0.7254 - val_loss: 0.6456 - val_accuracy: 0.5918\n",
            "Epoch 51/200\n",
            "20/20 [==============================] - 0s 6ms/step - loss: 0.6037 - accuracy: 0.7513 - val_loss: 0.4663 - val_accuracy: 0.7755\n",
            "Epoch 52/200\n",
            "20/20 [==============================] - 0s 5ms/step - loss: 0.6497 - accuracy: 0.6839 - val_loss: 0.5516 - val_accuracy: 0.7143\n",
            "Epoch 53/200\n",
            "20/20 [==============================] - 0s 6ms/step - loss: 0.4989 - accuracy: 0.7461 - val_loss: 1.1969 - val_accuracy: 0.4694\n",
            "Epoch 54/200\n",
            "20/20 [==============================] - 0s 6ms/step - loss: 0.6219 - accuracy: 0.6943 - val_loss: 0.5100 - val_accuracy: 0.7347\n",
            "Epoch 55/200\n",
            "20/20 [==============================] - 0s 6ms/step - loss: 0.5311 - accuracy: 0.7617 - val_loss: 0.4573 - val_accuracy: 0.8367\n",
            "Epoch 56/200\n",
            "20/20 [==============================] - 0s 6ms/step - loss: 0.6871 - accuracy: 0.6684 - val_loss: 0.9061 - val_accuracy: 0.6735\n",
            "Epoch 57/200\n",
            "20/20 [==============================] - 0s 5ms/step - loss: 0.6035 - accuracy: 0.7098 - val_loss: 0.6724 - val_accuracy: 0.7143\n",
            "Epoch 58/200\n",
            "20/20 [==============================] - 0s 6ms/step - loss: 0.6467 - accuracy: 0.6684 - val_loss: 0.4820 - val_accuracy: 0.7347\n",
            "Epoch 59/200\n",
            "20/20 [==============================] - 0s 7ms/step - loss: 0.5863 - accuracy: 0.6943 - val_loss: 0.5622 - val_accuracy: 0.6735\n",
            "Epoch 60/200\n",
            "20/20 [==============================] - 0s 6ms/step - loss: 0.5688 - accuracy: 0.7098 - val_loss: 0.6668 - val_accuracy: 0.5714\n",
            "Epoch 61/200\n",
            "20/20 [==============================] - 0s 6ms/step - loss: 0.5463 - accuracy: 0.7254 - val_loss: 0.4174 - val_accuracy: 0.8163\n",
            "Epoch 62/200\n",
            "20/20 [==============================] - 0s 5ms/step - loss: 0.5842 - accuracy: 0.7098 - val_loss: 1.0707 - val_accuracy: 0.4898\n",
            "Epoch 63/200\n",
            "20/20 [==============================] - 0s 6ms/step - loss: 0.4861 - accuracy: 0.7617 - val_loss: 0.4351 - val_accuracy: 0.7755\n",
            "Epoch 64/200\n",
            "20/20 [==============================] - 0s 6ms/step - loss: 0.6235 - accuracy: 0.7047 - val_loss: 0.4163 - val_accuracy: 0.8571\n",
            "Epoch 65/200\n",
            "20/20 [==============================] - 0s 6ms/step - loss: 0.5879 - accuracy: 0.6788 - val_loss: 0.4094 - val_accuracy: 0.7959\n",
            "Epoch 66/200\n",
            "20/20 [==============================] - 0s 6ms/step - loss: 0.5723 - accuracy: 0.7202 - val_loss: 0.4682 - val_accuracy: 0.7755\n",
            "Epoch 67/200\n",
            "20/20 [==============================] - 0s 6ms/step - loss: 0.5244 - accuracy: 0.7668 - val_loss: 0.8257 - val_accuracy: 0.4898\n",
            "Epoch 68/200\n",
            "20/20 [==============================] - 0s 6ms/step - loss: 0.5419 - accuracy: 0.7409 - val_loss: 0.4079 - val_accuracy: 0.7959\n",
            "Epoch 69/200\n",
            "20/20 [==============================] - 0s 6ms/step - loss: 0.5196 - accuracy: 0.7513 - val_loss: 0.6140 - val_accuracy: 0.7347\n",
            "Epoch 70/200\n",
            "20/20 [==============================] - 0s 6ms/step - loss: 0.5178 - accuracy: 0.7358 - val_loss: 1.1328 - val_accuracy: 0.6531\n",
            "Epoch 71/200\n",
            "20/20 [==============================] - 0s 5ms/step - loss: 0.6685 - accuracy: 0.7150 - val_loss: 0.4803 - val_accuracy: 0.6939\n",
            "Epoch 72/200\n",
            "20/20 [==============================] - 0s 5ms/step - loss: 0.5269 - accuracy: 0.7513 - val_loss: 0.4265 - val_accuracy: 0.7959\n",
            "Epoch 73/200\n",
            "20/20 [==============================] - 0s 5ms/step - loss: 0.5651 - accuracy: 0.7461 - val_loss: 0.5869 - val_accuracy: 0.7347\n",
            "Epoch 74/200\n",
            "20/20 [==============================] - 0s 5ms/step - loss: 0.5463 - accuracy: 0.7358 - val_loss: 0.4827 - val_accuracy: 0.7959\n",
            "Epoch 75/200\n",
            "20/20 [==============================] - 0s 6ms/step - loss: 0.4916 - accuracy: 0.7617 - val_loss: 0.6594 - val_accuracy: 0.7551\n",
            "Epoch 76/200\n",
            "20/20 [==============================] - 0s 6ms/step - loss: 0.5215 - accuracy: 0.7772 - val_loss: 0.4968 - val_accuracy: 0.8163\n",
            "Epoch 77/200\n",
            "20/20 [==============================] - 0s 6ms/step - loss: 0.5342 - accuracy: 0.7565 - val_loss: 0.4329 - val_accuracy: 0.7959\n",
            "Epoch 78/200\n",
            "20/20 [==============================] - 0s 6ms/step - loss: 0.5174 - accuracy: 0.7306 - val_loss: 0.4552 - val_accuracy: 0.7551\n",
            "Epoch 79/200\n",
            "20/20 [==============================] - 0s 7ms/step - loss: 0.5914 - accuracy: 0.7150 - val_loss: 0.4653 - val_accuracy: 0.7959\n",
            "Epoch 80/200\n",
            "20/20 [==============================] - 0s 6ms/step - loss: 0.5344 - accuracy: 0.7617 - val_loss: 0.7707 - val_accuracy: 0.6939\n",
            "Epoch 81/200\n",
            "20/20 [==============================] - 0s 6ms/step - loss: 0.5003 - accuracy: 0.7668 - val_loss: 0.5401 - val_accuracy: 0.7143\n",
            "Epoch 82/200\n",
            "20/20 [==============================] - 0s 6ms/step - loss: 0.5514 - accuracy: 0.7824 - val_loss: 0.6020 - val_accuracy: 0.6735\n",
            "Epoch 83/200\n",
            "20/20 [==============================] - 0s 6ms/step - loss: 0.5475 - accuracy: 0.7513 - val_loss: 0.3935 - val_accuracy: 0.8367\n",
            "Epoch 84/200\n",
            "20/20 [==============================] - 0s 7ms/step - loss: 0.4890 - accuracy: 0.7824 - val_loss: 0.4408 - val_accuracy: 0.7755\n",
            "Epoch 85/200\n",
            "20/20 [==============================] - 0s 6ms/step - loss: 0.5261 - accuracy: 0.7513 - val_loss: 0.6670 - val_accuracy: 0.5918\n",
            "Epoch 86/200\n",
            "20/20 [==============================] - 0s 7ms/step - loss: 0.4977 - accuracy: 0.7824 - val_loss: 0.5657 - val_accuracy: 0.7551\n",
            "Epoch 87/200\n",
            "20/20 [==============================] - 0s 7ms/step - loss: 0.4692 - accuracy: 0.7876 - val_loss: 0.6416 - val_accuracy: 0.7347\n",
            "Epoch 88/200\n",
            "20/20 [==============================] - 0s 5ms/step - loss: 0.4729 - accuracy: 0.7772 - val_loss: 0.4469 - val_accuracy: 0.7959\n",
            "Epoch 89/200\n",
            "20/20 [==============================] - 0s 6ms/step - loss: 0.4905 - accuracy: 0.7720 - val_loss: 1.4070 - val_accuracy: 0.4694\n",
            "Epoch 90/200\n",
            "20/20 [==============================] - 0s 7ms/step - loss: 0.5004 - accuracy: 0.7617 - val_loss: 0.4140 - val_accuracy: 0.7959\n",
            "Epoch 91/200\n",
            "20/20 [==============================] - 0s 9ms/step - loss: 0.5279 - accuracy: 0.7461 - val_loss: 0.5436 - val_accuracy: 0.6939\n",
            "Epoch 92/200\n",
            "20/20 [==============================] - 0s 6ms/step - loss: 0.4810 - accuracy: 0.7772 - val_loss: 1.0116 - val_accuracy: 0.4694\n",
            "Epoch 93/200\n",
            "20/20 [==============================] - 0s 7ms/step - loss: 0.5045 - accuracy: 0.7927 - val_loss: 0.7662 - val_accuracy: 0.5510\n",
            "Epoch 94/200\n",
            "20/20 [==============================] - 0s 6ms/step - loss: 0.4852 - accuracy: 0.7927 - val_loss: 0.4042 - val_accuracy: 0.8163\n",
            "Epoch 95/200\n",
            "20/20 [==============================] - 0s 6ms/step - loss: 0.5495 - accuracy: 0.7409 - val_loss: 0.4078 - val_accuracy: 0.8367\n",
            "Epoch 96/200\n",
            "20/20 [==============================] - 0s 6ms/step - loss: 0.4800 - accuracy: 0.7876 - val_loss: 0.9042 - val_accuracy: 0.5306\n",
            "Epoch 97/200\n",
            "20/20 [==============================] - 0s 6ms/step - loss: 0.4769 - accuracy: 0.7979 - val_loss: 0.3878 - val_accuracy: 0.8163\n",
            "Epoch 98/200\n",
            "20/20 [==============================] - 0s 5ms/step - loss: 0.4934 - accuracy: 0.7772 - val_loss: 0.4274 - val_accuracy: 0.7755\n",
            "Epoch 99/200\n",
            "20/20 [==============================] - 0s 7ms/step - loss: 0.4934 - accuracy: 0.7772 - val_loss: 0.4027 - val_accuracy: 0.7959\n",
            "Epoch 100/200\n",
            "20/20 [==============================] - 0s 6ms/step - loss: 0.4808 - accuracy: 0.7824 - val_loss: 0.4237 - val_accuracy: 0.7755\n",
            "Epoch 101/200\n",
            "20/20 [==============================] - 0s 6ms/step - loss: 0.4402 - accuracy: 0.7720 - val_loss: 0.3953 - val_accuracy: 0.8367\n",
            "Epoch 102/200\n",
            "20/20 [==============================] - 0s 6ms/step - loss: 0.4499 - accuracy: 0.7668 - val_loss: 0.7018 - val_accuracy: 0.7143\n",
            "Epoch 103/200\n",
            "20/20 [==============================] - 0s 9ms/step - loss: 0.4818 - accuracy: 0.7720 - val_loss: 0.4390 - val_accuracy: 0.7551\n",
            "Epoch 104/200\n",
            "20/20 [==============================] - 0s 6ms/step - loss: 0.4354 - accuracy: 0.8083 - val_loss: 0.8176 - val_accuracy: 0.5918\n",
            "Epoch 105/200\n",
            "20/20 [==============================] - 0s 6ms/step - loss: 0.4400 - accuracy: 0.7720 - val_loss: 0.4940 - val_accuracy: 0.7347\n",
            "Epoch 106/200\n",
            "20/20 [==============================] - 0s 6ms/step - loss: 0.4222 - accuracy: 0.7979 - val_loss: 0.5642 - val_accuracy: 0.7755\n",
            "Epoch 107/200\n",
            "20/20 [==============================] - 0s 6ms/step - loss: 0.4745 - accuracy: 0.7668 - val_loss: 0.5036 - val_accuracy: 0.8163\n",
            "Epoch 108/200\n",
            "20/20 [==============================] - 0s 6ms/step - loss: 0.4609 - accuracy: 0.7979 - val_loss: 1.2841 - val_accuracy: 0.4694\n",
            "Epoch 109/200\n",
            "20/20 [==============================] - 0s 6ms/step - loss: 0.5171 - accuracy: 0.7617 - val_loss: 0.4911 - val_accuracy: 0.7959\n",
            "Epoch 110/200\n",
            "20/20 [==============================] - 0s 7ms/step - loss: 0.4735 - accuracy: 0.7979 - val_loss: 0.4027 - val_accuracy: 0.7959\n",
            "Epoch 111/200\n",
            "20/20 [==============================] - 0s 6ms/step - loss: 0.4435 - accuracy: 0.7979 - val_loss: 0.6523 - val_accuracy: 0.7347\n",
            "Epoch 112/200\n",
            "20/20 [==============================] - 0s 6ms/step - loss: 0.4704 - accuracy: 0.8031 - val_loss: 0.6922 - val_accuracy: 0.6531\n",
            "Epoch 113/200\n",
            "20/20 [==============================] - 0s 7ms/step - loss: 0.4383 - accuracy: 0.7824 - val_loss: 0.5315 - val_accuracy: 0.7347\n",
            "Epoch 114/200\n",
            "20/20 [==============================] - 0s 7ms/step - loss: 0.4576 - accuracy: 0.8135 - val_loss: 0.6431 - val_accuracy: 0.6327\n",
            "Epoch 115/200\n",
            "20/20 [==============================] - 0s 6ms/step - loss: 0.4530 - accuracy: 0.7979 - val_loss: 0.4197 - val_accuracy: 0.7755\n",
            "Epoch 116/200\n",
            "20/20 [==============================] - 0s 5ms/step - loss: 0.4300 - accuracy: 0.7927 - val_loss: 0.3904 - val_accuracy: 0.8367\n",
            "Epoch 117/200\n",
            "20/20 [==============================] - 0s 6ms/step - loss: 0.4332 - accuracy: 0.8083 - val_loss: 0.5911 - val_accuracy: 0.6939\n",
            "Epoch 118/200\n",
            "20/20 [==============================] - 0s 7ms/step - loss: 0.4017 - accuracy: 0.8135 - val_loss: 0.5695 - val_accuracy: 0.7347\n",
            "Epoch 119/200\n",
            "20/20 [==============================] - 0s 7ms/step - loss: 0.4238 - accuracy: 0.8290 - val_loss: 0.4644 - val_accuracy: 0.7143\n",
            "Epoch 120/200\n",
            "20/20 [==============================] - 0s 6ms/step - loss: 0.4734 - accuracy: 0.7876 - val_loss: 0.4780 - val_accuracy: 0.7551\n",
            "Epoch 121/200\n",
            "20/20 [==============================] - 0s 6ms/step - loss: 0.4839 - accuracy: 0.7720 - val_loss: 0.3814 - val_accuracy: 0.8367\n",
            "Epoch 122/200\n",
            "20/20 [==============================] - 0s 6ms/step - loss: 0.3845 - accuracy: 0.8238 - val_loss: 0.4217 - val_accuracy: 0.8163\n",
            "Epoch 123/200\n",
            "20/20 [==============================] - 0s 6ms/step - loss: 0.4401 - accuracy: 0.7876 - val_loss: 0.4579 - val_accuracy: 0.7755\n",
            "Epoch 124/200\n",
            "20/20 [==============================] - 0s 6ms/step - loss: 0.4375 - accuracy: 0.7927 - val_loss: 0.6497 - val_accuracy: 0.6531\n",
            "Epoch 125/200\n",
            "20/20 [==============================] - 0s 6ms/step - loss: 0.4492 - accuracy: 0.7927 - val_loss: 0.5510 - val_accuracy: 0.7959\n",
            "Epoch 126/200\n",
            "20/20 [==============================] - 0s 6ms/step - loss: 0.4236 - accuracy: 0.8187 - val_loss: 0.4910 - val_accuracy: 0.8163\n",
            "Epoch 127/200\n",
            "20/20 [==============================] - 0s 7ms/step - loss: 0.4601 - accuracy: 0.7772 - val_loss: 0.3822 - val_accuracy: 0.8367\n",
            "Epoch 128/200\n",
            "20/20 [==============================] - 0s 7ms/step - loss: 0.4133 - accuracy: 0.8135 - val_loss: 0.4548 - val_accuracy: 0.7959\n",
            "Epoch 129/200\n",
            "20/20 [==============================] - 0s 6ms/step - loss: 0.4637 - accuracy: 0.8187 - val_loss: 0.4404 - val_accuracy: 0.7755\n",
            "Epoch 130/200\n",
            "20/20 [==============================] - 0s 7ms/step - loss: 0.4186 - accuracy: 0.8135 - val_loss: 0.5721 - val_accuracy: 0.7755\n",
            "Epoch 131/200\n",
            "20/20 [==============================] - 0s 7ms/step - loss: 0.4334 - accuracy: 0.8031 - val_loss: 0.5738 - val_accuracy: 0.7143\n",
            "Epoch 132/200\n",
            "20/20 [==============================] - 0s 6ms/step - loss: 0.3983 - accuracy: 0.8187 - val_loss: 0.3901 - val_accuracy: 0.7959\n",
            "Epoch 133/200\n",
            "20/20 [==============================] - 0s 7ms/step - loss: 0.4033 - accuracy: 0.8031 - val_loss: 0.9868 - val_accuracy: 0.5714\n",
            "Epoch 134/200\n",
            "20/20 [==============================] - 0s 6ms/step - loss: 0.4283 - accuracy: 0.8031 - val_loss: 0.4008 - val_accuracy: 0.7755\n",
            "Epoch 135/200\n",
            "20/20 [==============================] - 0s 7ms/step - loss: 0.4129 - accuracy: 0.7927 - val_loss: 0.5175 - val_accuracy: 0.7551\n",
            "Epoch 136/200\n",
            "20/20 [==============================] - 0s 6ms/step - loss: 0.4528 - accuracy: 0.7617 - val_loss: 0.5196 - val_accuracy: 0.8163\n",
            "Epoch 137/200\n",
            "20/20 [==============================] - 0s 6ms/step - loss: 0.5245 - accuracy: 0.7358 - val_loss: 0.4971 - val_accuracy: 0.8163\n",
            "Epoch 138/200\n",
            "20/20 [==============================] - 0s 7ms/step - loss: 0.4168 - accuracy: 0.8342 - val_loss: 0.4001 - val_accuracy: 0.7755\n",
            "Epoch 139/200\n",
            "20/20 [==============================] - 0s 6ms/step - loss: 0.4742 - accuracy: 0.7927 - val_loss: 0.8207 - val_accuracy: 0.5918\n",
            "Epoch 140/200\n",
            "20/20 [==============================] - 0s 7ms/step - loss: 0.4548 - accuracy: 0.7979 - val_loss: 0.5358 - val_accuracy: 0.7755\n",
            "Epoch 141/200\n",
            "20/20 [==============================] - 0s 6ms/step - loss: 0.4681 - accuracy: 0.7772 - val_loss: 1.3092 - val_accuracy: 0.5102\n",
            "Epoch 142/200\n",
            "20/20 [==============================] - 0s 7ms/step - loss: 0.4920 - accuracy: 0.7668 - val_loss: 0.3952 - val_accuracy: 0.8367\n",
            "Epoch 143/200\n",
            "20/20 [==============================] - 0s 6ms/step - loss: 0.4179 - accuracy: 0.7927 - val_loss: 0.4127 - val_accuracy: 0.8163\n",
            "Epoch 144/200\n",
            "20/20 [==============================] - 0s 6ms/step - loss: 0.4572 - accuracy: 0.8083 - val_loss: 0.4507 - val_accuracy: 0.8163\n",
            "Epoch 145/200\n",
            "20/20 [==============================] - 0s 5ms/step - loss: 0.4586 - accuracy: 0.7876 - val_loss: 0.3930 - val_accuracy: 0.7959\n",
            "Epoch 146/200\n",
            "20/20 [==============================] - 0s 7ms/step - loss: 0.3929 - accuracy: 0.8342 - val_loss: 0.6802 - val_accuracy: 0.6531\n",
            "Epoch 147/200\n",
            "20/20 [==============================] - 0s 6ms/step - loss: 0.4443 - accuracy: 0.8083 - val_loss: 0.7230 - val_accuracy: 0.6327\n",
            "Epoch 148/200\n",
            "20/20 [==============================] - 0s 7ms/step - loss: 0.4354 - accuracy: 0.8238 - val_loss: 0.7294 - val_accuracy: 0.6735\n",
            "Epoch 149/200\n",
            "20/20 [==============================] - 0s 6ms/step - loss: 0.4358 - accuracy: 0.7772 - val_loss: 0.4039 - val_accuracy: 0.8163\n",
            "Epoch 150/200\n",
            "20/20 [==============================] - 0s 7ms/step - loss: 0.4216 - accuracy: 0.7876 - val_loss: 0.4045 - val_accuracy: 0.7755\n",
            "Epoch 151/200\n",
            "20/20 [==============================] - 0s 6ms/step - loss: 0.4787 - accuracy: 0.8135 - val_loss: 0.3964 - val_accuracy: 0.8163\n",
            "Epoch 152/200\n",
            "20/20 [==============================] - 0s 7ms/step - loss: 0.3919 - accuracy: 0.7979 - val_loss: 0.5685 - val_accuracy: 0.7143\n",
            "Epoch 153/200\n",
            "20/20 [==============================] - 0s 7ms/step - loss: 0.4376 - accuracy: 0.8290 - val_loss: 0.4156 - val_accuracy: 0.8163\n",
            "Epoch 154/200\n",
            "20/20 [==============================] - 0s 6ms/step - loss: 0.4141 - accuracy: 0.8135 - val_loss: 0.8206 - val_accuracy: 0.6122\n",
            "Epoch 155/200\n",
            "20/20 [==============================] - 0s 6ms/step - loss: 0.4005 - accuracy: 0.8083 - val_loss: 0.4045 - val_accuracy: 0.8367\n",
            "Epoch 156/200\n",
            "20/20 [==============================] - 0s 6ms/step - loss: 0.4277 - accuracy: 0.7927 - val_loss: 0.4548 - val_accuracy: 0.7551\n",
            "Epoch 157/200\n",
            "20/20 [==============================] - 0s 7ms/step - loss: 0.3951 - accuracy: 0.8083 - val_loss: 0.4685 - val_accuracy: 0.7347\n",
            "Epoch 158/200\n",
            "20/20 [==============================] - 0s 6ms/step - loss: 0.4034 - accuracy: 0.8083 - val_loss: 0.7828 - val_accuracy: 0.6122\n",
            "Epoch 159/200\n",
            "20/20 [==============================] - 0s 7ms/step - loss: 0.4094 - accuracy: 0.8342 - val_loss: 0.7572 - val_accuracy: 0.6327\n",
            "Epoch 160/200\n",
            "20/20 [==============================] - 0s 6ms/step - loss: 0.4348 - accuracy: 0.7772 - val_loss: 0.4621 - val_accuracy: 0.7755\n",
            "Epoch 161/200\n",
            "20/20 [==============================] - 0s 7ms/step - loss: 0.4107 - accuracy: 0.8135 - val_loss: 1.1165 - val_accuracy: 0.5306\n",
            "Epoch 162/200\n",
            "20/20 [==============================] - 0s 6ms/step - loss: 0.4281 - accuracy: 0.7876 - val_loss: 0.5090 - val_accuracy: 0.7551\n",
            "Epoch 163/200\n",
            "20/20 [==============================] - 0s 5ms/step - loss: 0.3903 - accuracy: 0.8187 - val_loss: 0.4030 - val_accuracy: 0.7551\n",
            "Epoch 164/200\n",
            "20/20 [==============================] - 0s 6ms/step - loss: 0.3861 - accuracy: 0.8187 - val_loss: 0.4076 - val_accuracy: 0.7755\n",
            "Epoch 165/200\n",
            "20/20 [==============================] - 0s 7ms/step - loss: 0.4353 - accuracy: 0.7720 - val_loss: 0.4459 - val_accuracy: 0.7959\n",
            "Epoch 166/200\n",
            "20/20 [==============================] - 0s 6ms/step - loss: 0.4118 - accuracy: 0.7927 - val_loss: 0.6784 - val_accuracy: 0.7755\n",
            "Epoch 167/200\n",
            "20/20 [==============================] - 0s 5ms/step - loss: 0.3941 - accuracy: 0.8342 - val_loss: 0.4860 - val_accuracy: 0.8163\n",
            "Epoch 168/200\n",
            "20/20 [==============================] - 0s 6ms/step - loss: 0.4151 - accuracy: 0.8238 - val_loss: 0.4510 - val_accuracy: 0.7959\n",
            "Epoch 169/200\n",
            "20/20 [==============================] - 0s 6ms/step - loss: 0.4182 - accuracy: 0.8394 - val_loss: 0.4068 - val_accuracy: 0.7755\n",
            "Epoch 170/200\n",
            "20/20 [==============================] - 0s 6ms/step - loss: 0.4380 - accuracy: 0.7824 - val_loss: 0.4841 - val_accuracy: 0.7755\n",
            "Epoch 171/200\n",
            "20/20 [==============================] - 0s 7ms/step - loss: 0.4054 - accuracy: 0.7979 - val_loss: 0.5612 - val_accuracy: 0.7755\n",
            "Epoch 172/200\n",
            "20/20 [==============================] - 0s 6ms/step - loss: 0.3906 - accuracy: 0.8394 - val_loss: 0.6613 - val_accuracy: 0.6531\n",
            "Epoch 173/200\n",
            "20/20 [==============================] - 0s 7ms/step - loss: 0.4299 - accuracy: 0.7927 - val_loss: 0.3762 - val_accuracy: 0.7755\n",
            "Epoch 174/200\n",
            "20/20 [==============================] - 0s 6ms/step - loss: 0.4030 - accuracy: 0.8238 - val_loss: 0.4280 - val_accuracy: 0.8163\n",
            "Epoch 175/200\n",
            "20/20 [==============================] - 0s 7ms/step - loss: 0.3703 - accuracy: 0.8549 - val_loss: 1.2898 - val_accuracy: 0.5306\n",
            "Epoch 176/200\n",
            "20/20 [==============================] - 0s 6ms/step - loss: 0.4374 - accuracy: 0.7979 - val_loss: 0.9017 - val_accuracy: 0.6122\n",
            "Epoch 177/200\n",
            "20/20 [==============================] - 0s 7ms/step - loss: 0.4398 - accuracy: 0.8187 - val_loss: 0.4015 - val_accuracy: 0.7755\n",
            "Epoch 178/200\n",
            "20/20 [==============================] - 0s 5ms/step - loss: 0.3901 - accuracy: 0.8135 - val_loss: 0.9512 - val_accuracy: 0.5714\n",
            "Epoch 179/200\n",
            "20/20 [==============================] - 0s 6ms/step - loss: 0.3935 - accuracy: 0.8135 - val_loss: 0.4340 - val_accuracy: 0.7959\n",
            "Epoch 180/200\n",
            "20/20 [==============================] - 0s 7ms/step - loss: 0.4388 - accuracy: 0.8083 - val_loss: 0.3836 - val_accuracy: 0.8163\n",
            "Epoch 181/200\n",
            "20/20 [==============================] - 0s 6ms/step - loss: 0.3486 - accuracy: 0.8446 - val_loss: 0.5851 - val_accuracy: 0.7755\n",
            "Epoch 182/200\n",
            "20/20 [==============================] - 0s 7ms/step - loss: 0.3658 - accuracy: 0.8083 - val_loss: 0.4201 - val_accuracy: 0.7755\n",
            "Epoch 183/200\n",
            "20/20 [==============================] - 0s 6ms/step - loss: 0.3703 - accuracy: 0.8342 - val_loss: 0.6095 - val_accuracy: 0.7755\n",
            "Epoch 184/200\n",
            "20/20 [==============================] - 0s 7ms/step - loss: 0.4201 - accuracy: 0.7927 - val_loss: 0.4915 - val_accuracy: 0.8163\n",
            "Epoch 185/200\n",
            "20/20 [==============================] - 0s 6ms/step - loss: 0.3929 - accuracy: 0.8497 - val_loss: 0.3952 - val_accuracy: 0.7959\n",
            "Epoch 186/200\n",
            "20/20 [==============================] - 0s 6ms/step - loss: 0.3988 - accuracy: 0.8187 - val_loss: 0.3980 - val_accuracy: 0.7959\n",
            "Epoch 187/200\n",
            "20/20 [==============================] - 0s 7ms/step - loss: 0.4314 - accuracy: 0.8031 - val_loss: 0.5119 - val_accuracy: 0.7755\n",
            "Epoch 188/200\n",
            "20/20 [==============================] - 0s 7ms/step - loss: 0.3743 - accuracy: 0.8394 - val_loss: 0.3784 - val_accuracy: 0.8163\n",
            "Epoch 189/200\n",
            "20/20 [==============================] - 0s 7ms/step - loss: 0.4279 - accuracy: 0.7979 - val_loss: 0.4220 - val_accuracy: 0.7959\n",
            "Epoch 190/200\n",
            "20/20 [==============================] - 0s 6ms/step - loss: 0.4351 - accuracy: 0.8083 - val_loss: 0.3688 - val_accuracy: 0.8163\n",
            "Epoch 191/200\n",
            "20/20 [==============================] - 0s 6ms/step - loss: 0.3990 - accuracy: 0.8238 - val_loss: 0.3761 - val_accuracy: 0.8571\n",
            "Epoch 192/200\n",
            "20/20 [==============================] - 0s 5ms/step - loss: 0.3661 - accuracy: 0.8238 - val_loss: 0.4242 - val_accuracy: 0.8163\n",
            "Epoch 193/200\n",
            "20/20 [==============================] - 0s 6ms/step - loss: 0.4035 - accuracy: 0.8446 - val_loss: 0.4000 - val_accuracy: 0.8367\n",
            "Epoch 194/200\n",
            "20/20 [==============================] - 0s 5ms/step - loss: 0.3883 - accuracy: 0.8394 - val_loss: 0.4183 - val_accuracy: 0.7959\n",
            "Epoch 195/200\n",
            "20/20 [==============================] - 0s 7ms/step - loss: 0.4230 - accuracy: 0.8187 - val_loss: 0.6704 - val_accuracy: 0.7143\n",
            "Epoch 196/200\n",
            "20/20 [==============================] - 0s 6ms/step - loss: 0.4392 - accuracy: 0.8031 - val_loss: 0.3721 - val_accuracy: 0.8367\n",
            "Epoch 197/200\n",
            "20/20 [==============================] - 0s 6ms/step - loss: 0.3799 - accuracy: 0.8290 - val_loss: 0.4422 - val_accuracy: 0.8163\n",
            "Epoch 198/200\n",
            "20/20 [==============================] - 0s 6ms/step - loss: 0.3888 - accuracy: 0.8187 - val_loss: 0.4361 - val_accuracy: 0.7551\n",
            "Epoch 199/200\n",
            "20/20 [==============================] - 0s 6ms/step - loss: 0.4045 - accuracy: 0.8187 - val_loss: 1.0320 - val_accuracy: 0.5714\n",
            "Epoch 200/200\n",
            "20/20 [==============================] - 0s 6ms/step - loss: 0.3847 - accuracy: 0.8446 - val_loss: 0.5772 - val_accuracy: 0.8163\n"
          ]
        }
      ]
    },
    {
      "cell_type": "markdown",
      "source": [
        "**Model Evaluation**"
      ],
      "metadata": {
        "id": "ZkqADhBqbssc"
      }
    },
    {
      "cell_type": "code",
      "source": [
        "model.evaluate(X_test, y_test)"
      ],
      "metadata": {
        "colab": {
          "base_uri": "https://localhost:8080/"
        },
        "id": "_vlxIiTPPcZZ",
        "outputId": "d2c537d3-ced6-4e7f-b82f-fba05765cf8d"
      },
      "execution_count": 14,
      "outputs": [
        {
          "output_type": "stream",
          "name": "stdout",
          "text": [
            "2/2 [==============================] - 0s 11ms/step - loss: 0.5572 - accuracy: 0.8361\n"
          ]
        },
        {
          "output_type": "execute_result",
          "data": {
            "text/plain": [
              "[0.5572218298912048, 0.8360655903816223]"
            ]
          },
          "metadata": {},
          "execution_count": 14
        }
      ]
    },
    {
      "cell_type": "markdown",
      "source": [
        "**Model Accuracy Using History Object Created Above**"
      ],
      "metadata": {
        "id": "i69ZWZw-b6GL"
      }
    },
    {
      "cell_type": "code",
      "source": [
        "plt.plot(history.history[\"accuracy\"])\n",
        "plt.plot(history.history[\"val_accuracy\"])\n",
        "\n",
        "plt.title(\"Model Aaccuracy\")\n",
        "plt.xlabel(\"Epoch\")\n",
        "plt.ylabel(\"Accuracy\")\n",
        "plt.legend([\"Train\", \"Validation\"])"
      ],
      "metadata": {
        "colab": {
          "base_uri": "https://localhost:8080/",
          "height": 312
        },
        "id": "zeKHHFlgPcfC",
        "outputId": "d2a9d364-da7b-4818-d5f2-633e2f03cb20"
      },
      "execution_count": 15,
      "outputs": [
        {
          "output_type": "execute_result",
          "data": {
            "text/plain": [
              "<matplotlib.legend.Legend at 0x7f3b13d42110>"
            ]
          },
          "metadata": {},
          "execution_count": 15
        },
        {
          "output_type": "display_data",
          "data": {
            "text/plain": [
              "<Figure size 432x288 with 1 Axes>"
            ],
            "image/png": "[encoded data removed]"
          },
          "metadata": {
            "needs_background": "light"
          }
        }
      ]
    },
    {
      "cell_type": "markdown",
      "source": [
        "**Model Loss**"
      ],
      "metadata": {
        "id": "ChMXTRVacjSc"
      }
    },
    {
      "cell_type": "code",
      "source": [
        "plt.plot(history.history['loss'])\n",
        "plt.plot(history.history['val_loss'])\n",
        "plt.title('Model Loss')\n",
        "plt.ylabel('Loss')\n",
        "plt.xlabel('Epoch')\n",
        "plt.legend(['Train', 'Validation'])"
      ],
      "metadata": {
        "colab": {
          "base_uri": "https://localhost:8080/",
          "height": 312
        },
        "id": "o_3on4JwPcjW",
        "outputId": "54d3e0c8-fc98-4736-cd32-4379eb67dd45"
      },
      "execution_count": 16,
      "outputs": [
        {
          "output_type": "execute_result",
          "data": {
            "text/plain": [
              "<matplotlib.legend.Legend at 0x7f3b13c0fb10>"
            ]
          },
          "metadata": {},
          "execution_count": 16
        },
        {
          "output_type": "display_data",
          "data": {
            "text/plain": [
              "<Figure size 432x288 with 1 Axes>"
            ],
            "image/png": "[encoded data removed]"
          },
          "metadata": {
            "needs_background": "light"
          }
        }
      ]
    }
  ]
}
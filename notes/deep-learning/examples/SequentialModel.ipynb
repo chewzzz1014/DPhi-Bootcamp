{
  "nbformat": 4,
  "nbformat_minor": 0,
  "metadata": {
    "colab": {
      "name": "SequentialModel.ipynb",
      "provenance": [],
      "authorship_tag": "ABX9TyOf/BHy8nTRR+waLbUrVKdE",
      "include_colab_link": true
    },
    "kernelspec": {
      "name": "python3",
      "display_name": "Python 3"
    },
    "language_info": {
      "name": "python"
    }
  },
  "cells": [
    {
      "cell_type": "markdown",
      "metadata": {
        "id": "view-in-github",
        "colab_type": "text"
      },
      "source": [
        "<a href=\"https://colab.research.google.com/github/chewzzz1014/DPhi-Bootcamp/blob/master/notes/deep-learning/SequentialModel.ipynb\" target=\"_parent\"><img src=\"https://colab.research.google.com/assets/colab-badge.svg\" alt=\"Open In Colab\"/></a>"
      ]
    },
    {
      "cell_type": "markdown",
      "source": [
        "# **Binary Classification**"
      ],
      "metadata": {
        "id": "3OOY7IFFdb2_"
      }
    },
    {
      "cell_type": "code",
      "execution_count": 2,
      "metadata": {
        "id": "vcC5gqfpdTzf"
      },
      "outputs": [],
      "source": [
        "import numpy as np\n",
        "import pandas as pd\n",
        "import tensorflow as tf\n",
        "from tensorflow import keras"
      ]
    },
    {
      "cell_type": "markdown",
      "source": [
        "**Creating a Sequential Model with 3 layers**"
      ],
      "metadata": {
        "id": "3Y3xrNYIhMHW"
      }
    },
    {
      "cell_type": "code",
      "source": [
        "from tensorflow.keras import layers\n",
        "from tensorflow.keras import Sequential\n",
        "\n",
        "# Alternative 1\n",
        "model = Sequential([\n",
        "      layers.Dense(2, activation=\"relu\", name=\"layer1\"),\n",
        "      layers.Dense(3, activation=\"relu\", name=\"layer2\"),\n",
        "      layers.Dense(4, name=\"layer3\")\n",
        "])\n",
        "x = tf.ones((3,3))\n",
        "y = model(x)\n",
        "\n",
        "# Alternative 2\n",
        "layer1 = layers.Dense(2, activation=\"relu\", name=\"layer1\")\n",
        "layer2 = layers.Dense(3, activation=\"relu\", name=\"layer2\")\n",
        "layer3 = layers.Dense(4, name=\"layer3\")\n",
        "x = tf.ones((3, 3))\n",
        "# stacking layers\n",
        "y = layer3(layer2(layer1(x)))     # *"
      ],
      "metadata": {
        "id": "ZQ1WE0uXebTp"
      },
      "execution_count": 5,
      "outputs": []
    },
    {
      "cell_type": "markdown",
      "source": [
        "**Add Input**\n",
        "- If the input shape isn't specify when creating the Sequential Model, the model will have no weight."
      ],
      "metadata": {
        "id": "msvg1DqAhQWo"
      }
    },
    {
      "cell_type": "code",
      "source": [
        "# Alternative 1\n",
        "\n",
        "model = Sequential()\n",
        "# input is 1 Dimension Tensor\n",
        "model.add(keras.Input(shape=(4,)))\n",
        "\n",
        "# Alternative 2\n",
        "\n",
        "model = Sequential()\n",
        "model.add(layers.Dense(2, activation=\"relu\", input_shape=(4,)))"
      ],
      "metadata": {
        "id": "MOfv7-HWebax"
      },
      "execution_count": 6,
      "outputs": []
    },
    {
      "cell_type": "markdown",
      "source": [
        "**Model Summary**\n",
        "\n",
        "Contains:\n",
        "- Name of Model\n",
        "- The layers and their order in the model.\n",
        "- The output shape of each layer.\n",
        "\n",
        "    `(batch_size, units)`\n",
        "- The number of parameters (weights) in each layer. \n",
        "\n",
        "  `num_parameters = output_size*(input_size+1)`\n",
        "- The total number of parameters (weights) in the model."
      ],
      "metadata": {
        "id": "NhrjzGGZijPn"
      }
    },
    {
      "cell_type": "code",
      "source": [
        "model.summary()"
      ],
      "metadata": {
        "colab": {
          "base_uri": "https://localhost:8080/"
        },
        "id": "TVFPwxwBebjY",
        "outputId": "dba87e44-84df-4cbd-833d-efbd637260d3"
      },
      "execution_count": 7,
      "outputs": [
        {
          "output_type": "stream",
          "name": "stdout",
          "text": [
            "Model: \"sequential_3\"\n",
            "_________________________________________________________________\n",
            " Layer (type)                Output Shape              Param #   \n",
            "=================================================================\n",
            " dense (Dense)               (None, 2)                 10        \n",
            "                                                                 \n",
            "=================================================================\n",
            "Total params: 10\n",
            "Trainable params: 10\n",
            "Non-trainable params: 0\n",
            "_________________________________________________________________\n"
          ]
        }
      ]
    },
    {
      "cell_type": "markdown",
      "source": [
        "**Plot Model**"
      ],
      "metadata": {
        "id": "RLIyBIaHjqAb"
      }
    },
    {
      "cell_type": "code",
      "source": [
        "from tensorflow.keras.utils import plot_model\n",
        "plot_model(model)"
      ],
      "metadata": {
        "colab": {
          "base_uri": "https://localhost:8080/",
          "height": 174
        },
        "id": "39WawYr-ebrm",
        "outputId": "f185dd43-a3f6-474b-e80b-a92b0aa6e304"
      },
      "execution_count": 8,
      "outputs": [
        {
          "output_type": "execute_result",
          "data": {
            "text/plain": [
              "<IPython.core.display.Image object>"
            ],
            "image/png": "[encoded data removed]"
          },
          "metadata": {},
          "execution_count": 8
        }
      ]
    },
    {
      "cell_type": "markdown",
      "source": [
        "**Examples**"
      ],
      "metadata": {
        "id": "yw7xL4mskFbm"
      }
    },
    {
      "cell_type": "markdown",
      "source": [
        "**1. Sequential MLP**\n",
        "- Accept 8 inputs\n",
        "- One hidden layer with 10 neurons\n",
        "- Output layer with one neuron"
      ],
      "metadata": {
        "id": "QWfW5vEMkiVv"
      }
    },
    {
      "cell_type": "code",
      "source": [
        "model = Sequential()\n",
        "model.add(layers.Dense(10, input_shape=(8,)))\n",
        "model.add(layers.Dense(1))\n",
        "\n",
        "model.summary()"
      ],
      "metadata": {
        "colab": {
          "base_uri": "https://localhost:8080/"
        },
        "id": "3Bm_Pn6Cebx2",
        "outputId": "90274814-7502-4b17-e0c3-dc6de19fc286"
      },
      "execution_count": 9,
      "outputs": [
        {
          "output_type": "stream",
          "name": "stdout",
          "text": [
            "Model: \"sequential_4\"\n",
            "_________________________________________________________________\n",
            " Layer (type)                Output Shape              Param #   \n",
            "=================================================================\n",
            " dense_1 (Dense)             (None, 10)                90        \n",
            "                                                                 \n",
            " dense_2 (Dense)             (None, 1)                 11        \n",
            "                                                                 \n",
            "=================================================================\n",
            "Total params: 101\n",
            "Trainable params: 101\n",
            "Non-trainable params: 0\n",
            "_________________________________________________________________\n"
          ]
        }
      ]
    },
    {
      "cell_type": "markdown",
      "source": [
        "**2. Deep MLP**\n",
        "- 5 hidden layers"
      ],
      "metadata": {
        "id": "GD6HSjGalNeg"
      }
    },
    {
      "cell_type": "code",
      "source": [
        "from tensorflow.keras.layers import Dense\n",
        "\n",
        "model = Sequential()\n",
        "model.add(Dense(100, input_shape=(8,)))\n",
        "model.add(Dense(80))\n",
        "model.add(Dense(30))\n",
        "model.add(Dense(10))\n",
        "model.add(Dense(5))\n",
        "model.add(Dense(1))\n",
        "\n",
        "model.summary()"
      ],
      "metadata": {
        "colab": {
          "base_uri": "https://localhost:8080/"
        },
        "id": "CzDunRbAeb23",
        "outputId": "bb99e451-8157-42ea-f51a-d37007400600"
      },
      "execution_count": 10,
      "outputs": [
        {
          "output_type": "stream",
          "name": "stdout",
          "text": [
            "Model: \"sequential_5\"\n",
            "_________________________________________________________________\n",
            " Layer (type)                Output Shape              Param #   \n",
            "=================================================================\n",
            " dense_3 (Dense)             (None, 100)               900       \n",
            "                                                                 \n",
            " dense_4 (Dense)             (None, 80)                8080      \n",
            "                                                                 \n",
            " dense_5 (Dense)             (None, 30)                2430      \n",
            "                                                                 \n",
            " dense_6 (Dense)             (None, 10)                310       \n",
            "                                                                 \n",
            " dense_7 (Dense)             (None, 5)                 55        \n",
            "                                                                 \n",
            " dense_8 (Dense)             (None, 1)                 6         \n",
            "                                                                 \n",
            "=================================================================\n",
            "Total params: 11,781\n",
            "Trainable params: 11,781\n",
            "Non-trainable params: 0\n",
            "_________________________________________________________________\n"
          ]
        }
      ]
    },
    {
      "cell_type": "code",
      "source": [
        "plot_model(model)"
      ],
      "metadata": {
        "colab": {
          "base_uri": "https://localhost:8080/",
          "height": 661
        },
        "id": "z84efVGLeb7P",
        "outputId": "33bedd45-a8fd-4240-b7a4-9dbe27c8d75f"
      },
      "execution_count": 11,
      "outputs": [
        {
          "output_type": "execute_result",
          "data": {
            "text/plain": [
              "<IPython.core.display.Image object>"
            ],
            "image/png": "[encoded data removed]"
          },
          "metadata": {},
          "execution_count": 11
        }
      ]
    },
    {
      "cell_type": "markdown",
      "source": [
        "**3. Functional Model API**\n",
        "- A way to build graphs of layers.\n",
        "- It involves clearly connecting the output of one layer to the input of another layer. Each connection is specified."
      ],
      "metadata": {
        "id": "mr3WjE2TlqaX"
      }
    },
    {
      "cell_type": "code",
      "source": [
        "# example of a model defined with the functional api\n",
        "from tensorflow.keras import Model, Input\n",
        "\n",
        "# define the layers\n",
        "x_in = Input(shape=(8,))\n",
        "x = Dense(10)(x_in)\n",
        "x_out = Dense(1)(x)\n",
        "# define the model\n",
        "model = Model(inputs=x_in, outputs=x_out)\n",
        "\n",
        "# print summary\n",
        "model.summary()"
      ],
      "metadata": {
        "colab": {
          "base_uri": "https://localhost:8080/"
        },
        "id": "Is5meCx1eb_X",
        "outputId": "8f49d61a-7b49-4e80-ea01-f5f2b5f7f705"
      },
      "execution_count": 13,
      "outputs": [
        {
          "output_type": "stream",
          "name": "stdout",
          "text": [
            "Model: \"model\"\n",
            "_________________________________________________________________\n",
            " Layer (type)                Output Shape              Param #   \n",
            "=================================================================\n",
            " input_2 (InputLayer)        [(None, 8)]               0         \n",
            "                                                                 \n",
            " dense_9 (Dense)             (None, 10)                90        \n",
            "                                                                 \n",
            " dense_10 (Dense)            (None, 1)                 11        \n",
            "                                                                 \n",
            "=================================================================\n",
            "Total params: 101\n",
            "Trainable params: 101\n",
            "Non-trainable params: 0\n",
            "_________________________________________________________________\n"
          ]
        }
      ]
    },
    {
      "cell_type": "code",
      "source": [
        "plot_model(model)"
      ],
      "metadata": {
        "colab": {
          "base_uri": "https://localhost:8080/",
          "height": 272
        },
        "id": "8M2Wf24ZecDh",
        "outputId": "23293f3e-e36b-4ad8-eb18-3b7d72521e42"
      },
      "execution_count": 14,
      "outputs": [
        {
          "output_type": "execute_result",
          "data": {
            "text/plain": [
              "<IPython.core.display.Image object>"
            ],
            "image/png": "[encoded data removed]"
          },
          "metadata": {},
          "execution_count": 14
        }
      ]
    }
  ]
}
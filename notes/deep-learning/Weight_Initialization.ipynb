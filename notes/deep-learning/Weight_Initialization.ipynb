{
  "nbformat": 4,
  "nbformat_minor": 0,
  "metadata": {
    "colab": {
      "name": "Weight_Initialization.ipynb",
      "provenance": [],
      "collapsed_sections": [],
      "authorship_tag": "ABX9TyMu7Cv3lyNxvFZK2NOI88We",
      "include_colab_link": true
    },
    "kernelspec": {
      "name": "python3",
      "display_name": "Python 3"
    },
    "language_info": {
      "name": "python"
    }
  },
  "cells": [
    {
      "cell_type": "markdown",
      "metadata": {
        "id": "view-in-github",
        "colab_type": "text"
      },
      "source": [
        "<a href=\"https://colab.research.google.com/github/chewzzz1014/DPhi-Bootcamp/blob/master/notes/deep-learning/Weight_Initialization.ipynb\" target=\"_parent\"><img src=\"https://colab.research.google.com/assets/colab-badge.svg\" alt=\"Open In Colab\"/></a>"
      ]
    },
    {
      "cell_type": "markdown",
      "source": [
        "# **Random Weight Initialization**"
      ],
      "metadata": {
        "id": "yE1lZ0lQfElJ"
      }
    },
    {
      "cell_type": "code",
      "execution_count": 3,
      "metadata": {
        "id": "gkTWmT0gsKAI"
      },
      "outputs": [],
      "source": [
        "from tensorflow.keras import layers\n",
        "from tensorflow.keras import initializers\n",
        "\n",
        "\n",
        "# passing initializers to layers\n",
        "# generate tensors with a normal distribution\n",
        "layer = layers.Dense(\n",
        "    units = 64, \n",
        "    # stddev is for scalar tensor. Std of random values to generate\n",
        "    kernel_initializer = initializers.RandomNormal(stddev=0.01),\n",
        "    bias_initializer = initializers.Zeros()\n",
        ")"
      ]
    }
  ]
}
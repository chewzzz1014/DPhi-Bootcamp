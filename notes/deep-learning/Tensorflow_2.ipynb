{
  "nbformat": 4,
  "nbformat_minor": 0,
  "metadata": {
    "colab": {
      "name": "Tensorflow_2.ipynb",
      "provenance": [],
      "authorship_tag": "ABX9TyPji2mlbLdmyuSOzWDuoHvd",
      "include_colab_link": true
    },
    "kernelspec": {
      "name": "python3",
      "display_name": "Python 3"
    },
    "language_info": {
      "name": "python"
    }
  },
  "cells": [
    {
      "cell_type": "markdown",
      "metadata": {
        "id": "view-in-github",
        "colab_type": "text"
      },
      "source": [
        "<a href=\"https://colab.research.google.com/github/chewzzz1014/DPhi-Bootcamp/blob/master/notes/deep-learning/Tensorflow_2.ipynb\" target=\"_parent\"><img src=\"https://colab.research.google.com/assets/colab-badge.svg\" alt=\"Open In Colab\"/></a>"
      ]
    },
    {
      "cell_type": "markdown",
      "source": [
        ""
      ],
      "metadata": {
        "id": "WbyjO6nTY1MX"
      }
    },
    {
      "cell_type": "code",
      "execution_count": 1,
      "metadata": {
        "id": "opXCx0yNYsqM"
      },
      "outputs": [],
      "source": [
        "import tensorflow as tf\n",
        "import numpy as np"
      ]
    },
    {
      "cell_type": "markdown",
      "source": [
        "# Basics"
      ],
      "metadata": {
        "id": "xRNWJmEJl5Y1"
      }
    },
    {
      "cell_type": "code",
      "source": [
        "# creating tensor of rank 0-n\n",
        "\n",
        "# rank 0 tensor\n",
        "rank_0 = tf.constant(10)\n",
        "print(rank_0)\n",
        "\n",
        "# rank 1 tensor\n",
        "rank_1 = tf.constant([2, 4, 6, 8])\n",
        "print(rank_1)\n",
        "\n",
        "# rank 2 tensor\n",
        "rank_2 = tf.constant([\n",
        "    [5, 6],\n",
        "    [7, 8]\n",
        "])\n",
        "print(rank_2)\n",
        "\n",
        "# rank 3 tensor\n",
        "rank_3 = tf.constant([\n",
        "      [[0, 1, 2, 3, 4],\n",
        "      [5, 6, 7, 8, 9]],\n",
        "      [[10, 11, 12, 13, 14],\n",
        "      [15, 16, 17, 18, 19]],\n",
        "      [[20, 21, 22, 23, 24],\n",
        "      [25, 26, 27, 28, 29]],])\n",
        "\n",
        "print(rank_3)"
      ],
      "metadata": {
        "colab": {
          "base_uri": "https://localhost:8080/"
        },
        "id": "WIMwkyv_gHp8",
        "outputId": "6422e07b-e71a-4a54-b1e5-c25461368935"
      },
      "execution_count": 4,
      "outputs": [
        {
          "output_type": "stream",
          "name": "stdout",
          "text": [
            "tf.Tensor(10, shape=(), dtype=int32)\n",
            "tf.Tensor([2 4 6 8], shape=(4,), dtype=int32)\n",
            "tf.Tensor(\n",
            "[[5 6]\n",
            " [7 8]], shape=(2, 2), dtype=int32)\n",
            "tf.Tensor(\n",
            "[[[ 0  1  2  3  4]\n",
            "  [ 5  6  7  8  9]]\n",
            "\n",
            " [[10 11 12 13 14]\n",
            "  [15 16 17 18 19]]\n",
            "\n",
            " [[20 21 22 23 24]\n",
            "  [25 26 27 28 29]]], shape=(3, 2, 5), dtype=int32)\n"
          ]
        }
      ]
    },
    {
      "cell_type": "code",
      "source": [
        "# create a rank 4 tensor\n",
        "rank_4 = tf.zeros([3, 5, 2, 3])\n",
        "\n",
        "# data type\n",
        "print(\"Type: {}\".format(rank_4.dtype))\n",
        "# num of dimension\n",
        "print(\"Num of Dimension: {}\".format(rank_4.ndim))\n",
        "# shape\n",
        "print(\"Shape: {}\".format(rank_4.shape))\n",
        "# Shape of First Axis\n",
        "print(\"Size of first axis: {}\".format(rank_4.shape[0]))\n",
        "# shape of Last Axis\n",
        "print(\"Size of Last Axis: {}\".format(rank_4.shape[-1]))\n",
        "# total number of elements\n",
        "print(\"NUmber of elements: {}\".format( tf.size(rank_4).numpy() ))"
      ],
      "metadata": {
        "colab": {
          "base_uri": "https://localhost:8080/"
        },
        "id": "SBFRTZwCl4sC",
        "outputId": "2a2b8db1-f84f-4691-df44-e7e3e9ffe045"
      },
      "execution_count": 13,
      "outputs": [
        {
          "output_type": "stream",
          "name": "stdout",
          "text": [
            "Type: <dtype: 'float32'>\n",
            "Num of Dimension: 4\n",
            "Shape: (3, 5, 2, 3)\n",
            "Size of first axis: 3\n",
            "Size of Last Axis: 3\n",
            "NUmber of elements: 90\n"
          ]
        }
      ]
    },
    {
      "cell_type": "markdown",
      "source": [
        "# Tensor -> Numpy Array"
      ],
      "metadata": {
        "id": "TkPd3qYyhrNv"
      }
    },
    {
      "cell_type": "code",
      "source": [
        "# using np.array\n",
        "np.array(rank_2)"
      ],
      "metadata": {
        "colab": {
          "base_uri": "https://localhost:8080/"
        },
        "id": "ggIMk-eCgHvY",
        "outputId": "d14787e8-32dc-47f9-fbda-73f08a6ddf5d"
      },
      "execution_count": 5,
      "outputs": [
        {
          "output_type": "execute_result",
          "data": {
            "text/plain": [
              "array([[5, 6],\n",
              "       [7, 8]], dtype=int32)"
            ]
          },
          "metadata": {},
          "execution_count": 5
        }
      ]
    },
    {
      "cell_type": "code",
      "source": [
        "# using tensor.numpy()\n",
        "rank_2.numpy()"
      ],
      "metadata": {
        "colab": {
          "base_uri": "https://localhost:8080/"
        },
        "id": "ZGaf6HncgH0L",
        "outputId": "8c35e7f0-f495-4aab-8d8f-4a705b55320d"
      },
      "execution_count": 6,
      "outputs": [
        {
          "output_type": "execute_result",
          "data": {
            "text/plain": [
              "array([[5, 6],\n",
              "       [7, 8]], dtype=int32)"
            ]
          },
          "metadata": {},
          "execution_count": 6
        }
      ]
    },
    {
      "cell_type": "markdown",
      "source": [
        "# Indexing "
      ],
      "metadata": {
        "id": "1cKppzPAoBTv"
      }
    },
    {
      "cell_type": "code",
      "source": [
        "# slicing (similar to slicing in python and numpy)\n",
        "print(rank_2[:2].numpy())\n",
        "print(rank_3[:, :, 4])"
      ],
      "metadata": {
        "colab": {
          "base_uri": "https://localhost:8080/"
        },
        "id": "b1zWdyP1oCmK",
        "outputId": "5d46e2f5-9c27-462e-ab4b-ac0582b7c7c1"
      },
      "execution_count": 15,
      "outputs": [
        {
          "output_type": "stream",
          "name": "stdout",
          "text": [
            "[[5 6]\n",
            " [7 8]]\n",
            "tf.Tensor(\n",
            "[[ 4  9]\n",
            " [14 19]\n",
            " [24 29]], shape=(3, 2), dtype=int32)\n"
          ]
        }
      ]
    },
    {
      "cell_type": "markdown",
      "source": [
        "# Maths on Tensor"
      ],
      "metadata": {
        "id": "ipEZ2Hf1i135"
      }
    },
    {
      "cell_type": "code",
      "source": [
        "# addition, element-wise multiplication and matrix-wise multiplication\n",
        "a = tf.constant([\n",
        "    [1, 2],\n",
        "    [3, 4]\n",
        "])\n",
        "\n",
        "b= tf.constant([\n",
        "    [5, 6],\n",
        "    [7, 8]\n",
        "])\n",
        "\n",
        "print(\"Addition: {}\".format(tf.add(a,b))) # or a + b\n",
        "print(\"Element-wise Mul: {}\".format(tf.multiply(a,b)))  # or a * b\n",
        "print(\"Matirx Mul: {}\".format(tf.matmul(a,b)))  # or a @ b"
      ],
      "metadata": {
        "colab": {
          "base_uri": "https://localhost:8080/"
        },
        "id": "gzMTKhOxgH4A",
        "outputId": "25ecee0f-b163-4361-d0f5-29241e9105b9"
      },
      "execution_count": 10,
      "outputs": [
        {
          "output_type": "stream",
          "name": "stdout",
          "text": [
            "Addition: [[ 6  8]\n",
            " [10 12]]\n",
            "Element-wise Mul: [[ 5 12]\n",
            " [21 32]]\n",
            "Matirx Mul: [[19 22]\n",
            " [43 50]]\n"
          ]
        }
      ]
    },
    {
      "cell_type": "markdown",
      "source": [
        "# DTypes\n",
        "  - Integer : tf.int32\n",
        "  - Floating Point : tf.float32"
      ],
      "metadata": {
        "id": "YB6DKiK_qjsT"
      }
    },
    {
      "cell_type": "code",
      "source": [
        "# cast type\n",
        "f64_tensor = tf.constant([2.5, 3.3, 5.6], dtype=tf.float64)\n",
        "\n",
        "f16_tensor = tf.cast(f64_tensor, dtype=tf.float16)\n",
        "\n",
        "# decimal to integer\n",
        "u8_tensor = tf.cast(f16_tensor, dtype=tf.uint8)\n",
        "print(u8_tensor)"
      ],
      "metadata": {
        "colab": {
          "base_uri": "https://localhost:8080/"
        },
        "id": "yTMo81yAgISR",
        "outputId": "b64a378a-3b65-4bbb-f4dd-fe22c179ef20"
      },
      "execution_count": 20,
      "outputs": [
        {
          "output_type": "stream",
          "name": "stdout",
          "text": [
            "tf.Tensor([2 3 5], shape=(3,), dtype=uint8)\n"
          ]
        }
      ]
    }
  ]
}
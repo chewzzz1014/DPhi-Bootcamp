{
  "nbformat": 4,
  "nbformat_minor": 0,
  "metadata": {
    "colab": {
      "name": "Tensorflow_1.ipynb",
      "provenance": [],
      "authorship_tag": "ABX9TyNpUzdTzHMzAZcqDNa1WDqH",
      "include_colab_link": true
    },
    "kernelspec": {
      "name": "python3",
      "display_name": "Python 3"
    },
    "language_info": {
      "name": "python"
    }
  },
  "cells": [
    {
      "cell_type": "markdown",
      "metadata": {
        "id": "view-in-github",
        "colab_type": "text"
      },
      "source": [
        "<a href=\"https://colab.research.google.com/github/chewzzz1014/DPhi-Bootcamp/blob/master/notes/deep-learning/Tensorflow_1.ipynb\" target=\"_parent\"><img src=\"https://colab.research.google.com/assets/colab-badge.svg\" alt=\"Open In Colab\"/></a>"
      ]
    },
    {
      "cell_type": "markdown",
      "source": [
        "Basics Properties of Tensor and Some Operations (Reshape, Squeeze, Flatten, Concat)"
      ],
      "metadata": {
        "id": "Puy5YLujXs-S"
      }
    },
    {
      "cell_type": "code",
      "execution_count": 2,
      "metadata": {
        "colab": {
          "base_uri": "https://localhost:8080/"
        },
        "id": "U8n4eGXcINXN",
        "outputId": "cc6fe0d4-22bc-42f7-ec76-1ca2abab113a"
      },
      "outputs": [
        {
          "output_type": "stream",
          "name": "stdout",
          "text": [
            "2.8.2\n"
          ]
        }
      ],
      "source": [
        "import tensorflow as tf\n",
        "import numpy as np\n",
        "\n",
        "print(tf.__version__)"
      ]
    },
    {
      "cell_type": "markdown",
      "source": [
        "Rank of tensor:\n",
        " - Rank 0 : Scalar (Single Number)\n",
        " - Rank 1 : Vector (Array)\n",
        " - Rank 2 : Matrix (2-D Array)\n",
        " - Rank n>2 : Tensor (n-dimensional Array)"
      ],
      "metadata": {
        "id": "NmX9VrggJgok"
      }
    },
    {
      "cell_type": "markdown",
      "source": [
        "# Dimension, Indexes, Rank, Axes and Shape"
      ],
      "metadata": {
        "id": "CIzFbMnZKP2_"
      }
    },
    {
      "cell_type": "code",
      "source": [
        "# Dimension : Similar to dimension of object (length, width, depth) in real life"
      ],
      "metadata": {
        "id": "ad4qc8DEO8Gt"
      },
      "execution_count": null,
      "outputs": []
    },
    {
      "cell_type": "code",
      "source": [
        "# Indexes : To access an element in data structure\n",
        "list = [2, 4, 6, 8]\n",
        "print(\"Third Element : {}\".format(list[2]))\n",
        "\n",
        "ll = [\n",
        "      [1, 3, 5, 7, 9],\n",
        "      [2, 4, 6, 8, 10],\n",
        "      [-1, -2, -3, -4, -5]\n",
        "]\n",
        "print(\"Third element in first row : {}\".format(ll[0][2]))"
      ],
      "metadata": {
        "colab": {
          "base_uri": "https://localhost:8080/"
        },
        "id": "VukFdMmnO_7l",
        "outputId": "f121c1aa-bf62-4e43-c1ce-8ee1198f4919"
      },
      "execution_count": 8,
      "outputs": [
        {
          "output_type": "stream",
          "name": "stdout",
          "text": [
            "Third Element : 6\n",
            "Third element in first row : 5\n"
          ]
        }
      ]
    },
    {
      "cell_type": "code",
      "source": [
        "# Rank : Number of dimensions present within the tensor\n",
        "# indicates the number of indexes needed to refer to an element\n",
        "\n",
        "# rank 2 (2-D Array) needs 2 indexes to refer an element\n",
        "ll[0]  # first axis [1, 3, 5, 7, 9]\n",
        "ll[1][2]  # second axis, 6"
      ],
      "metadata": {
        "colab": {
          "base_uri": "https://localhost:8080/"
        },
        "id": "sadK949IIdIA",
        "outputId": "679e3647-985f-4983-c5a2-fce1469d053a"
      },
      "execution_count": 9,
      "outputs": [
        {
          "output_type": "execute_result",
          "data": {
            "text/plain": [
              "6"
            ]
          },
          "metadata": {},
          "execution_count": 9
        }
      ]
    },
    {
      "cell_type": "code",
      "source": [
        "# shape : Length of each axis. Given the shape of tensor, we will know the length of each axis\n",
        "\n",
        "t = tf.constant(ll) # create a constant tensor\n",
        "t"
      ],
      "metadata": {
        "colab": {
          "base_uri": "https://localhost:8080/"
        },
        "id": "ko1wwgnYIdtg",
        "outputId": "913c83b7-acb6-4ed1-eefd-213f6fd83da2"
      },
      "execution_count": 10,
      "outputs": [
        {
          "output_type": "execute_result",
          "data": {
            "text/plain": [
              "<tf.Tensor: shape=(3, 5), dtype=int32, numpy=\n",
              "array([[ 1,  3,  5,  7,  9],\n",
              "       [ 2,  4,  6,  8, 10],\n",
              "       [-1, -2, -3, -4, -5]], dtype=int32)>"
            ]
          },
          "metadata": {},
          "execution_count": 10
        }
      ]
    },
    {
      "cell_type": "code",
      "source": [
        "type(t)"
      ],
      "metadata": {
        "colab": {
          "base_uri": "https://localhost:8080/"
        },
        "id": "ApjO54zxIdyG",
        "outputId": "924f3349-46e0-4854-d038-f7849b000d35"
      },
      "execution_count": 11,
      "outputs": [
        {
          "output_type": "execute_result",
          "data": {
            "text/plain": [
              "tensorflow.python.framework.ops.EagerTensor"
            ]
          },
          "metadata": {},
          "execution_count": 11
        }
      ]
    },
    {
      "cell_type": "code",
      "source": [
        "# get the shape of a tensor\n",
        "t.shape"
      ],
      "metadata": {
        "colab": {
          "base_uri": "https://localhost:8080/"
        },
        "id": "xDoMy9XWId2B",
        "outputId": "089d11ec-d36e-49f7-e827-3ecc0f42f12f"
      },
      "execution_count": 12,
      "outputs": [
        {
          "output_type": "execute_result",
          "data": {
            "text/plain": [
              "TensorShape([3, 5])"
            ]
          },
          "metadata": {},
          "execution_count": 12
        }
      ]
    },
    {
      "cell_type": "markdown",
      "source": [
        "# Tensor Operations"
      ],
      "metadata": {
        "id": "KkJQURYzQRQ2"
      }
    },
    {
      "cell_type": "markdown",
      "source": [
        "reshape\n",
        " - For tensor of x elements, only allowed to reshaped into shape (m, n)such that m * n = x"
      ],
      "metadata": {
        "id": "bAO9hwnMSHcZ"
      }
    },
    {
      "cell_type": "code",
      "source": [
        "# reshape tensor without changing the rank\n",
        "t1 = tf.constant([\n",
        "      [1, 1, 1, 1],\n",
        "      [2, 2, 2, 2],\n",
        "      [3, 3, 3, 3]\n",
        "], dtype = tf.float32)"
      ],
      "metadata": {
        "id": "mBlDawZFId57"
      },
      "execution_count": 14,
      "outputs": []
    },
    {
      "cell_type": "code",
      "source": [
        "# tf.reshape() will reshape any n-dimension array or n-dimension tensor \n",
        "t1_reshaped = tf.reshape(t1, [1,12]) # reshape into shape [1, 12]\n",
        "print(t1_reshaped)\n",
        "print(t1.shape) # did not reshape tensor in place"
      ],
      "metadata": {
        "colab": {
          "base_uri": "https://localhost:8080/"
        },
        "id": "UdADFelKId91",
        "outputId": "46fd5ba6-c11d-4589-eb53-5b507252cead"
      },
      "execution_count": 26,
      "outputs": [
        {
          "output_type": "stream",
          "name": "stdout",
          "text": [
            "tf.Tensor([[1. 1. 1. 1. 2. 2. 2. 2. 3. 3. 3. 3.]], shape=(1, 12), dtype=float32)\n",
            "(3, 4)\n"
          ]
        }
      ]
    },
    {
      "cell_type": "code",
      "source": [
        "t1_reshaped = tf.reshape(t1, [2, 6]) # reshape into shape [2, 6]\n",
        "print(t1_reshaped)\n",
        "print(t1.shape) # did not reshape tensor in place"
      ],
      "metadata": {
        "colab": {
          "base_uri": "https://localhost:8080/"
        },
        "id": "y2iY1eP7IeCJ",
        "outputId": "f9316c50-9859-4123-e6e9-30a59a4ffa7a"
      },
      "execution_count": 27,
      "outputs": [
        {
          "output_type": "stream",
          "name": "stdout",
          "text": [
            "tf.Tensor(\n",
            "[[1. 1. 1. 1. 2. 2.]\n",
            " [2. 2. 3. 3. 3. 3.]], shape=(2, 6), dtype=float32)\n",
            "(3, 4)\n"
          ]
        }
      ]
    },
    {
      "cell_type": "code",
      "source": [
        "t1_reshaped = tf.reshape(t1, [3, 4]) # reshape into shape [3, 4]\n",
        "print(t1_reshaped)\n",
        "print(t1.shape) # did not reshape tensor in place"
      ],
      "metadata": {
        "colab": {
          "base_uri": "https://localhost:8080/"
        },
        "id": "7VDx90UfIeGd",
        "outputId": "58f04122-7ee5-4617-919f-0cb0020dfcbe"
      },
      "execution_count": 28,
      "outputs": [
        {
          "output_type": "stream",
          "name": "stdout",
          "text": [
            "tf.Tensor(\n",
            "[[1. 1. 1. 1.]\n",
            " [2. 2. 2. 2.]\n",
            " [3. 3. 3. 3.]], shape=(3, 4), dtype=float32)\n",
            "(3, 4)\n"
          ]
        }
      ]
    },
    {
      "cell_type": "markdown",
      "source": [
        "Squeezing and Unsqueezing (Changing Shape)\n",
        " - Squeezing : Remove the dimensions or axes with length of 1\n",
        " - Unsqueezing : Add a dimension with length of 1"
      ],
      "metadata": {
        "id": "0Ufk9jpVSa0v"
      }
    },
    {
      "cell_type": "code",
      "source": [
        "print(tf.reshape(t1, [1, 12]) )"
      ],
      "metadata": {
        "colab": {
          "base_uri": "https://localhost:8080/"
        },
        "id": "wN8AxJyHIeKX",
        "outputId": "1d38ad7d-2606-4fbf-99e5-9fd0e744af09"
      },
      "execution_count": 25,
      "outputs": [
        {
          "output_type": "stream",
          "name": "stdout",
          "text": [
            "tf.Tensor([[1. 1. 1. 1. 2. 2. 2. 2. 3. 3. 3. 3.]], shape=(1, 12), dtype=float32)\n"
          ]
        }
      ]
    },
    {
      "cell_type": "code",
      "source": [
        "print(tf.squeeze(tf.reshape(t1, [1, 12])))\n",
        "print(tf.squeeze(tf.reshape(t1, [1, 12])).shape)"
      ],
      "metadata": {
        "colab": {
          "base_uri": "https://localhost:8080/"
        },
        "id": "DcmDz5FiSCeq",
        "outputId": "0e11c07d-5cd8-40f8-d5b9-589a6b12c7f8"
      },
      "execution_count": 29,
      "outputs": [
        {
          "output_type": "stream",
          "name": "stdout",
          "text": [
            "tf.Tensor([1. 1. 1. 1. 2. 2. 2. 2. 3. 3. 3. 3.], shape=(12,), dtype=float32)\n",
            "(12,)\n"
          ]
        }
      ]
    },
    {
      "cell_type": "markdown",
      "source": [
        "Flatten \n",
        " - Reshape tensor to have shape equal to number of elements in tensor\n",
        " - Same as 1-d array "
      ],
      "metadata": {
        "id": "cFd-3whWUeD6"
      }
    },
    {
      "cell_type": "code",
      "source": [
        "def flatten(t):\n",
        "  t = tf.reshape(t, [1, -1])  \n",
        "# -1 mean tf.reshape() will figure out what the value should be based on num of elements\n",
        "  t = tf.squeeze(t)\n",
        "  return t"
      ],
      "metadata": {
        "id": "8pJcrncBSCjJ"
      },
      "execution_count": 30,
      "outputs": []
    },
    {
      "cell_type": "code",
      "source": [
        "# create a tensor with all elements have the value 1\n",
        "t2 = tf.ones([4, 3])\n",
        "t2"
      ],
      "metadata": {
        "colab": {
          "base_uri": "https://localhost:8080/"
        },
        "id": "o9b9divWSCmj",
        "outputId": "eb6dc459-8814-4bfb-d50a-68f35a544c6a"
      },
      "execution_count": 31,
      "outputs": [
        {
          "output_type": "execute_result",
          "data": {
            "text/plain": [
              "<tf.Tensor: shape=(4, 3), dtype=float32, numpy=\n",
              "array([[1., 1., 1.],\n",
              "       [1., 1., 1.],\n",
              "       [1., 1., 1.],\n",
              "       [1., 1., 1.]], dtype=float32)>"
            ]
          },
          "metadata": {},
          "execution_count": 31
        }
      ]
    },
    {
      "cell_type": "code",
      "source": [
        "# flatten the tensor\n",
        "flatten(t2)"
      ],
      "metadata": {
        "colab": {
          "base_uri": "https://localhost:8080/"
        },
        "id": "KNxszmWISEBV",
        "outputId": "536b786b-f41a-4bfe-bbe0-0812dc6bc2a6"
      },
      "execution_count": 32,
      "outputs": [
        {
          "output_type": "execute_result",
          "data": {
            "text/plain": [
              "<tf.Tensor: shape=(12,), dtype=float32, numpy=array([1., 1., 1., 1., 1., 1., 1., 1., 1., 1., 1., 1.], dtype=float32)>"
            ]
          },
          "metadata": {},
          "execution_count": 32
        }
      ]
    },
    {
      "cell_type": "markdown",
      "source": [
        "Concatenating Tensors\n",
        " - Resulting tensor will have shape depends on shape of 2 input tensors"
      ],
      "metadata": {
        "id": "Azqm2C3vVuMi"
      }
    },
    {
      "cell_type": "code",
      "source": [
        "# concatenate 2 tensors\n",
        "t3 = tf.constant([\n",
        "    [1, 2],\n",
        "    [3, 4]\n",
        "])\n",
        "\n",
        "t4 = tf.constant([\n",
        "    [5, 6], \n",
        "    [7, 8]\n",
        "])"
      ],
      "metadata": {
        "id": "8jxxYxFaSEFQ"
      },
      "execution_count": 33,
      "outputs": []
    },
    {
      "cell_type": "code",
      "source": [
        "# axis : 0 indicates row-wise and 1 indicates column-wise\n",
        "tf.concat( (t3, t4), axis = 0)  # row-wise : concat t4 to rows of t3"
      ],
      "metadata": {
        "colab": {
          "base_uri": "https://localhost:8080/"
        },
        "id": "vu6VPe4BSEKs",
        "outputId": "8fb557c5-a412-42ef-9102-8fbec06a0572"
      },
      "execution_count": 35,
      "outputs": [
        {
          "output_type": "execute_result",
          "data": {
            "text/plain": [
              "<tf.Tensor: shape=(4, 2), dtype=int32, numpy=\n",
              "array([[1, 2],\n",
              "       [3, 4],\n",
              "       [5, 6],\n",
              "       [7, 8]], dtype=int32)>"
            ]
          },
          "metadata": {},
          "execution_count": 35
        }
      ]
    },
    {
      "cell_type": "code",
      "source": [
        "# axis : 0 indicates row-wise and 1 indicates column-wise\n",
        "tf.concat( (t3, t4), axis = 1)  # column-wise : concat t4 to columns of t3"
      ],
      "metadata": {
        "colab": {
          "base_uri": "https://localhost:8080/"
        },
        "id": "OJbX9sijSCtq",
        "outputId": "f3f6c427-342c-4ac8-9688-cd35bce8924e"
      },
      "execution_count": 37,
      "outputs": [
        {
          "output_type": "execute_result",
          "data": {
            "text/plain": [
              "<tf.Tensor: shape=(2, 4), dtype=int32, numpy=\n",
              "array([[1, 2, 5, 6],\n",
              "       [3, 4, 7, 8]], dtype=int32)>"
            ]
          },
          "metadata": {},
          "execution_count": 37
        }
      ]
    },
    {
      "cell_type": "code",
      "source": [
        "print( tf.concat( (t3, t4), axis = 0).shape )\n",
        "print( tf.concat( (t3, t4), axis = 1).shape )"
      ],
      "metadata": {
        "colab": {
          "base_uri": "https://localhost:8080/"
        },
        "id": "ICPA5XGhXEAw",
        "outputId": "01d85344-9f0b-4db2-cdf6-1094b47f4e2e"
      },
      "execution_count": 38,
      "outputs": [
        {
          "output_type": "stream",
          "name": "stdout",
          "text": [
            "(4, 2)\n",
            "(2, 4)\n"
          ]
        }
      ]
    },
    {
      "cell_type": "code",
      "source": [
        ""
      ],
      "metadata": {
        "id": "xUBzDMKxIeOI"
      },
      "execution_count": null,
      "outputs": []
    }
  ]
}
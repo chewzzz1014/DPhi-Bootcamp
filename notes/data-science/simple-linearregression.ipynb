{
 "cells": [
  {
   "cell_type": "code",
   "execution_count": 1,
   "id": "64224699",
   "metadata": {
    "_cell_guid": "b1076dfc-b9ad-4769-8c92-a6c4dae69d19",
    "_uuid": "8f2839f25d086af736a60e9eeb907d3b93b6e0e5",
    "execution": {
     "iopub.execute_input": "2022-06-05T07:56:05.762964Z",
     "iopub.status.busy": "2022-06-05T07:56:05.761958Z",
     "iopub.status.idle": "2022-06-05T07:56:05.778456Z",
     "shell.execute_reply": "2022-06-05T07:56:05.777485Z"
    },
    "papermill": {
     "duration": 0.023692,
     "end_time": "2022-06-05T07:56:05.780839",
     "exception": false,
     "start_time": "2022-06-05T07:56:05.757147",
     "status": "completed"
    },
    "tags": []
   },
   "outputs": [
    {
     "name": "stdout",
     "output_type": "stream",
     "text": [
      "/kaggle/input/hr-analytics/HR_comma_sep.csv\n"
     ]
    }
   ],
   "source": [
    "# This Python 3 environment comes with many helpful analytics libraries installed\n",
    "# It is defined by the kaggle/python Docker image: https://github.com/kaggle/docker-python\n",
    "# For example, here's several helpful packages to load\n",
    "\n",
    "import numpy as np # linear algebra\n",
    "import pandas as pd # data processing, CSV file I/O (e.g. pd.read_csv)\n",
    "\n",
    "# Input data files are available in the read-only \"../input/\" directory\n",
    "# For example, running this (by clicking run or pressing Shift+Enter) will list all files under the input directory\n",
    "\n",
    "import os\n",
    "for dirname, _, filenames in os.walk('/kaggle/input'):\n",
    "    for filename in filenames:\n",
    "        print(os.path.join(dirname, filename))\n",
    "\n",
    "# You can write up to 20GB to the current directory (/kaggle/working/) that gets preserved as output when you create a version using \"Save & Run All\" \n",
    "# You can also write temporary files to /kaggle/temp/, but they won't be saved outside of the current session"
   ]
  },
  {
   "cell_type": "markdown",
   "id": "3f024938",
   "metadata": {
    "papermill": {
     "duration": 0.001782,
     "end_time": "2022-06-05T07:56:05.785073",
     "exception": false,
     "start_time": "2022-06-05T07:56:05.783291",
     "status": "completed"
    },
    "tags": []
   },
   "source": [
    "Download employee retention dataset from here: https://www.kaggle.com/giripujar/hr-analytics.\n",
    "\n",
    "Now do some exploratory data analysis to figure out which variables have direct and clear impact on employee retention (i.e. whether they leave the company or continue to work)\n",
    "Plot bar charts showing impact of employee salaries on retention\n",
    "Plot bar charts showing corelation between department and employee retention\n",
    "Now build logistic regression model using variables that were narrowed down in step 1\n",
    "Measure the accuracy of the model"
   ]
  },
  {
   "cell_type": "code",
   "execution_count": 2,
   "id": "c8374625",
   "metadata": {
    "execution": {
     "iopub.execute_input": "2022-06-05T07:56:05.790975Z",
     "iopub.status.busy": "2022-06-05T07:56:05.790229Z",
     "iopub.status.idle": "2022-06-05T07:56:07.276920Z",
     "shell.execute_reply": "2022-06-05T07:56:07.276055Z"
    },
    "papermill": {
     "duration": 1.492175,
     "end_time": "2022-06-05T07:56:07.279193",
     "exception": false,
     "start_time": "2022-06-05T07:56:05.787018",
     "status": "completed"
    },
    "tags": []
   },
   "outputs": [],
   "source": [
    "import pandas as pd\n",
    "import numpy as np\n",
    "import matplotlib.pyplot as plt\n",
    "import seaborn as sns\n",
    "from sklearn.linear_model import LogisticRegression"
   ]
  },
  {
   "cell_type": "code",
   "execution_count": null,
   "id": "358a933d",
   "metadata": {
    "papermill": {
     "duration": 0.002413,
     "end_time": "2022-06-05T07:56:07.284381",
     "exception": false,
     "start_time": "2022-06-05T07:56:07.281968",
     "status": "completed"
    },
    "tags": []
   },
   "outputs": [],
   "source": []
  }
 ],
 "metadata": {
  "kernelspec": {
   "display_name": "Python 3",
   "language": "python",
   "name": "python3"
  },
  "language_info": {
   "codemirror_mode": {
    "name": "ipython",
    "version": 3
   },
   "file_extension": ".py",
   "mimetype": "text/x-python",
   "name": "python",
   "nbconvert_exporter": "python",
   "pygments_lexer": "ipython3",
   "version": "3.7.12"
  },
  "papermill": {
   "default_parameters": {},
   "duration": 13.206853,
   "end_time": "2022-06-05T07:56:08.310648",
   "environment_variables": {},
   "exception": null,
   "input_path": "__notebook__.ipynb",
   "output_path": "__notebook__.ipynb",
   "parameters": {},
   "start_time": "2022-06-05T07:55:55.103795",
   "version": "2.3.4"
  }
 },
 "nbformat": 4,
 "nbformat_minor": 5
}

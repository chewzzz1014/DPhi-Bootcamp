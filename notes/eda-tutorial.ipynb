{
 "cells": [
  {
   "cell_type": "code",
   "execution_count": 1,
   "id": "c1113a03",
   "metadata": {
    "_cell_guid": "b1076dfc-b9ad-4769-8c92-a6c4dae69d19",
    "_kg_hide-input": true,
    "_uuid": "8f2839f25d086af736a60e9eeb907d3b93b6e0e5",
    "execution": {
     "iopub.execute_input": "2022-05-29T15:02:52.807895Z",
     "iopub.status.busy": "2022-05-29T15:02:52.806692Z",
     "iopub.status.idle": "2022-05-29T15:02:52.828602Z",
     "shell.execute_reply": "2022-05-29T15:02:52.827694Z"
    },
    "papermill": {
     "duration": 0.030893,
     "end_time": "2022-05-29T15:02:52.830855",
     "exception": false,
     "start_time": "2022-05-29T15:02:52.799962",
     "status": "completed"
    },
    "tags": []
   },
   "outputs": [
    {
     "name": "stdout",
     "output_type": "stream",
     "text": [
      "/kaggle/input/suicide-rates-overview-1985-to-2016/master.csv\n"
     ]
    }
   ],
   "source": [
    "# This Python 3 environment comes with many helpful analytics libraries installed\n",
    "# It is defined by the kaggle/python Docker image: https://github.com/kaggle/docker-python\n",
    "# For example, here's several helpful packages to load\n",
    "\n",
    "import numpy as np # linear algebra\n",
    "import pandas as pd # data processing, CSV file I/O (e.g. pd.read_csv)\n",
    "\n",
    "# Input data files are available in the read-only \"../input/\" directory\n",
    "# For example, running this (by clicking run or pressing Shift+Enter) will list all files under the input directory\n",
    "\n",
    "import os\n",
    "for dirname, _, filenames in os.walk('/kaggle/input'):\n",
    "    for filename in filenames:\n",
    "        print(os.path.join(dirname, filename))\n",
    "\n",
    "# You can write up to 20GB to the current directory (/kaggle/working/) that gets preserved as output when you create a version using \"Save & Run All\" \n",
    "# You can also write temporary files to /kaggle/temp/, but they won't be saved outside of the current session"
   ]
  },
  {
   "cell_type": "code",
   "execution_count": 2,
   "id": "412758e5",
   "metadata": {
    "execution": {
     "iopub.execute_input": "2022-05-29T15:02:52.839749Z",
     "iopub.status.busy": "2022-05-29T15:02:52.839237Z",
     "iopub.status.idle": "2022-05-29T15:02:53.895621Z",
     "shell.execute_reply": "2022-05-29T15:02:53.894364Z"
    },
    "papermill": {
     "duration": 1.063664,
     "end_time": "2022-05-29T15:02:53.897997",
     "exception": false,
     "start_time": "2022-05-29T15:02:52.834333",
     "status": "completed"
    },
    "tags": []
   },
   "outputs": [],
   "source": [
    "import pandas as pd\n",
    "import numpy as np\n",
    "import matplotlib.pyplot as plt\n",
    "import seaborn as sns"
   ]
  },
  {
   "cell_type": "code",
   "execution_count": 3,
   "id": "95b3bef3",
   "metadata": {
    "execution": {
     "iopub.execute_input": "2022-05-29T15:02:53.905183Z",
     "iopub.status.busy": "2022-05-29T15:02:53.903848Z",
     "iopub.status.idle": "2022-05-29T15:02:54.019632Z",
     "shell.execute_reply": "2022-05-29T15:02:54.018867Z"
    },
    "papermill": {
     "duration": 0.121865,
     "end_time": "2022-05-29T15:02:54.022355",
     "exception": false,
     "start_time": "2022-05-29T15:02:53.900490",
     "status": "completed"
    },
    "tags": []
   },
   "outputs": [
    {
     "data": {
      "text/html": [
       "<div>\n",
       "<style scoped>\n",
       "    .dataframe tbody tr th:only-of-type {\n",
       "        vertical-align: middle;\n",
       "    }\n",
       "\n",
       "    .dataframe tbody tr th {\n",
       "        vertical-align: top;\n",
       "    }\n",
       "\n",
       "    .dataframe thead th {\n",
       "        text-align: right;\n",
       "    }\n",
       "</style>\n",
       "<table border=\"1\" class=\"dataframe\">\n",
       "  <thead>\n",
       "    <tr style=\"text-align: right;\">\n",
       "      <th></th>\n",
       "      <th>country</th>\n",
       "      <th>year</th>\n",
       "      <th>sex</th>\n",
       "      <th>age</th>\n",
       "      <th>suicides_no</th>\n",
       "      <th>population</th>\n",
       "      <th>suicides/100k pop</th>\n",
       "      <th>country-year</th>\n",
       "      <th>HDI for year</th>\n",
       "      <th>gdp_for_year ($)</th>\n",
       "      <th>gdp_per_capita ($)</th>\n",
       "      <th>generation</th>\n",
       "    </tr>\n",
       "  </thead>\n",
       "  <tbody>\n",
       "    <tr>\n",
       "      <th>0</th>\n",
       "      <td>Albania</td>\n",
       "      <td>1987</td>\n",
       "      <td>male</td>\n",
       "      <td>15-24 years</td>\n",
       "      <td>21</td>\n",
       "      <td>312900</td>\n",
       "      <td>6.71</td>\n",
       "      <td>Albania1987</td>\n",
       "      <td>NaN</td>\n",
       "      <td>2,156,624,900</td>\n",
       "      <td>796</td>\n",
       "      <td>Generation X</td>\n",
       "    </tr>\n",
       "    <tr>\n",
       "      <th>1</th>\n",
       "      <td>Albania</td>\n",
       "      <td>1987</td>\n",
       "      <td>male</td>\n",
       "      <td>35-54 years</td>\n",
       "      <td>16</td>\n",
       "      <td>308000</td>\n",
       "      <td>5.19</td>\n",
       "      <td>Albania1987</td>\n",
       "      <td>NaN</td>\n",
       "      <td>2,156,624,900</td>\n",
       "      <td>796</td>\n",
       "      <td>Silent</td>\n",
       "    </tr>\n",
       "    <tr>\n",
       "      <th>2</th>\n",
       "      <td>Albania</td>\n",
       "      <td>1987</td>\n",
       "      <td>female</td>\n",
       "      <td>15-24 years</td>\n",
       "      <td>14</td>\n",
       "      <td>289700</td>\n",
       "      <td>4.83</td>\n",
       "      <td>Albania1987</td>\n",
       "      <td>NaN</td>\n",
       "      <td>2,156,624,900</td>\n",
       "      <td>796</td>\n",
       "      <td>Generation X</td>\n",
       "    </tr>\n",
       "    <tr>\n",
       "      <th>3</th>\n",
       "      <td>Albania</td>\n",
       "      <td>1987</td>\n",
       "      <td>male</td>\n",
       "      <td>75+ years</td>\n",
       "      <td>1</td>\n",
       "      <td>21800</td>\n",
       "      <td>4.59</td>\n",
       "      <td>Albania1987</td>\n",
       "      <td>NaN</td>\n",
       "      <td>2,156,624,900</td>\n",
       "      <td>796</td>\n",
       "      <td>G.I. Generation</td>\n",
       "    </tr>\n",
       "    <tr>\n",
       "      <th>4</th>\n",
       "      <td>Albania</td>\n",
       "      <td>1987</td>\n",
       "      <td>male</td>\n",
       "      <td>25-34 years</td>\n",
       "      <td>9</td>\n",
       "      <td>274300</td>\n",
       "      <td>3.28</td>\n",
       "      <td>Albania1987</td>\n",
       "      <td>NaN</td>\n",
       "      <td>2,156,624,900</td>\n",
       "      <td>796</td>\n",
       "      <td>Boomers</td>\n",
       "    </tr>\n",
       "  </tbody>\n",
       "</table>\n",
       "</div>"
      ],
      "text/plain": [
       "   country  year     sex          age  suicides_no  population  \\\n",
       "0  Albania  1987    male  15-24 years           21      312900   \n",
       "1  Albania  1987    male  35-54 years           16      308000   \n",
       "2  Albania  1987  female  15-24 years           14      289700   \n",
       "3  Albania  1987    male    75+ years            1       21800   \n",
       "4  Albania  1987    male  25-34 years            9      274300   \n",
       "\n",
       "   suicides/100k pop country-year  HDI for year  gdp_for_year ($)   \\\n",
       "0               6.71  Albania1987           NaN      2,156,624,900   \n",
       "1               5.19  Albania1987           NaN      2,156,624,900   \n",
       "2               4.83  Albania1987           NaN      2,156,624,900   \n",
       "3               4.59  Albania1987           NaN      2,156,624,900   \n",
       "4               3.28  Albania1987           NaN      2,156,624,900   \n",
       "\n",
       "   gdp_per_capita ($)       generation  \n",
       "0                 796     Generation X  \n",
       "1                 796           Silent  \n",
       "2                 796     Generation X  \n",
       "3                 796  G.I. Generation  \n",
       "4                 796          Boomers  "
      ]
     },
     "execution_count": 3,
     "metadata": {},
     "output_type": "execute_result"
    }
   ],
   "source": [
    "df = pd.read_csv(\"../input/suicide-rates-overview-1985-to-2016/master.csv\")\n",
    "df.head()"
   ]
  },
  {
   "cell_type": "code",
   "execution_count": 4,
   "id": "06db8bcf",
   "metadata": {
    "execution": {
     "iopub.execute_input": "2022-05-29T15:02:54.028734Z",
     "iopub.status.busy": "2022-05-29T15:02:54.028403Z",
     "iopub.status.idle": "2022-05-29T15:02:54.036479Z",
     "shell.execute_reply": "2022-05-29T15:02:54.035564Z"
    },
    "papermill": {
     "duration": 0.01334,
     "end_time": "2022-05-29T15:02:54.038327",
     "exception": false,
     "start_time": "2022-05-29T15:02:54.024987",
     "status": "completed"
    },
    "tags": []
   },
   "outputs": [
    {
     "data": {
      "text/plain": [
       "country                object\n",
       "year                    int64\n",
       "sex                    object\n",
       "age                    object\n",
       "suicides_no             int64\n",
       "population              int64\n",
       "suicides/100k pop     float64\n",
       "country-year           object\n",
       "HDI for year          float64\n",
       " gdp_for_year ($)      object\n",
       "gdp_per_capita ($)      int64\n",
       "generation             object\n",
       "dtype: object"
      ]
     },
     "execution_count": 4,
     "metadata": {},
     "output_type": "execute_result"
    }
   ],
   "source": [
    "# preliminaries\n",
    "\n",
    "# data type for each feature\n",
    "df.dtypes"
   ]
  },
  {
   "cell_type": "code",
   "execution_count": 5,
   "id": "bdd1ae87",
   "metadata": {
    "execution": {
     "iopub.execute_input": "2022-05-29T15:02:54.047942Z",
     "iopub.status.busy": "2022-05-29T15:02:54.046952Z",
     "iopub.status.idle": "2022-05-29T15:02:54.072312Z",
     "shell.execute_reply": "2022-05-29T15:02:54.071367Z"
    },
    "papermill": {
     "duration": 0.033871,
     "end_time": "2022-05-29T15:02:54.074870",
     "exception": false,
     "start_time": "2022-05-29T15:02:54.040999",
     "status": "completed"
    },
    "tags": []
   },
   "outputs": [
    {
     "name": "stdout",
     "output_type": "stream",
     "text": [
      "country has 101 unique values.\n",
      "\n",
      "year has 32 unique values.\n",
      "\n",
      "sex has 2 unique values.\n",
      "\n",
      "age has 6 unique values.\n",
      "\n",
      "suicides_no has 2084 unique values.\n",
      "\n",
      "population has 25564 unique values.\n",
      "\n",
      "suicides/100k pop has 5298 unique values.\n",
      "\n",
      "country-year has 2321 unique values.\n",
      "\n",
      "HDI for year has 305 unique values.\n",
      "\n",
      " gdp_for_year ($)  has 2321 unique values.\n",
      "\n",
      "gdp_per_capita ($) has 2233 unique values.\n",
      "\n",
      "generation has 6 unique values.\n",
      "\n"
     ]
    }
   ],
   "source": [
    "# number of unique values\n",
    "for c in df.columns:\n",
    "    print(c,\"has\",df[c].nunique(), \"unique values.\\n\")"
   ]
  },
  {
   "cell_type": "code",
   "execution_count": 6,
   "id": "e9bfcbe8",
   "metadata": {
    "execution": {
     "iopub.execute_input": "2022-05-29T15:02:54.082447Z",
     "iopub.status.busy": "2022-05-29T15:02:54.082142Z",
     "iopub.status.idle": "2022-05-29T15:02:54.098255Z",
     "shell.execute_reply": "2022-05-29T15:02:54.096568Z"
    },
    "papermill": {
     "duration": 0.021906,
     "end_time": "2022-05-29T15:02:54.100411",
     "exception": false,
     "start_time": "2022-05-29T15:02:54.078505",
     "status": "completed"
    },
    "tags": []
   },
   "outputs": [
    {
     "name": "stdout",
     "output_type": "stream",
     "text": [
      "country has 0 missing values.\n",
      "\n",
      "year has 0 missing values.\n",
      "\n",
      "sex has 0 missing values.\n",
      "\n",
      "age has 0 missing values.\n",
      "\n",
      "suicides_no has 0 missing values.\n",
      "\n",
      "population has 0 missing values.\n",
      "\n",
      "suicides/100k pop has 0 missing values.\n",
      "\n",
      "country-year has 0 missing values.\n",
      "\n",
      "HDI for year has 19456 missing values.\n",
      "\n",
      " gdp_for_year ($)  has 0 missing values.\n",
      "\n",
      "gdp_per_capita ($) has 0 missing values.\n",
      "\n",
      "generation has 0 missing values.\n",
      "\n"
     ]
    }
   ],
   "source": [
    "# number of missing entries\n",
    "for c in df.columns:\n",
    "    print(c, \"has\", df[c].isna().sum(),\"missing values.\\n\")"
   ]
  },
  {
   "cell_type": "code",
   "execution_count": 7,
   "id": "4c9c5f08",
   "metadata": {
    "execution": {
     "iopub.execute_input": "2022-05-29T15:02:54.107283Z",
     "iopub.status.busy": "2022-05-29T15:02:54.106960Z",
     "iopub.status.idle": "2022-05-29T15:02:54.123485Z",
     "shell.execute_reply": "2022-05-29T15:02:54.122364Z"
    },
    "papermill": {
     "duration": 0.022536,
     "end_time": "2022-05-29T15:02:54.125699",
     "exception": false,
     "start_time": "2022-05-29T15:02:54.103163",
     "status": "completed"
    },
    "tags": []
   },
   "outputs": [
    {
     "name": "stdout",
     "output_type": "stream",
     "text": [
      "This dataset has 11 features with no missong entries.\n"
     ]
    }
   ],
   "source": [
    "no_missing_col = [c for c in df.columns if (df[c].isna().sum()==0)]\n",
    "print(\"This dataset has\",len(no_missing_col),\"features with no missong entries.\")"
   ]
  }
 ],
 "metadata": {
  "kernelspec": {
   "display_name": "Python 3",
   "language": "python",
   "name": "python3"
  },
  "language_info": {
   "codemirror_mode": {
    "name": "ipython",
    "version": 3
   },
   "file_extension": ".py",
   "mimetype": "text/x-python",
   "name": "python",
   "nbconvert_exporter": "python",
   "pygments_lexer": "ipython3",
   "version": "3.7.12"
  },
  "papermill": {
   "default_parameters": {},
   "duration": 10.337984,
   "end_time": "2022-05-29T15:02:54.849182",
   "environment_variables": {},
   "exception": null,
   "input_path": "__notebook__.ipynb",
   "output_path": "__notebook__.ipynb",
   "parameters": {},
   "start_time": "2022-05-29T15:02:44.511198",
   "version": "2.3.4"
  }
 },
 "nbformat": 4,
 "nbformat_minor": 5
}

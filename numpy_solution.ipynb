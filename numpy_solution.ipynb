{
  "nbformat": 4,
  "nbformat_minor": 0,
  "metadata": {
    "colab": {
      "name": "numPy_solution.ipynb",
      "provenance": []
    },
    "kernelspec": {
      "name": "python3",
      "display_name": "Python 3"
    },
    "language_info": {
      "name": "python"
    }
  },
  "cells": [
    {
      "cell_type": "markdown",
      "source": [
        "#Task 1\n",
        "Construct a random 3x28x28 NumPy array called original to represent an image and then convert this into into a 1x(3x28x28) array called flat. This converts it into a single row of pixels. Next, convert this to a 1D array (flatten the array using flat.flatten()). Print shape of all arrays. You may use the random function to generate the array."
      ],
      "metadata": {
        "id": "kyTEnQ4j6dzc"
      }
    },
    {
      "cell_type": "code",
      "execution_count": null,
      "metadata": {
        "id": "fA2KOx2t6azM"
      },
      "outputs": [],
      "source": [
        "import numpy as np"
      ]
    },
    {
      "cell_type": "code",
      "source": [
        "original = np.random.rand(3,28,28)\n",
        "original"
      ],
      "metadata": {
        "id": "WWx7Zogt74al"
      },
      "execution_count": null,
      "outputs": []
    },
    {
      "cell_type": "code",
      "source": [
        "flat = np.reshape(original, -1)\n",
        "flat"
      ],
      "metadata": {
        "id": "Xvy3WxZu7-iE"
      },
      "execution_count": null,
      "outputs": []
    },
    {
      "cell_type": "code",
      "source": [
        "flat.flatten()\n",
        "flat"
      ],
      "metadata": {
        "id": "MhrFnJIY8ERS"
      },
      "execution_count": null,
      "outputs": []
    },
    {
      "cell_type": "markdown",
      "source": [
        "#Task 2\n",
        "Print out the following:\n",
        "\n",
        "*  dimension of the arrays.\n",
        "*  memory address of the arrays (pointer).\n",
        "\n",
        "*  shape of the arrays.\n",
        "*  data types of the arrays.\n",
        "\n",
        "\n",
        "\n"
      ],
      "metadata": {
        "id": "YXlhSLjQ6ghR"
      }
    },
    {
      "cell_type": "code",
      "source": [
        "print(\"Dimension of array original:\",original.ndim)\n",
        "print(\"Dimension of array flat:\",flat.ndim)"
      ],
      "metadata": {
        "id": "z0LKk0Ey6mVq"
      },
      "execution_count": null,
      "outputs": []
    },
    {
      "cell_type": "code",
      "source": [
        "print(\"Memory address of array original:\",original.data)\n",
        "print(\"Memory address of array flat:\",flat.data)"
      ],
      "metadata": {
        "id": "hxeDvog48rmE"
      },
      "execution_count": null,
      "outputs": []
    },
    {
      "cell_type": "code",
      "source": [
        "print(\"Shape of array original:\",original.shape)\n",
        "print(\"Shape of array flat:\",flat.shape)"
      ],
      "metadata": {
        "colab": {
          "base_uri": "https://localhost:8080/"
        },
        "id": "QxnK3u8m8r91",
        "outputId": "2cc741a2-8968-459a-83e5-0c9defded020"
      },
      "execution_count": null,
      "outputs": [
        {
          "output_type": "stream",
          "name": "stdout",
          "text": [
            "Shape of array original: (3, 28, 28)\n",
            "Shape of array flat: (2352,)\n"
          ]
        }
      ]
    },
    {
      "cell_type": "code",
      "source": [
        "print(\"Data type of array original:\",original.dtype)\n",
        "print(\"Data type array flat:\",flat.dtype)"
      ],
      "metadata": {
        "id": "61yTYevU8sWw"
      },
      "execution_count": null,
      "outputs": []
    },
    {
      "cell_type": "markdown",
      "source": [
        "#Task 3\n",
        "Construct a new array which is a negative of the original array, i.e, all elements are negative of those in the original array. Print the new array. Add the original and new arrays. Print the result."
      ],
      "metadata": {
        "id": "itEa1DBL6m0E"
      }
    },
    {
      "cell_type": "code",
      "source": [
        "negation = np.array([element*(-1) for element in original])\n",
        "negation"
      ],
      "metadata": {
        "id": "8j_Gcrie6oZj"
      },
      "execution_count": null,
      "outputs": []
    },
    {
      "cell_type": "code",
      "source": [
        "print(negation+original)"
      ],
      "metadata": {
        "id": "eBYjs4Rg_TLR"
      },
      "execution_count": null,
      "outputs": []
    },
    {
      "cell_type": "markdown",
      "source": [
        "#Task 4\n",
        "A 3x28x28 basically means 28x28 matrices repeated three times. How would you access the first 10 elements of the 2nd row of the second 28x28 matrix? Consider the original array for this. Print the elements."
      ],
      "metadata": {
        "id": "a6rsGUhh6ozp"
      }
    },
    {
      "cell_type": "code",
      "source": [
        "print(original[1,1,:10])"
      ],
      "metadata": {
        "colab": {
          "base_uri": "https://localhost:8080/"
        },
        "id": "ltkE9Q246qVx",
        "outputId": "4720ccc9-aa4b-4808-cf9f-c8e6874c6275"
      },
      "execution_count": null,
      "outputs": [
        {
          "output_type": "stream",
          "name": "stdout",
          "text": [
            "[0.31260637 0.24680848 0.09508377 0.73318592 0.12903378 0.74052896\n",
            " 0.4334827  0.73234077 0.42134349 0.15409029]\n"
          ]
        }
      ]
    },
    {
      "cell_type": "markdown",
      "source": [
        "#Task 5\n",
        "A 3x28x28 image means 3 channels of Red, Green, or Blue (Popularly known as RGB image). Each color channel has a height and width, which is 28X28 in this case. The entire picture can represented through this method. Print the shape of the Blue pixel matrix and its first 3 rows."
      ],
      "metadata": {
        "id": "ZtMmmUOH6q-d"
      }
    },
    {
      "cell_type": "code",
      "source": [
        "print(\"Shape of Blue:\",original[1].shape)\n",
        "print(original[1,:3,:])"
      ],
      "metadata": {
        "id": "vQt0FXZD6srM"
      },
      "execution_count": null,
      "outputs": []
    },
    {
      "cell_type": "markdown",
      "source": [
        "#Task 6\n",
        "Create a 1 dimensional numpy array of the first 50 even numbers. Convert this to a 10x5 numpy array and print its transpose."
      ],
      "metadata": {
        "id": "9O4EgUvm6tMb"
      }
    },
    {
      "cell_type": "code",
      "source": [
        "even =  [i for i in range(0,100,2) ]\n",
        "even = np.array(even)\n",
        "even = np.reshape( even, (10,5))\n",
        "even.transpose()\n",
        "\n"
      ],
      "metadata": {
        "colab": {
          "base_uri": "https://localhost:8080/"
        },
        "id": "hGjNzFn76yKa",
        "outputId": "1137f44f-55b7-4ac2-96c1-d820293c9b01"
      },
      "execution_count": null,
      "outputs": [
        {
          "output_type": "execute_result",
          "data": {
            "text/plain": [
              "array([[ 0, 10, 20, 30, 40, 50, 60, 70, 80, 90],\n",
              "       [ 2, 12, 22, 32, 42, 52, 62, 72, 82, 92],\n",
              "       [ 4, 14, 24, 34, 44, 54, 64, 74, 84, 94],\n",
              "       [ 6, 16, 26, 36, 46, 56, 66, 76, 86, 96],\n",
              "       [ 8, 18, 28, 38, 48, 58, 68, 78, 88, 98]])"
            ]
          },
          "metadata": {},
          "execution_count": 70
        }
      ]
    },
    {
      "cell_type": "markdown",
      "source": [
        "#Task 7\n",
        "Consider the 10x5 array created in Task 6. Find the mean of each row and column. You may use in built functions or write your own code"
      ],
      "metadata": {
        "id": "i-qFKIOS6yqT"
      }
    },
    {
      "cell_type": "code",
      "source": [
        "for i in range(10):\n",
        "  avg = sum(even[i,:])/5\n",
        "  print(\"Average for row \",(i+1),\":\",avg)\n",
        "\n",
        "for j in range(5):\n",
        "  sum=0\n",
        "  for i in range(10):\n",
        "    sum+=even[i][j]\n",
        "  avg = sum/10\n",
        "  print(\"Average for column \",(j+1),\":\",avg)"
      ],
      "metadata": {
        "colab": {
          "base_uri": "https://localhost:8080/"
        },
        "id": "o9tGd6n460IE",
        "outputId": "5e4d2386-2603-498f-abd2-265a4a18ea8a"
      },
      "execution_count": null,
      "outputs": [
        {
          "output_type": "stream",
          "name": "stdout",
          "text": [
            "Average for row  1 : 4.0\n",
            "Average for row  2 : 14.0\n",
            "Average for row  3 : 24.0\n",
            "Average for row  4 : 34.0\n",
            "Average for row  5 : 44.0\n",
            "Average for row  6 : 54.0\n",
            "Average for row  7 : 64.0\n",
            "Average for row  8 : 74.0\n",
            "Average for row  9 : 84.0\n",
            "Average for row  10 : 94.0\n",
            "Average for column  1 : 45.0\n",
            "Average for column  2 : 47.0\n",
            "Average for column  3 : 49.0\n",
            "Average for column  4 : 51.0\n",
            "Average for column  5 : 53.0\n"
          ]
        }
      ]
    },
    {
      "cell_type": "markdown",
      "source": [
        "#Task 8\n",
        "Can we create a 3x3 array of the first 50 even numbers? Why or why not? What are other values of m and n for which mxn dimension is allowed for 50 elements?"
      ],
      "metadata": {
        "id": "cnsr2aDX60tt"
      }
    },
    {
      "cell_type": "markdown",
      "source": [
        "We can't create a 3x3 array of the first 50 even number as this array consists of 50 element which cannot be fitted into odd number shape array. Some values of m and n allowed would be:\n",
        "\n",
        "\n",
        "\n",
        "*   m=2 , n=25 or vice verse\n",
        "*   m=5, n=10 or vice verse\n",
        "*   m=1, n=50 or vice verse\n",
        "\n",
        "\n",
        "\n",
        "\n",
        "\n",
        "\n"
      ],
      "metadata": {
        "id": "xoPyu9ZsKjCj"
      }
    }
  ]
}
{
  "nbformat": 4,
  "nbformat_minor": 0,
  "metadata": {
    "colab": {
      "name": "pandas_solution.ipynb",
      "provenance": []
    },
    "kernelspec": {
      "name": "python3",
      "display_name": "Python 3"
    },
    "language_info": {
      "name": "python"
    }
  },
  "cells": [
    {
      "cell_type": "markdown",
      "source": [
        "#Task 1\n",
        "\n"
      ],
      "metadata": {
        "id": "QJg8QoJAXlBV"
      }
    },
    {
      "cell_type": "code",
      "execution_count": null,
      "metadata": {
        "colab": {
          "base_uri": "https://localhost:8080/"
        },
        "id": "j6mrIyBfXiLX",
        "outputId": "c201428d-9862-435d-e295-4b01c2350d83"
      },
      "outputs": [
        {
          "output_type": "stream",
          "name": "stdout",
          "text": [
            "   SNo ObservationDate Province/State  ... Confirmed Deaths  Recovered\n",
            "0    1      01/22/2020          Anhui  ...       1.0    0.0        0.0\n",
            "1    2      01/22/2020        Beijing  ...      14.0    0.0        0.0\n",
            "2    3      01/22/2020      Chongqing  ...       6.0    0.0        0.0\n",
            "3    4      01/22/2020         Fujian  ...       1.0    0.0        0.0\n",
            "4    5      01/22/2020          Gansu  ...       0.0    0.0        0.0\n",
            "5    6      01/22/2020      Guangdong  ...      26.0    0.0        0.0\n",
            "6    7      01/22/2020        Guangxi  ...       2.0    0.0        0.0\n",
            "7    8      01/22/2020        Guizhou  ...       1.0    0.0        0.0\n",
            "8    9      01/22/2020         Hainan  ...       4.0    0.0        0.0\n",
            "9   10      01/22/2020          Hebei  ...       1.0    0.0        0.0\n",
            "\n",
            "[10 rows x 8 columns]\n",
            "\n",
            "Before Conversion:\n",
            "SNo                  int64\n",
            "ObservationDate     object\n",
            "Province/State      object\n",
            "Country/Region      object\n",
            "Last Update         object\n",
            "Confirmed          float64\n",
            "Deaths             float64\n",
            "Recovered          float64\n",
            "dtype: object\n",
            "\n",
            "After Conversion:\n",
            "SNo                         int64\n",
            "ObservationDate    datetime64[ns]\n",
            "Province/State             object\n",
            "Country/Region             object\n",
            "Last Update        datetime64[ns]\n",
            "Confirmed                 float64\n",
            "Deaths                    float64\n",
            "Recovered                 float64\n",
            "dtype: object\n"
          ]
        }
      ],
      "source": [
        "import pandas as pd\n",
        "df = pd.read_csv(\"https://raw.githubusercontent.com/dphi-official/Datasets/master/covid_19_data.csv\")\n",
        "print(df.head(10))\n",
        "print(\"\\nBefore Conversion:\")\n",
        "print(df.dtypes)\n",
        "df [\"ObservationDate\"] = pd.to_datetime(df[\"ObservationDate\"])\n",
        "df[\"Last Update\"] = pd.to_datetime(df[\"Last Update\"])\n",
        "print(\"\\nAfter Conversion:\")\n",
        "print(df.dtypes)"
      ]
    },
    {
      "cell_type": "markdown",
      "source": [
        "#Task 2"
      ],
      "metadata": {
        "id": "hRaybBg2XpAL"
      }
    },
    {
      "cell_type": "code",
      "source": [
        "updated_data = df[ (df[\"Last Update\"]==\"2020-06-13 03:33:14\") ]\n",
        "print(updated_data.count())\n",
        "print()\n",
        "print(updated_data[\"Country/Region\"].unique())"
      ],
      "metadata": {
        "colab": {
          "base_uri": "https://localhost:8080/"
        },
        "id": "wf4jzaSGXrEl",
        "outputId": "8acf5722-5415-4dd9-a0f6-b8ecee578358"
      },
      "execution_count": null,
      "outputs": [
        {
          "output_type": "stream",
          "name": "stdout",
          "text": [
            "SNo                729\n",
            "ObservationDate    729\n",
            "Province/State     560\n",
            "Country/Region     729\n",
            "Last Update        729\n",
            "Confirmed          729\n",
            "Deaths             729\n",
            "Recovered          729\n",
            "dtype: int64\n",
            "\n",
            "['Afghanistan' 'Albania' 'Algeria' 'Andorra' 'Angola'\n",
            " 'Antigua and Barbuda' 'Argentina' 'Armenia' 'Austria' 'Azerbaijan'\n",
            " 'Bahamas' 'Bahrain' 'Bangladesh' 'Barbados' 'Belarus' 'Belgium' 'Belize'\n",
            " 'Benin' 'Bhutan' 'Bolivia' 'Bosnia and Herzegovina' 'Botswana' 'Brunei'\n",
            " 'Bulgaria' 'Burkina Faso' 'Burma' 'Burundi' 'Cabo Verde' 'Cambodia'\n",
            " 'Cameroon' 'Central African Republic' 'Chad' 'Comoros'\n",
            " 'Congo (Brazzaville)' 'Congo (Kinshasa)' 'Costa Rica' 'Croatia' 'Cuba'\n",
            " 'Cyprus' 'Czech Republic' 'Denmark' 'Diamond Princess' 'Djibouti'\n",
            " 'Dominica' 'Dominican Republic' 'Ecuador' 'Egypt' 'El Salvador'\n",
            " 'Equatorial Guinea' 'Eritrea' 'Estonia' 'Eswatini' 'Ethiopia' 'Fiji'\n",
            " 'Finland' 'France' 'Gabon' 'Gambia' 'Georgia' 'Ghana' 'Greece' 'Grenada'\n",
            " 'Guatemala' 'Guinea' 'Guinea-Bissau' 'Guyana' 'Haiti' 'Holy See'\n",
            " 'Honduras' 'Hungary' 'Iceland' 'Indonesia' 'Iran' 'Iraq' 'Ireland'\n",
            " 'Israel' 'Ivory Coast' 'Jamaica' 'Jordan' 'Kazakhstan' 'Kenya' 'Kosovo'\n",
            " 'Kuwait' 'Kyrgyzstan' 'Laos' 'Latvia' 'Lebanon' 'Lesotho' 'Liberia'\n",
            " 'Libya' 'Liechtenstein' 'Lithuania' 'Luxembourg' 'MS Zaandam'\n",
            " 'Madagascar' 'Malawi' 'Malaysia' 'Maldives' 'Mali' 'Malta' 'Mauritania'\n",
            " 'Mauritius' 'Moldova' 'Monaco' 'Mongolia' 'Montenegro' 'Morocco'\n",
            " 'Mozambique' 'Namibia' 'Nepal' 'Netherlands' 'New Zealand' 'Nicaragua'\n",
            " 'Niger' 'Nigeria' 'North Macedonia' 'Norway' 'Oman' 'Panama'\n",
            " 'Papua New Guinea' 'Paraguay' 'Philippines' 'Poland' 'Portugal' 'Qatar'\n",
            " 'Romania' 'Rwanda' 'Saint Kitts and Nevis' 'Saint Lucia'\n",
            " 'Saint Vincent and the Grenadines' 'San Marino' 'Sao Tome and Principe'\n",
            " 'Saudi Arabia' 'Senegal' 'Serbia' 'Seychelles' 'Sierra Leone' 'Singapore'\n",
            " 'Slovakia' 'Slovenia' 'Somalia' 'South Africa' 'South Korea'\n",
            " 'South Sudan' 'Sri Lanka' 'Sudan' 'Suriname' 'Switzerland' 'Syria'\n",
            " 'Taiwan' 'Tajikistan' 'Tanzania' 'Thailand' 'Timor-Leste' 'Togo'\n",
            " 'Trinidad and Tobago' 'Tunisia' 'Turkey' 'Uganda' 'United Arab Emirates'\n",
            " 'Uruguay' 'Uzbekistan' 'Venezuela' 'Vietnam' 'West Bank and Gaza'\n",
            " 'Western Sahara' 'Yemen' 'Zambia' 'Zimbabwe' 'Italy' 'Brazil' 'Russia'\n",
            " 'Mexico' 'Japan' 'US' 'Canada' 'Colombia' 'Peru' 'Spain' 'India' 'UK'\n",
            " 'Mainland China' 'Chile' 'Australia' 'Pakistan' 'Germany' 'Sweden'\n",
            " 'Ukraine' 'Hong Kong' 'Macau']\n"
          ]
        }
      ]
    },
    {
      "cell_type": "markdown",
      "source": [
        "#Task 3"
      ],
      "metadata": {
        "id": "DSGKEHZZXrjH"
      }
    },
    {
      "cell_type": "code",
      "source": [
        "top_10 = updated_data.sort_values( by=\"Confirmed\", ascending=False).iloc[ 0:10, [3,5,6,7]]\n",
        "print(top_10)\n",
        "print(\"\\n\",top_10[\"Country/Region\"].unique())\n",
        "\n",
        "print()\n",
        "top_10_grps= top_10.groupby(\"Country/Region\").Confirmed.sum().sort_values(ascending=True)\n",
        "print(top_10_grps)\n",
        "print(\"\\nCountries with lowest number of confirmed cases: UK\")"
      ],
      "metadata": {
        "colab": {
          "base_uri": "https://localhost:8080/"
        },
        "id": "auuOnECjXtNW",
        "outputId": "63d41ef1-5867-4a4c-d1b4-e2bb0cb5c5e2"
      },
      "execution_count": null,
      "outputs": [
        {
          "output_type": "stream",
          "name": "stdout",
          "text": [
            "      Country/Region  Confirmed   Deaths  Recovered\n",
            "40577             US   381714.0  30758.0        0.0\n",
            "40556         Russia   202935.0   3187.0   118024.0\n",
            "40131         France   188918.0  29315.0    69578.0\n",
            "40148           Iran   182525.0   8659.0   144649.0\n",
            "40233         Turkey   175218.0   4778.0   149102.0\n",
            "40678         Brazil   167900.0  10368.0    49295.0\n",
            "40574             US   166164.0  12489.0        0.0\n",
            "40377             UK   156410.0  37069.0        0.0\n",
            "40320             US   146659.0   4978.0        0.0\n",
            "40437             US   131198.0   6260.0        0.0\n",
            "\n",
            " ['US' 'Russia' 'France' 'Iran' 'Turkey' 'Brazil' 'UK']\n",
            "\n",
            "Country/Region\n",
            "UK        156410.0\n",
            "Brazil    167900.0\n",
            "Turkey    175218.0\n",
            "Iran      182525.0\n",
            "France    188918.0\n",
            "Russia    202935.0\n",
            "US        825735.0\n",
            "Name: Confirmed, dtype: float64\n",
            "\n",
            "Countries with lowest number of confirmed cases: UK\n"
          ]
        }
      ]
    },
    {
      "cell_type": "markdown",
      "source": [
        "#Task 4"
      ],
      "metadata": {
        "id": "kpXhrl33XtuE"
      }
    },
    {
      "cell_type": "code",
      "source": [
        "top_10[\"Recovered_percentage\"] = top_10[\"Recovered\"]/top_10[\"Confirmed\"]*100\n",
        "top_10[\"Deaths_percentage\"] = top_10[\"Deaths\"]/top_10[\"Confirmed\"]*100\n",
        "print(top_10)\n",
        "\n",
        "sorted_byRate = top_10.sort_values( by=\"Recovered_percentage\",ascending=False)\n",
        "print(sorted_byRate[\"Country/Region\"].head(3))"
      ],
      "metadata": {
        "colab": {
          "base_uri": "https://localhost:8080/"
        },
        "id": "IwQNXXiVXvJ9",
        "outputId": "543b3045-6973-4323-afdb-4dd92076b018"
      },
      "execution_count": null,
      "outputs": [
        {
          "output_type": "stream",
          "name": "stdout",
          "text": [
            "      Country/Region  Confirmed  ...  Recovered_percentage  Deaths_percentage\n",
            "40577             US   381714.0  ...              0.000000           8.057865\n",
            "40556         Russia   202935.0  ...             58.158524           1.570454\n",
            "40131         France   188918.0  ...             36.829736          15.517314\n",
            "40148           Iran   182525.0  ...             79.248870           4.744008\n",
            "40233         Turkey   175218.0  ...             85.095139           2.726889\n",
            "40678         Brazil   167900.0  ...             29.359738           6.175104\n",
            "40574             US   166164.0  ...              0.000000           7.516068\n",
            "40377             UK   156410.0  ...              0.000000          23.699891\n",
            "40320             US   146659.0  ...              0.000000           3.394268\n",
            "40437             US   131198.0  ...              0.000000           4.771414\n",
            "\n",
            "[10 rows x 6 columns]\n",
            "40233    Turkey\n",
            "40148      Iran\n",
            "40556    Russia\n",
            "Name: Country/Region, dtype: object\n"
          ]
        }
      ]
    }
  ]
}
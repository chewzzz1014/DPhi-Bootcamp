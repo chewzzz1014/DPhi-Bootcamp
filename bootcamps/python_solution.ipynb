{
  "nbformat": 4,
  "nbformat_minor": 0,
  "metadata": {
    "colab": {
      "name": "python_solution.ipynb",
      "provenance": []
    },
    "kernelspec": {
      "name": "python3",
      "display_name": "Python 3"
    },
    "language_info": {
      "name": "python"
    }
  },
  "cells": [
    {
      "cell_type": "markdown",
      "source": [
        "#Task 1"
      ],
      "metadata": {
        "id": "5rFFJ2g-2W4f"
      }
    },
    {
      "cell_type": "code",
      "execution_count": null,
      "metadata": {
        "id": "PMbho10V2Uwz"
      },
      "outputs": [],
      "source": [
        "T = ('python',)*5\n"
      ]
    },
    {
      "cell_type": "markdown",
      "source": [
        "#Task 2"
      ],
      "metadata": {
        "id": "K7DxnABK3xt0"
      }
    },
    {
      "cell_type": "code",
      "source": [
        "getStr = input(\"Input string: \")\n",
        "for i in getStr[0:len(getStr):2]:\n",
        "  print(i)"
      ],
      "metadata": {
        "id": "9Y96eVV02gGG"
      },
      "execution_count": null,
      "outputs": []
    },
    {
      "cell_type": "markdown",
      "source": [
        "#Task 3"
      ],
      "metadata": {
        "id": "s-Dyt1A031rS"
      }
    },
    {
      "cell_type": "code",
      "source": [
        "elements = [5,7,4,9,3,2]\n",
        "avg = sum(elements)/len(elements)\n",
        "print(\"Average\",avg)"
      ],
      "metadata": {
        "id": "IjKMEbk535zj"
      },
      "execution_count": null,
      "outputs": []
    },
    {
      "cell_type": "markdown",
      "source": [
        "#Task 4"
      ],
      "metadata": {
        "id": "OxIwhs5T4Q2f"
      }
    },
    {
      "cell_type": "code",
      "source": [
        "year = int(input(\"Enter year: \"))\n",
        "if ((year%4==0 and year%100!=0) or year%400==0):\n",
        "  print(year,\"is leap year.\")\n",
        "else:\n",
        "  print(year,\"is not leap year.\")"
      ],
      "metadata": {
        "id": "STExhe0_4Sq_"
      },
      "execution_count": null,
      "outputs": []
    },
    {
      "cell_type": "markdown",
      "source": [
        "#Taks5"
      ],
      "metadata": {
        "id": "yxl1xBoTIDuh"
      }
    },
    {
      "cell_type": "code",
      "source": [
        "l = [21, 6, 12, 57, 35, 61]\n",
        "l.remove(max(l))\n",
        "l.remove(min(l))\n",
        "print(\"Second maximum:\",max(l))\n",
        "print(\"Second minimum:\",min(l))\n",
        "print(\"Sum of second maximum and second minimum:\", (max(l)+min(l)) )"
      ],
      "metadata": {
        "id": "zVIdOnoBIFW0"
      },
      "execution_count": null,
      "outputs": []
    }
  ]
}